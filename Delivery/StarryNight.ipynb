{
 "cells": [
  {
   "cell_type": "markdown",
   "source": [
    "# StarryNight\n",
    "\n",
    "## Team Members\n",
    "- 902011, Moleri Andrea, a.moleri@campus.unimib.it\n",
    "- 856114, Costantini Davide, d.costantini6@campus.unimib.it\n",
    "- 865939, Armani Filippo, f.armani1@campus.unimib.it\n",
    "\n",
    "## Description of the Reference Domain and Objectives\n",
    "\n",
    "The StarryNight project aims to construct a star classification system utilizing machine learning techniques acquired during the course of the Machine Learning curriculum. The primary objective is to demonstrate that stars adhere to a discernible pattern, specifically referred to as the Hertzsprung-Russell Diagram or HR-Diagram. This diagram serves as the basis for classifying stars by plotting their features, providing valuable insights into their characteristics.\n",
    "\n",
    "## Design Choices for Dataset Creation, Hypotheses, and Assumptions\n",
    "\n",
    "![image](https://github.com/andreamoleri/StarryNight/blob/94a4b534ed5eeaec4191aca996eade09c72da697/Images/Spectral%20Class%20Diagram.png) \n",
    "\n",
    "In crafting the dataset, we assume that stars exhibit identifiable patterns in their features, allowing for meaningful classification. The HR-Diagram will be employed as the guiding framework for the classification system. The dataset will encompass a range of features crucial for classification:\n",
    "\n",
    "- **Absolute Temperature**: the absolute temperature of a celestial body, denoted by the symbol $T$, is measured in Kelvin $(K)$. It represents the temperature of the body on the Kelvin scale, an absolute temperature scale where $0K$ corresponds to absolute zero, the theoretical lowest temperature possible. Absolute temperature is a fundamental parameter in astrophysics and is crucial for understanding the thermodynamic characteristics of celestial objects.\n",
    "\n",
    "- **Relative Luminosity**: relative luminosity, expressed as $L/L_o$, denotes the ratio of a celestial body's luminosity $(L)$ to the solar luminosity $(L_o)$. Luminosity is the total amount of energy radiated by the object per unit time. This dimensionless quantity provides insights into the intrinsic brightness of a celestial body relative to the Sun, serving as a key metric for comparative stellar analyses.\n",
    "\n",
    "- **Relative Radius**: the relative radius, denoted by $R/R_o$, represents the ratio of a celestial body's radius $(R)$ to the solar radius $(R_o)$. This dimensionless parameter is essential in characterizing the size of celestial bodies, facilitating the comparison of their physical dimensions relative to the Sun, which serves as a standard reference.\n",
    "\n",
    "- **Absolute Magnitude**: absolute magnitude $(M_v)$ is a measure of the intrinsic brightness of a celestial object as it would appear if placed at a standard distance of 10 parsecs from an observer. This parameter is defined on the logarithmic scale, and its determination involves corrections for both distance and interstellar extinction. Absolute magnitude enables astronomers to assess the true luminosity of celestial bodies independent of their varying distances from Earth.\n",
    "\n",
    "- **Star Color**: the term \"Star Color\" refers to the visual perception of a celestial object's hue as observed from Earth. This qualitative characteristic is attributed to the dominant wavelengths emitted by the star's surface. Common colors include white, red, blue, yellow, and yellow-orange. The analysis of star color provides valuable information about the temperature and composition of a star's outer layers.\n",
    "\n",
    "- **Spectral Class**: spectral class categorizes stars based on their spectral characteristics, primarily determined by the temperature of their surfaces. The spectral sequence, from hottest to coolest, is denoted by the letters $O, B, A, F, G, K$, and $M$. This classification system aids astronomers in classifying stars and understanding their fundamental properties, such as temperature, luminosity, and chemical composition.\n",
    "\n",
    "- **Star Type**: star type refers to the broader categorization of celestial objects based on their evolutionary stage and physical characteristics. This classification includes Red Dwarfs, which are low-mass and long-lived stars; Brown Dwarfs, substellar objects not massive enough to sustain nuclear fusion; White Dwarfs, remnants of low to medium-mass stars; Main Sequence stars, like our Sun, undergoing hydrogen fusion; SuperGiants, massive and luminous stars; and HyperGiants, the most massive and intrinsically bright stars in the stellar hierarchy. Understanding star types is crucial for comprehending the diverse life cycles of stars in the cosmos.\n",
    "\n",
    "The designated target for our classification endeavors will be the **Star Type**. The following definitions apply:\n",
    "\n",
    "- $Lo = 3.828 * 10^{26}~Watts$ _(Average Luminosity of the Sun)_\n",
    "- $Ro = 6.9551 * 10^{8}~m$ _(Average Radius of the Sun)_\n",
    "\n",
    "What follows is the preliminary formatting of the dataset, that ensures that all of the considered istances have correct and well-formatted values. "
   ],
   "metadata": {
    "collapsed": false
   },
   "id": "9a3788d1d49ac973"
  },
  {
   "cell_type": "code",
   "execution_count": 5,
   "id": "initial_id",
   "metadata": {
    "collapsed": true,
    "ExecuteTime": {
     "end_time": "2023-12-12T13:41:46.346171Z",
     "start_time": "2023-12-12T13:41:46.293168Z"
    }
   },
   "outputs": [],
   "source": [
    "# Importing the necessary dependencies\n",
    "import pandas as pd\n",
    "\n",
    "# Reading the dataset from a CSV file\n",
    "df = pd.read_csv(\"Delivery/StarsDataset.csv\")\n",
    "\n",
    "# Converting each color to uppercase for consistency, removing leading and \n",
    "# trailing whitespaces, and replacing spaces with hyphens to ensure uniformity\n",
    "df[\"Star color\"] = [color.upper().strip().replace(\" \", \"-\") for color in df[\"Star color\"]]"
   ]
  }
 ],
 "metadata": {
  "kernelspec": {
   "display_name": "Python 3",
   "language": "python",
   "name": "python3"
  },
  "language_info": {
   "codemirror_mode": {
    "name": "ipython",
    "version": 2
   },
   "file_extension": ".py",
   "mimetype": "text/x-python",
   "name": "python",
   "nbconvert_exporter": "python",
   "pygments_lexer": "ipython2",
   "version": "2.7.6"
  }
 },
 "nbformat": 4,
 "nbformat_minor": 5
}
