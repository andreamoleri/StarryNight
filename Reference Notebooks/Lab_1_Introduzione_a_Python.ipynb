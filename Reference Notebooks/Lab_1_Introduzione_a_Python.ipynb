{
 "nbformat": 4,
 "nbformat_minor": 0,
 "metadata": {
  "colab": {
   "provenance": []
  },
  "kernelspec": {
   "name": "python3",
   "display_name": "Python 3"
  },
  "language_info": {
   "name": "python"
  }
 },
 "cells": [
  {
   "cell_type": "markdown",
   "source": [
    "# Introduzione a Python"
   ],
   "metadata": {
    "id": "-UPqyys0F2zo"
   }
  },
  {
   "cell_type": "code",
   "execution_count": null,
   "outputs": [],
   "source": [],
   "metadata": {
    "collapsed": false
   }
  },
  {
   "cell_type": "markdown",
   "source": [
    "# Cos'è Python?\n",
    "\n",
    "Python è un linguaggio di programmazione ad alto livello, orientato agli oggetti, che è stato sviluppato da Guido van Rossum negli anni '90. Python è noto per essere un linguaggio di facile apprendimento e utilizzo, grazie alla sua sintassi pulita e alla vasta gamma di librerie disponibili.\n",
    "\n",
    "Python può essere utilizzato per una vasta gamma di scopi, tra cui lo sviluppo web, la data science, l'elaborazione delle immagini e molto altro."
   ],
   "metadata": {
    "id": "AiUDjMcIHUTg"
   }
  },
  {
   "cell_type": "markdown",
   "source": [
    "# Installazione di Python\n",
    "\n",
    "Sebbene sia possibile utilizzare Python sfruttando un inteprete online come https://colab.research.google.com, è sempre possibile programmre in Python in locale sul proprio PC.\n",
    "\n",
    "Per fare ciò, è necessario installare l'interprete Python. Ci sono diverse opzioni disponibili per l'installazione, ma una delle più semplici è quella di scaricare e installare l'ultima versione di Python dal sito web ufficiale di Python: https://www.python.org/downloads/.\n",
    "\n",
    "Dopo aver installato Python, è possibile accedere al prompt di Python. Il prompt di Python è un'interfaccia a riga di comando in cui è possibile inserire e eseguire istruzioni Python.\n",
    "\n",
    "Per accedere al prompt di Python, apri il terminale o il prompt dei comandi del tuo computer e digita python o python3 (a seconda della versione di Python che hai installato).\n",
    "\n",
    "Una volta avviato il prompt di Python, puoi iniziare a inserire istruzioni Python. Ad esempio, digita print(\"Hello, world!\") e premi Invio. Il prompt di Python dovrebbe restituire \"Hello, world!\" come output.\n",
    "\n",
    "Nel caso di un interprete online, come Google Colab, basterà inserire il codice in una cella e premere il pulsante \"play\". Qui un esempio:"
   ],
   "metadata": {
    "id": "Tz_Osin1HnSm"
   }
  },
  {
   "cell_type": "code",
   "source": [
    "print(\"Hello, world!\")"
   ],
   "metadata": {
    "colab": {
     "base_uri": "https://localhost:8080/"
    },
    "id": "Ffgldjc3Iqhf",
    "outputId": "5f34e353-2145-4e9b-9726-788ab3eae0ed",
    "executionInfo": {
     "status": "ok",
     "timestamp": 1700412064401,
     "user_tz": -60,
     "elapsed": 20,
     "user": {
      "displayName": "Davide Costantini",
      "userId": "04876007539952493084"
     }
    }
   },
   "execution_count": 60,
   "outputs": [
    {
     "output_type": "stream",
     "name": "stdout",
     "text": [
      "Hello, world!\n"
     ]
    }
   ]
  },
  {
   "cell_type": "markdown",
   "source": [
    "# Le basi di Python"
   ],
   "metadata": {
    "id": "5LW2vbpsHna9"
   }
  },
  {
   "cell_type": "markdown",
   "source": [
    "## Variabili\n",
    "In Python, una variabile è un contenitore per un valore. Per assegnare un valore a una variabile, utilizziamo l'operatore di assegnazione \"=\".\n",
    "\n",
    "Ad esempio, il seguente codice assegna il valore \"42\" alla variabile \"x\":"
   ],
   "metadata": {
    "id": "m5rL9FJ_Hnd5"
   }
  },
  {
   "cell_type": "code",
   "execution_count": 61,
   "metadata": {
    "colab": {
     "base_uri": "https://localhost:8080/"
    },
    "id": "Vhl0dT2NFsTw",
    "outputId": "37ca4876-a2a1-4839-cfd8-bd212a0b3195",
    "executionInfo": {
     "status": "ok",
     "timestamp": 1700412064402,
     "user_tz": -60,
     "elapsed": 20,
     "user": {
      "displayName": "Davide Costantini",
      "userId": "04876007539952493084"
     }
    }
   },
   "outputs": [
    {
     "output_type": "execute_result",
     "data": {
      "text/plain": [
       "42"
      ]
     },
     "metadata": {},
     "execution_count": 61
    }
   ],
   "source": [
    "x = 42\n",
    "x"
   ]
  },
  {
   "cell_type": "markdown",
   "source": [
    "## Tipi di dati\n",
    "In Python, ci sono diversi tipi di dati, tra cui:\n",
    "\n",
    "\n",
    "*   Integers: numeri interi, come 1, 2, 3, ecc.\n",
    "*   Floats: numeri decimali, come 3.14, 2.718, ecc.\n",
    "* Strings: sequenze di caratteri, come \"Hello, world!\"\n",
    "* Booleans: valori di verità, True o False\n",
    "\n",
    "Per determinare il tipo di dati di una variabile, è possibile utilizzare la funzione type(). Ad esempio, il seguente codice restituisce **<class 'int'>**, che indica che la variabile \"x\" è un integer:"
   ],
   "metadata": {
    "id": "I28VgLvlJLCp"
   }
  },
  {
   "cell_type": "code",
   "source": [
    "print(type(x))"
   ],
   "metadata": {
    "colab": {
     "base_uri": "https://localhost:8080/"
    },
    "id": "CtK7amHNJGgL",
    "outputId": "ca753490-adc4-43ee-fee0-e53cfc56979e",
    "executionInfo": {
     "status": "ok",
     "timestamp": 1700412064402,
     "user_tz": -60,
     "elapsed": 15,
     "user": {
      "displayName": "Davide Costantini",
      "userId": "04876007539952493084"
     }
    }
   },
   "execution_count": 62,
   "outputs": [
    {
     "output_type": "stream",
     "name": "stdout",
     "text": [
      "<class 'int'>\n"
     ]
    }
   ]
  },
  {
   "cell_type": "markdown",
   "source": [
    "Per convertire una variabile da un tipo ad un altro, si procede nel seguente modo."
   ],
   "metadata": {
    "id": "MmQ5x2YaV4nQ"
   }
  },
  {
   "cell_type": "code",
   "source": [
    "x = 2\n",
    "print(type(x))\n",
    "x = str(2)\n",
    "print(type(x))"
   ],
   "metadata": {
    "colab": {
     "base_uri": "https://localhost:8080/"
    },
    "id": "rzd3xxGjV3E2",
    "outputId": "0d06f440-def1-49f7-9bf2-76512fdc8cfb",
    "executionInfo": {
     "status": "ok",
     "timestamp": 1700412064402,
     "user_tz": -60,
     "elapsed": 12,
     "user": {
      "displayName": "Davide Costantini",
      "userId": "04876007539952493084"
     }
    }
   },
   "execution_count": 63,
   "outputs": [
    {
     "output_type": "stream",
     "name": "stdout",
     "text": [
      "<class 'int'>\n",
      "<class 'str'>\n"
     ]
    }
   ]
  },
  {
   "cell_type": "markdown",
   "source": [
    "## Operatori\n",
    "In Python, ci sono diversi operatori che possono essere utilizzati per effettuare operazioni su variabili. Alcuni degli operatori più comuni includono:\n",
    "\n",
    "* **\\+** (somma)\n",
    "* **\\-** (sottrazione)\n",
    "* **\\*** (moltiplicazione)\n",
    "* **/** (divisione)\n",
    "* **//** (divisione intera)\n",
    "* **%** (modulo)\n",
    "* ****** (elevamento a potenza)\n",
    "* **=** (assegnazione)\n",
    "\n",
    "Ad esempio, il codice seguente utilizza l'operatore di somma + per sommare due numeri interi e assegnare il risultato alla variabile \"z\":"
   ],
   "metadata": {
    "id": "jyf13j_9Jenp"
   }
  },
  {
   "cell_type": "code",
   "source": [
    "x = 10\n",
    "y = 20\n",
    "z = x + y\n",
    "print(z)"
   ],
   "metadata": {
    "colab": {
     "base_uri": "https://localhost:8080/"
    },
    "id": "yeI_PzNXJe1J",
    "outputId": "f6c6d6b6-1783-4d69-a1f5-e03b714c582c",
    "executionInfo": {
     "status": "ok",
     "timestamp": 1700412064402,
     "user_tz": -60,
     "elapsed": 9,
     "user": {
      "displayName": "Davide Costantini",
      "userId": "04876007539952493084"
     }
    }
   },
   "execution_count": 64,
   "outputs": [
    {
     "output_type": "stream",
     "name": "stdout",
     "text": [
      "30\n"
     ]
    }
   ]
  },
  {
   "cell_type": "markdown",
   "source": [
    "## Strutture dati\n",
    "In Python, ci sono diverse strutture dati che possono essere utilizzate per organizzare e gestire i dati. Alcune delle strutture dati più comuni includono:\n",
    "\n",
    "* **List**: una sequenza ordinata di elementi, racchiusi tra parentesi quadre, come [1, 2, 3]\n",
    "* **Tuple**: una sequenza ordinata di elementi immutabili, racchiusi tra parentesi tonde, come (1, 2, 3)\n",
    "* **Set**: una raccolta non ordinata di elementi unici, racchiusi tra parentesi graffe, come {1, 2, 3}\n",
    "* **Dictionary**: una raccolta di coppie chiave-valore, racchiusi tra parentesi graffe, come {'nome': 'Mario', 'età': 30}\n",
    "\n",
    "Ad esempio, il seguente codice crea una lista di numeri, aggiunge un nuovo numero alla lista e stampa la lunghezza della lista:"
   ],
   "metadata": {
    "id": "SlewBrxgJ0_R"
   }
  },
  {
   "cell_type": "code",
   "source": [
    "numeri = [1, 2, 3, 4, 5]\n",
    "numeri.append(6)\n",
    "print(len(numeri))"
   ],
   "metadata": {
    "colab": {
     "base_uri": "https://localhost:8080/"
    },
    "id": "fu_80vA0J1Gn",
    "outputId": "90bbe9c8-3107-43bc-aa8e-56976083f06f",
    "executionInfo": {
     "status": "ok",
     "timestamp": 1700412064402,
     "user_tz": -60,
     "elapsed": 5,
     "user": {
      "displayName": "Davide Costantini",
      "userId": "04876007539952493084"
     }
    }
   },
   "execution_count": 65,
   "outputs": [
    {
     "output_type": "stream",
     "name": "stdout",
     "text": [
      "6\n"
     ]
    }
   ]
  },
  {
   "cell_type": "markdown",
   "source": [
    "Come ulteriore esempio, il seguente codice recupera il valore associato ad una chiave in un dizionario. Il valore, in questo caso, è una lista di numeri."
   ],
   "metadata": {
    "id": "5JujLFiRTjba"
   }
  },
  {
   "cell_type": "code",
   "source": [
    "dizionario = {\"chiave\" : [2, 12.5, 33]}\n",
    "print(dizionario[\"chiave\"])"
   ],
   "metadata": {
    "colab": {
     "base_uri": "https://localhost:8080/"
    },
    "id": "zqA3uNaxTi72",
    "outputId": "bb1d7bab-d959-4ff8-964b-425a3ff1980f",
    "executionInfo": {
     "status": "ok",
     "timestamp": 1700412064792,
     "user_tz": -60,
     "elapsed": 392,
     "user": {
      "displayName": "Davide Costantini",
      "userId": "04876007539952493084"
     }
    }
   },
   "execution_count": 66,
   "outputs": [
    {
     "output_type": "stream",
     "name": "stdout",
     "text": [
      "[2, 12.5, 33]\n"
     ]
    }
   ]
  },
  {
   "cell_type": "markdown",
   "source": [
    "Il seguente codice mostra come fare l'intersezione tra due insiemi."
   ],
   "metadata": {
    "id": "aSIPbS5uVhIp"
   }
  },
  {
   "cell_type": "code",
   "source": [
    "a = set([1, 4, 6])\n",
    "b = set([5, 4, 3, 6])\n",
    "print(a.intersection(b))"
   ],
   "metadata": {
    "colab": {
     "base_uri": "https://localhost:8080/"
    },
    "id": "vAoeCGNdVmP-",
    "outputId": "081c4174-a883-4600-d4a4-c79eda5f87be",
    "executionInfo": {
     "status": "ok",
     "timestamp": 1700412064792,
     "user_tz": -60,
     "elapsed": 30,
     "user": {
      "displayName": "Davide Costantini",
      "userId": "04876007539952493084"
     }
    }
   },
   "execution_count": 67,
   "outputs": [
    {
     "output_type": "stream",
     "name": "stdout",
     "text": [
      "{4, 6}\n"
     ]
    }
   ]
  },
  {
   "cell_type": "markdown",
   "source": [
    "##Controllo del flusso\n",
    "In Python, è possibile utilizzare le istruzioni di controllo del flusso per decidere quali istruzioni eseguire in base a determinate condizioni. Alcune delle istruzioni di controllo del flusso più comuni includono:\n",
    "\n",
    "* **if**: esegue un blocco di codice se una determinata condizione è vera\n",
    "* **else**: esegue un blocco di codice se la condizione nell'if è falsa\n",
    "* **elif**: esegue un blocco di codice se una condizione diversa dall'if è vera\n",
    "* **for**: esegue un blocco di codice per ogni elemento in una sequenza\n",
    "* **while**: esegue un blocco di codice fintanto che una determinata condizione è vera\n",
    "\n",
    "Ad esempio, il seguente codice utilizza un'istruzione if per stampare un messaggio diverso in base al valore della variabile \"x\":"
   ],
   "metadata": {
    "id": "0XXd6aZCKEgP"
   }
  },
  {
   "cell_type": "code",
   "source": [
    "x = 0\n",
    "if x > 0:\n",
    "    print(\"x è positivo\")\n",
    "elif x == 0:\n",
    "  print(\"x è nullo\")\n",
    "else:\n",
    "    print(\"x è negativo\")"
   ],
   "metadata": {
    "colab": {
     "base_uri": "https://localhost:8080/"
    },
    "id": "CIxVsBgXJ-3Y",
    "outputId": "7c25bc22-72ff-4579-8261-7655f058985a",
    "executionInfo": {
     "status": "ok",
     "timestamp": 1700412064792,
     "user_tz": -60,
     "elapsed": 25,
     "user": {
      "displayName": "Davide Costantini",
      "userId": "04876007539952493084"
     }
    }
   },
   "execution_count": 68,
   "outputs": [
    {
     "output_type": "stream",
     "name": "stdout",
     "text": [
      "x è nullo\n"
     ]
    }
   ]
  },
  {
   "cell_type": "markdown",
   "source": [
    "Invece, i codici seguenti mostrano come creare dei cicli for o while."
   ],
   "metadata": {
    "id": "p5ys8qogUWXV"
   }
  },
  {
   "cell_type": "code",
   "source": [
    "lista_valori = [1, 5, 4, 3, 6]\n",
    "for valore in lista_valori:\n",
    "  if valore == 4:\n",
    "    print(\"Ho trovato il valore 4!\")"
   ],
   "metadata": {
    "colab": {
     "base_uri": "https://localhost:8080/"
    },
    "id": "uMa-_Xk1UWl9",
    "outputId": "65823be2-bc07-4175-ce3d-23f37db76204",
    "executionInfo": {
     "status": "ok",
     "timestamp": 1700412064792,
     "user_tz": -60,
     "elapsed": 21,
     "user": {
      "displayName": "Davide Costantini",
      "userId": "04876007539952493084"
     }
    }
   },
   "execution_count": 69,
   "outputs": [
    {
     "output_type": "stream",
     "name": "stdout",
     "text": [
      "Ho trovato il valore 4!\n"
     ]
    }
   ]
  },
  {
   "cell_type": "code",
   "source": [
    "lista_valori = [1, 5, 4, 3, 6]\n",
    "for i in range(0, len(lista_valori)):\n",
    "  if lista_valori[i] == 4:\n",
    "    print(\"Ho trovato il valore 4! E si trova in posizione \" + str(i) + \" nella lista!\")"
   ],
   "metadata": {
    "colab": {
     "base_uri": "https://localhost:8080/"
    },
    "id": "imtslZFxU4Tu",
    "outputId": "184a114d-16d5-44fe-88ce-7c07a895456d",
    "executionInfo": {
     "status": "ok",
     "timestamp": 1700412064792,
     "user_tz": -60,
     "elapsed": 17,
     "user": {
      "displayName": "Davide Costantini",
      "userId": "04876007539952493084"
     }
    }
   },
   "execution_count": 70,
   "outputs": [
    {
     "output_type": "stream",
     "name": "stdout",
     "text": [
      "Ho trovato il valore 4! E si trova in posizione 2 nella lista!\n"
     ]
    }
   ]
  },
  {
   "cell_type": "code",
   "source": [
    "lista_valori = [1, 5, 4, 3, 6]\n",
    "i = 0\n",
    "while i < len(lista_valori):\n",
    "  if lista_valori[i] == 4:\n",
    "    print(\"Ho trovato il valore 4! E si trova in posizione \" + str(i) + \" nella lista!\")\n",
    "  i += 1"
   ],
   "metadata": {
    "colab": {
     "base_uri": "https://localhost:8080/"
    },
    "id": "MzBTrpZ1VQmu",
    "outputId": "e9f0203b-a891-4abd-d4fe-02132d471ed8",
    "executionInfo": {
     "status": "ok",
     "timestamp": 1700412064793,
     "user_tz": -60,
     "elapsed": 13,
     "user": {
      "displayName": "Davide Costantini",
      "userId": "04876007539952493084"
     }
    }
   },
   "execution_count": 71,
   "outputs": [
    {
     "output_type": "stream",
     "name": "stdout",
     "text": [
      "Ho trovato il valore 4! E si trova in posizione 2 nella lista!\n"
     ]
    }
   ]
  },
  {
   "cell_type": "markdown",
   "source": [
    "## Operazioni booleane"
   ],
   "metadata": {
    "id": "akkprYVjiVA1"
   }
  },
  {
   "cell_type": "markdown",
   "source": [
    "In Python, è possibile manipolare e valutare espressioni booleane. Nella sezione abbiamo visto qualche espressione booleana semplice, come verificare che un numero fosse minore, maggiore o uguale a zero. Ma è possibile anche costruire espressioni booleane complesse, tramite i connettori logici AND, OR e NOT."
   ],
   "metadata": {
    "id": "PUx6NwMAiYXy"
   }
  },
  {
   "cell_type": "code",
   "source": [
    "x = 2\n",
    "if x == 0 or x > 0:\n",
    "  print(f\"{x} è maggiore o uguale a 0\")"
   ],
   "metadata": {
    "colab": {
     "base_uri": "https://localhost:8080/"
    },
    "id": "jVV-6PjMiXj1",
    "outputId": "497bdda8-3af0-4971-bfe6-4da5503ecee5",
    "executionInfo": {
     "status": "ok",
     "timestamp": 1700412064793,
     "user_tz": -60,
     "elapsed": 10,
     "user": {
      "displayName": "Davide Costantini",
      "userId": "04876007539952493084"
     }
    }
   },
   "execution_count": 72,
   "outputs": [
    {
     "output_type": "stream",
     "name": "stdout",
     "text": [
      "2 è maggiore o uguale a 0\n"
     ]
    }
   ]
  },
  {
   "cell_type": "markdown",
   "source": [
    "##Funzioni\n",
    "In Python, una funzione è un blocco di codice che può essere richiamato da altre parti del programma. Le funzioni sono utili per ripetere il codice e per organizzare il codice in modo più chiaro e leggibile.\n",
    "\n",
    "Per definire una funzione, utilizziamo la parola chiave **def**, seguita dal nome della funzione e da eventuali parametri che la funzione accetta. All'interno della funzione, specificare il codice da eseguire quando la funzione viene chiamata.\n",
    "\n",
    "Ad esempio, il seguente codice definisce una funzione che accetta un numero come parametro e restituisce il quadrato di quel numero:"
   ],
   "metadata": {
    "id": "Yw77lCqVKQz_"
   }
  },
  {
   "cell_type": "code",
   "source": [
    "def quadrato(x):\n",
    "    return x ** 2\n",
    "\n",
    "print(quadrato(5))"
   ],
   "metadata": {
    "colab": {
     "base_uri": "https://localhost:8080/"
    },
    "id": "yosGRiCDKRJv",
    "outputId": "2c38d1a9-ebc9-484b-b13f-8d9b44c10269",
    "executionInfo": {
     "status": "ok",
     "timestamp": 1700412064793,
     "user_tz": -60,
     "elapsed": 6,
     "user": {
      "displayName": "Davide Costantini",
      "userId": "04876007539952493084"
     }
    }
   },
   "execution_count": 73,
   "outputs": [
    {
     "output_type": "stream",
     "name": "stdout",
     "text": [
      "25\n"
     ]
    }
   ]
  },
  {
   "cell_type": "markdown",
   "source": [
    "## Installazione e import di librerie\n",
    "\n",
    "Fino ad ora abbiamo utilizzato funzioni presenti nella libreria standard di Python. Tuttavia, se si vogliono sfruttare funzionalità avanzate di Python, per esempio fare il training di un modello di Machine Learning, è necessario installare ed importare delle librerie esterne.\n",
    "\n",
    "Per poter fare ciò, si esegue il comando **pip install** seguito dal nome della libreria che si vuole installare. Una volta installata la libreria, è possibile importarla con il comando **import**. Ad esempio:"
   ],
   "metadata": {
    "id": "-DvtKEzLWcnp"
   }
  },
  {
   "cell_type": "code",
   "source": [
    "pip install scikit-learn"
   ],
   "metadata": {
    "colab": {
     "base_uri": "https://localhost:8080/"
    },
    "id": "bKfTJquaWqGL",
    "outputId": "bb30b60d-4550-4570-b80a-efcd0bed75b3",
    "executionInfo": {
     "status": "ok",
     "timestamp": 1700412078049,
     "user_tz": -60,
     "elapsed": 13259,
     "user": {
      "displayName": "Davide Costantini",
      "userId": "04876007539952493084"
     }
    }
   },
   "execution_count": 74,
   "outputs": [
    {
     "output_type": "stream",
     "name": "stdout",
     "text": [
      "Requirement already satisfied: scikit-learn in /usr/local/lib/python3.10/dist-packages (1.2.2)\n",
      "Requirement already satisfied: numpy>=1.17.3 in /usr/local/lib/python3.10/dist-packages (from scikit-learn) (1.23.5)\n",
      "Requirement already satisfied: scipy>=1.3.2 in /usr/local/lib/python3.10/dist-packages (from scikit-learn) (1.11.3)\n",
      "Requirement already satisfied: joblib>=1.1.1 in /usr/local/lib/python3.10/dist-packages (from scikit-learn) (1.3.2)\n",
      "Requirement already satisfied: threadpoolctl>=2.0.0 in /usr/local/lib/python3.10/dist-packages (from scikit-learn) (3.2.0)\n"
     ]
    }
   ]
  },
  {
   "cell_type": "code",
   "source": [
    "import sklearn\n",
    "\n",
    "print(f\"E' stata importata la versione di Scikit-learn seguente: {sklearn.__version__}\")"
   ],
   "metadata": {
    "colab": {
     "base_uri": "https://localhost:8080/"
    },
    "id": "gZls_9fnXj93",
    "outputId": "129ec879-405d-4646-8313-dfaa24131c36",
    "executionInfo": {
     "status": "ok",
     "timestamp": 1700412078049,
     "user_tz": -60,
     "elapsed": 10,
     "user": {
      "displayName": "Davide Costantini",
      "userId": "04876007539952493084"
     }
    }
   },
   "execution_count": 75,
   "outputs": [
    {
     "output_type": "stream",
     "name": "stdout",
     "text": [
      "E' stata importata la versione di Scikit-learn seguente: 1.2.2\n"
     ]
    }
   ]
  },
  {
   "cell_type": "markdown",
   "source": [
    "Come vedremo anche in seguito, **Scikit-Learn** è una delle librerie utilizzate per fare il training di modelli di Machine Learning."
   ],
   "metadata": {
    "id": "dy36RJqWYB-F"
   }
  },
  {
   "cell_type": "markdown",
   "source": [
    "## Link alla documentazione\n",
    "\n",
    "Per ulteriori informazioni su Python, visita la documentazione ufficiale: https://docs.python.org/3/"
   ],
   "metadata": {
    "id": "XZqQX2WdK5Nx"
   }
  },
  {
   "cell_type": "markdown",
   "source": [
    "## Libreria Numpy"
   ],
   "metadata": {
    "id": "CZMsJjssYelL"
   }
  },
  {
   "cell_type": "markdown",
   "source": [
    "**NumPy** è una libreria Python per il calcolo scientifico che fornisce supporto per **array multidimensionali** e **funzioni matematiche avanzate**.\n",
    "\n",
    "Per prima cosa, installiamo la libreria ed importiamola nell'ambiente di sviluppo di Google Colab."
   ],
   "metadata": {
    "id": "k7U6aWZJY6cF"
   }
  },
  {
   "cell_type": "code",
   "source": [
    "pip install numpy"
   ],
   "metadata": {
    "colab": {
     "base_uri": "https://localhost:8080/"
    },
    "id": "mtUPq0JoLB26",
    "outputId": "655c0ba5-a0cb-47c3-ae17-255bc68a94cf",
    "executionInfo": {
     "status": "ok",
     "timestamp": 1700412104126,
     "user_tz": -60,
     "elapsed": 26083,
     "user": {
      "displayName": "Davide Costantini",
      "userId": "04876007539952493084"
     }
    }
   },
   "execution_count": 76,
   "outputs": [
    {
     "output_type": "stream",
     "name": "stdout",
     "text": [
      "Requirement already satisfied: numpy in /usr/local/lib/python3.10/dist-packages (1.23.5)\n"
     ]
    }
   ]
  },
  {
   "cell_type": "markdown",
   "source": [
    "Il seguente comando importa NumPy e lo assegna all'alias \"np\". L'utilizzo di \"np\" come alias è comune nella comunità Python."
   ],
   "metadata": {
    "id": "OCi-HbzAZPWJ"
   }
  },
  {
   "cell_type": "code",
   "source": [
    "import numpy as np"
   ],
   "metadata": {
    "id": "bJmNzentZIjg",
    "executionInfo": {
     "status": "ok",
     "timestamp": 1700412104126,
     "user_tz": -60,
     "elapsed": 21,
     "user": {
      "displayName": "Davide Costantini",
      "userId": "04876007539952493084"
     }
    }
   },
   "execution_count": 77,
   "outputs": []
  },
  {
   "cell_type": "markdown",
   "source": [
    "NumPy consente di creare array multidimensionali di numeri utilizzando la funzione \"array\". Ad esempio, il seguente codice crea un array di numeri casuali da 1 a 3:"
   ],
   "metadata": {
    "id": "KIXMI7YHZY7V"
   }
  },
  {
   "cell_type": "code",
   "source": [
    "arr1d = np.array([1, 2, 3])\n",
    "print(arr1d)"
   ],
   "metadata": {
    "colab": {
     "base_uri": "https://localhost:8080/"
    },
    "id": "VFFybpyoZZgI",
    "outputId": "5440f2bf-ad8f-4662-8cd8-083891a0c614",
    "executionInfo": {
     "status": "ok",
     "timestamp": 1700412104126,
     "user_tz": -60,
     "elapsed": 19,
     "user": {
      "displayName": "Davide Costantini",
      "userId": "04876007539952493084"
     }
    }
   },
   "execution_count": 78,
   "outputs": [
    {
     "output_type": "stream",
     "name": "stdout",
     "text": [
      "[1 2 3]\n"
     ]
    }
   ]
  },
  {
   "cell_type": "markdown",
   "source": [
    "È possibile creare array **multidimensionali** NumPy utilizzando la funzione \"array\". Ad esempio, il seguente codice crea una matrice bidimensionale di numeri casuali:"
   ],
   "metadata": {
    "id": "rsJ_qZzVZgC2"
   }
  },
  {
   "cell_type": "code",
   "source": [
    "arr2d = np.array([[0, 1, 2], [3, 4, 5], [6, 7, 8]])\n",
    "print(arr2d)"
   ],
   "metadata": {
    "colab": {
     "base_uri": "https://localhost:8080/"
    },
    "id": "pOM0PLuaZbC3",
    "outputId": "c132eb8a-8d17-439c-8b63-6f1d3cb949e6",
    "executionInfo": {
     "status": "ok",
     "timestamp": 1700412104127,
     "user_tz": -60,
     "elapsed": 18,
     "user": {
      "displayName": "Davide Costantini",
      "userId": "04876007539952493084"
     }
    }
   },
   "execution_count": 79,
   "outputs": [
    {
     "output_type": "stream",
     "name": "stdout",
     "text": [
      "[[0 1 2]\n",
      " [3 4 5]\n",
      " [6 7 8]]\n"
     ]
    }
   ]
  },
  {
   "cell_type": "markdown",
   "source": [
    "NumPy fornisce funzioni matematiche avanzate che consentono di eseguire operazioni su array NumPy. Ad esempio, il seguente codice esegue una moltiplicazione tra un array 1D e un array 2D, sfruttando la funzione **dot**:"
   ],
   "metadata": {
    "id": "nfEUGMRLZq0z"
   }
  },
  {
   "cell_type": "code",
   "source": [
    "result = np.dot(arr1d, arr2d)\n",
    "print(result)"
   ],
   "metadata": {
    "colab": {
     "base_uri": "https://localhost:8080/"
    },
    "id": "eeG1qHrRZjVu",
    "outputId": "a35e6be5-3108-42f1-befc-3f6527642e4d",
    "executionInfo": {
     "status": "ok",
     "timestamp": 1700412104127,
     "user_tz": -60,
     "elapsed": 11,
     "user": {
      "displayName": "Davide Costantini",
      "userId": "04876007539952493084"
     }
    }
   },
   "execution_count": 80,
   "outputs": [
    {
     "output_type": "stream",
     "name": "stdout",
     "text": [
      "[24 30 36]\n"
     ]
    }
   ]
  },
  {
   "cell_type": "markdown",
   "source": [
    "Questi sono solo alcuni dei concetti di Numpy. E' possibile vedere tutte le altre funzionalità messe a disposizione dalla libreria al seguente link: https://numpy.org/"
   ],
   "metadata": {
    "id": "P9kbGGUdcvNM"
   }
  },
  {
   "cell_type": "markdown",
   "source": [
    "## Libreria Pandas"
   ],
   "metadata": {
    "id": "wkgXBWsfZ9O7"
   }
  },
  {
   "cell_type": "markdown",
   "source": [
    "**Pandas** è una libreria Python per la manipolazione e l'analisi di dati. Permette di avere delle strutture dati analoghe ai **Data Frame** del linguaggio R.\n",
    "\n",
    "Anche in questo caso, installiamo e importiamo la libreria Pandas."
   ],
   "metadata": {
    "id": "nYymzJCFaRTD"
   }
  },
  {
   "cell_type": "code",
   "source": [
    "pip install pandas"
   ],
   "metadata": {
    "colab": {
     "base_uri": "https://localhost:8080/"
    },
    "id": "tKvrFEvYaPNN",
    "outputId": "1472aa63-d2f6-439c-d5d3-831a47025aa9",
    "executionInfo": {
     "status": "ok",
     "timestamp": 1700412113041,
     "user_tz": -60,
     "elapsed": 8920,
     "user": {
      "displayName": "Davide Costantini",
      "userId": "04876007539952493084"
     }
    }
   },
   "execution_count": 81,
   "outputs": [
    {
     "output_type": "stream",
     "name": "stdout",
     "text": [
      "Requirement already satisfied: pandas in /usr/local/lib/python3.10/dist-packages (1.5.3)\n",
      "Requirement already satisfied: python-dateutil>=2.8.1 in /usr/local/lib/python3.10/dist-packages (from pandas) (2.8.2)\n",
      "Requirement already satisfied: pytz>=2020.1 in /usr/local/lib/python3.10/dist-packages (from pandas) (2023.3.post1)\n",
      "Requirement already satisfied: numpy>=1.21.0 in /usr/local/lib/python3.10/dist-packages (from pandas) (1.23.5)\n",
      "Requirement already satisfied: six>=1.5 in /usr/local/lib/python3.10/dist-packages (from python-dateutil>=2.8.1->pandas) (1.16.0)\n"
     ]
    }
   ]
  },
  {
   "cell_type": "code",
   "source": [
    "import pandas as pd"
   ],
   "metadata": {
    "id": "0Alvii0hagUD",
    "executionInfo": {
     "status": "ok",
     "timestamp": 1700412113041,
     "user_tz": -60,
     "elapsed": 9,
     "user": {
      "displayName": "Davide Costantini",
      "userId": "04876007539952493084"
     }
    }
   },
   "execution_count": 82,
   "outputs": []
  },
  {
   "cell_type": "markdown",
   "source": [
    "Il tipo di dato principale di Pandas è il **DataFrame**, che è una struttura dati simile ad una tabella. È possibile creare un DataFrame utilizzando una lista di dizionari o un array NumPy. Ad esempio, il seguente codice crea un DataFrame utilizzando una lista di dizionari:"
   ],
   "metadata": {
    "id": "xshnSulpanJ1"
   }
  },
  {
   "cell_type": "code",
   "source": [
    "data = [\n",
    "    {\"name\": \"Alice\", \"age\": 30, \"city\": \"New York\"},\n",
    "    {\"name\": \"Bob\", \"age\": 25, \"city\": \"Paris\"},\n",
    "    {\"name\": \"Charlie\", \"age\": 35, \"city\": \"London\"}\n",
    "]\n",
    "\n",
    "df = pd.DataFrame(data)\n",
    "print(df)"
   ],
   "metadata": {
    "colab": {
     "base_uri": "https://localhost:8080/"
    },
    "id": "i0D59A-iahn8",
    "outputId": "f0644806-5ba4-43fa-a018-e2367ee7cdf1",
    "executionInfo": {
     "status": "ok",
     "timestamp": 1700412113464,
     "user_tz": -60,
     "elapsed": 431,
     "user": {
      "displayName": "Davide Costantini",
      "userId": "04876007539952493084"
     }
    }
   },
   "execution_count": 83,
   "outputs": [
    {
     "output_type": "stream",
     "name": "stdout",
     "text": [
      "      name  age      city\n",
      "0    Alice   30  New York\n",
      "1      Bob   25     Paris\n",
      "2  Charlie   35    London\n"
     ]
    }
   ]
  },
  {
   "cell_type": "markdown",
   "source": [
    "Pandas consente di manipolare i dati in modi diversi. Ad esempio, il seguente codice seleziona solo le righe in cui l'età è maggiore di 30:"
   ],
   "metadata": {
    "id": "pr1pBcrwaw4M"
   }
  },
  {
   "cell_type": "code",
   "source": [
    "df_filtered = df[df[\"age\"] > 30]\n",
    "print(df_filtered)"
   ],
   "metadata": {
    "colab": {
     "base_uri": "https://localhost:8080/"
    },
    "id": "p3C5P3YcatEV",
    "outputId": "2db39058-0e19-4421-ff0b-f39d33912adb",
    "executionInfo": {
     "status": "ok",
     "timestamp": 1700412113465,
     "user_tz": -60,
     "elapsed": 36,
     "user": {
      "displayName": "Davide Costantini",
      "userId": "04876007539952493084"
     }
    }
   },
   "execution_count": 84,
   "outputs": [
    {
     "output_type": "stream",
     "name": "stdout",
     "text": [
      "      name  age    city\n",
      "2  Charlie   35  London\n"
     ]
    }
   ]
  },
  {
   "cell_type": "markdown",
   "source": [
    " È possibile **aggiungere nuove colonne** a un DataFrame utilizzando il seguente codice:"
   ],
   "metadata": {
    "id": "imDk5dbAa3X5"
   }
  },
  {
   "cell_type": "code",
   "source": [
    "df[\"salary\"] = [50000, 60000, 70000]\n",
    "print(df)"
   ],
   "metadata": {
    "colab": {
     "base_uri": "https://localhost:8080/"
    },
    "id": "Zn6OeJ2ga4wG",
    "outputId": "63ac0c44-3ec3-44de-c7bf-32c6466ad893",
    "executionInfo": {
     "status": "ok",
     "timestamp": 1700412113465,
     "user_tz": -60,
     "elapsed": 35,
     "user": {
      "displayName": "Davide Costantini",
      "userId": "04876007539952493084"
     }
    }
   },
   "execution_count": 85,
   "outputs": [
    {
     "output_type": "stream",
     "name": "stdout",
     "text": [
      "      name  age      city  salary\n",
      "0    Alice   30  New York   50000\n",
      "1      Bob   25     Paris   60000\n",
      "2  Charlie   35    London   70000\n"
     ]
    }
   ]
  },
  {
   "cell_type": "markdown",
   "source": [
    "Lo stesso risultato lo si sarebbe potuto ottenere usando Numpy."
   ],
   "metadata": {
    "id": "MX7Fozyka8vZ"
   }
  },
  {
   "cell_type": "code",
   "source": [
    "df[\"salary\"] = np.array([50000, 60000, 70000])\n",
    "print(df)"
   ],
   "metadata": {
    "colab": {
     "base_uri": "https://localhost:8080/"
    },
    "id": "pWm8kZqka6-c",
    "outputId": "37142162-d274-4072-e7df-577648a573ef",
    "executionInfo": {
     "status": "ok",
     "timestamp": 1700412113465,
     "user_tz": -60,
     "elapsed": 29,
     "user": {
      "displayName": "Davide Costantini",
      "userId": "04876007539952493084"
     }
    }
   },
   "execution_count": 86,
   "outputs": [
    {
     "output_type": "stream",
     "name": "stdout",
     "text": [
      "      name  age      city  salary\n",
      "0    Alice   30  New York   50000\n",
      "1      Bob   25     Paris   60000\n",
      "2  Charlie   35    London   70000\n"
     ]
    }
   ]
  },
  {
   "cell_type": "markdown",
   "source": [
    "In questo esempio, viene creata una nuova colonna \"salary\" nel DataFrame. È possibile **rimuovere una colonna** utilizzando il seguente codice:"
   ],
   "metadata": {
    "id": "g1wd47WybGyO"
   }
  },
  {
   "cell_type": "code",
   "source": [
    "df = df.drop(\"salary\", axis=1) # axis=1 indica che vogliamo rimuovere una colonna\n",
    "print(df)"
   ],
   "metadata": {
    "colab": {
     "base_uri": "https://localhost:8080/"
    },
    "id": "rTXXNmssbDMO",
    "outputId": "d5f38285-3b77-431c-8f18-b2221d60732f",
    "executionInfo": {
     "status": "ok",
     "timestamp": 1700412113465,
     "user_tz": -60,
     "elapsed": 24,
     "user": {
      "displayName": "Davide Costantini",
      "userId": "04876007539952493084"
     }
    }
   },
   "execution_count": 87,
   "outputs": [
    {
     "output_type": "stream",
     "name": "stdout",
     "text": [
      "      name  age      city\n",
      "0    Alice   30  New York\n",
      "1      Bob   25     Paris\n",
      "2  Charlie   35    London\n"
     ]
    }
   ]
  },
  {
   "cell_type": "markdown",
   "source": [
    "Pandas fornisce **funzioni di aggregazione** che consentono di calcolare statistiche sui dati. Ad esempio, il seguente codice calcola la media dell'età delle persone presenti nel DataFrame *df*:"
   ],
   "metadata": {
    "id": "z4uXZ8SobZYW"
   }
  },
  {
   "cell_type": "code",
   "source": [
    "avg_age = df[\"age\"].mean()\n",
    "print(avg_age)"
   ],
   "metadata": {
    "colab": {
     "base_uri": "https://localhost:8080/"
    },
    "id": "-dCG2O7bbO0C",
    "outputId": "2a3e3a38-3117-4bc8-f505-cfc0b8099f06",
    "executionInfo": {
     "status": "ok",
     "timestamp": 1700412113465,
     "user_tz": -60,
     "elapsed": 19,
     "user": {
      "displayName": "Davide Costantini",
      "userId": "04876007539952493084"
     }
    }
   },
   "execution_count": 88,
   "outputs": [
    {
     "output_type": "stream",
     "name": "stdout",
     "text": [
      "30.0\n"
     ]
    }
   ]
  },
  {
   "cell_type": "markdown",
   "source": [
    "Il metodo **groupby** di Pandas consente di raggruppare i dati in base ai valori di una o più colonne e di eseguire operazioni di aggregazione su ciascun gruppo. Ad esempio, il seguente codice raggruppa i pazienti per città e calcola la media dell'età per ciascuna città:"
   ],
   "metadata": {
    "id": "4s-xz9ZIbuaK"
   }
  },
  {
   "cell_type": "code",
   "source": [
    "grouped = df.groupby(\"city\")\n",
    "avg_age_by_city = grouped[\"age\"].mean()\n",
    "print(avg_age_by_city)"
   ],
   "metadata": {
    "colab": {
     "base_uri": "https://localhost:8080/"
    },
    "id": "j6O6QbVJbkWf",
    "outputId": "8b3d6b23-518f-4aad-82a6-3d8c0b40c23f",
    "executionInfo": {
     "status": "ok",
     "timestamp": 1700412113465,
     "user_tz": -60,
     "elapsed": 15,
     "user": {
      "displayName": "Davide Costantini",
      "userId": "04876007539952493084"
     }
    }
   },
   "execution_count": 89,
   "outputs": [
    {
     "output_type": "stream",
     "name": "stdout",
     "text": [
      "city\n",
      "London      35.0\n",
      "New York    30.0\n",
      "Paris       25.0\n",
      "Name: age, dtype: float64\n"
     ]
    }
   ]
  },
  {
   "cell_type": "markdown",
   "source": [
    "Pandas consente di **unire più DataFrame** in uno solo. Ad esempio, il seguente codice unisce due DataFrame basati sulla colonna \"name\":"
   ],
   "metadata": {
    "id": "lAbMpHkWb182"
   }
  },
  {
   "cell_type": "code",
   "source": [
    "df1 = pd.DataFrame({\"name\": [\"Alice\", \"Bob\"], \"age\": [25, 30]})\n",
    "df2 = pd.DataFrame({\"name\": [\"Alice\", \"Charlie\"], \"city\": [\"New York\", \"London\"]})\n",
    "merged = pd.merge(df1, df2, on=\"name\")\n",
    "print(merged)\n",
    "print(df1)\n",
    "print(df2)"
   ],
   "metadata": {
    "colab": {
     "base_uri": "https://localhost:8080/"
    },
    "id": "OIY8jO85bxWp",
    "outputId": "fa65be43-f540-483f-cd28-cab316c54ff4",
    "executionInfo": {
     "status": "ok",
     "timestamp": 1700412113465,
     "user_tz": -60,
     "elapsed": 11,
     "user": {
      "displayName": "Davide Costantini",
      "userId": "04876007539952493084"
     }
    }
   },
   "execution_count": 90,
   "outputs": [
    {
     "output_type": "stream",
     "name": "stdout",
     "text": [
      "    name  age      city\n",
      "0  Alice   25  New York\n",
      "    name  age\n",
      "0  Alice   25\n",
      "1    Bob   30\n",
      "      name      city\n",
      "0    Alice  New York\n",
      "1  Charlie    London\n"
     ]
    }
   ]
  },
  {
   "cell_type": "markdown",
   "source": [
    "Una funzionalità **molto importante** è la lettura di un DataFrame a partire da un file. Pandas consente di leggere e scrivere dati in diversi formati, come CSV, Excel, SQL, JSON, HTML, tra gli altri. Ad esempio, il seguente codice scrive il DataFrame *df* su un file *.csv* e successivamente lo reimporta in un DataFrame:"
   ],
   "metadata": {
    "id": "DPq5GrLQcALC"
   }
  },
  {
   "cell_type": "code",
   "source": [
    "df.to_csv(\"data.csv\")\n",
    "df = pd.read_csv(\"data.csv\")\n",
    "print(df)"
   ],
   "metadata": {
    "colab": {
     "base_uri": "https://localhost:8080/"
    },
    "id": "dXvmJGv2b54U",
    "outputId": "430b4e24-be4b-4544-b41e-8312c84b2931",
    "executionInfo": {
     "status": "ok",
     "timestamp": 1700412113465,
     "user_tz": -60,
     "elapsed": 6,
     "user": {
      "displayName": "Davide Costantini",
      "userId": "04876007539952493084"
     }
    }
   },
   "execution_count": 91,
   "outputs": [
    {
     "output_type": "stream",
     "name": "stdout",
     "text": [
      "   Unnamed: 0     name  age      city\n",
      "0           0    Alice   30  New York\n",
      "1           1      Bob   25     Paris\n",
      "2           2  Charlie   35    London\n"
     ]
    }
   ]
  },
  {
   "cell_type": "markdown",
   "source": [
    "Questi sono solo alcuni dei concetti di Pandas. E' possibile vedere tutte le altre funzionalità messe a disposizione dalla libreria al seguente link: https://pandas.pydata.org/"
   ],
   "metadata": {
    "id": "xvs5G5PScg5O"
   }
  },
  {
   "cell_type": "markdown",
   "source": [
    "## Libreria Matplotlib"
   ],
   "metadata": {
    "id": "_oSc86KodLHD"
   }
  },
  {
   "cell_type": "markdown",
   "source": [
    "**Matplotlib** è una libreria Python per la visualizzazione dei dati. Anche in questo caso, la libreria va installata nell'environment e importata."
   ],
   "metadata": {
    "id": "E9EOOeEmdS0w"
   }
  },
  {
   "cell_type": "code",
   "source": [
    "pip install matplotlib"
   ],
   "metadata": {
    "colab": {
     "base_uri": "https://localhost:8080/"
    },
    "id": "qUhHtKYmcKMh",
    "outputId": "52d6275a-4f13-4603-aa35-1c359a169823",
    "executionInfo": {
     "status": "ok",
     "timestamp": 1700412124529,
     "user_tz": -60,
     "elapsed": 10756,
     "user": {
      "displayName": "Davide Costantini",
      "userId": "04876007539952493084"
     }
    }
   },
   "execution_count": 92,
   "outputs": [
    {
     "output_type": "stream",
     "name": "stdout",
     "text": [
      "Requirement already satisfied: matplotlib in /usr/local/lib/python3.10/dist-packages (3.7.1)\n",
      "Requirement already satisfied: contourpy>=1.0.1 in /usr/local/lib/python3.10/dist-packages (from matplotlib) (1.2.0)\n",
      "Requirement already satisfied: cycler>=0.10 in /usr/local/lib/python3.10/dist-packages (from matplotlib) (0.12.1)\n",
      "Requirement already satisfied: fonttools>=4.22.0 in /usr/local/lib/python3.10/dist-packages (from matplotlib) (4.44.3)\n",
      "Requirement already satisfied: kiwisolver>=1.0.1 in /usr/local/lib/python3.10/dist-packages (from matplotlib) (1.4.5)\n",
      "Requirement already satisfied: numpy>=1.20 in /usr/local/lib/python3.10/dist-packages (from matplotlib) (1.23.5)\n",
      "Requirement already satisfied: packaging>=20.0 in /usr/local/lib/python3.10/dist-packages (from matplotlib) (23.2)\n",
      "Requirement already satisfied: pillow>=6.2.0 in /usr/local/lib/python3.10/dist-packages (from matplotlib) (9.4.0)\n",
      "Requirement already satisfied: pyparsing>=2.3.1 in /usr/local/lib/python3.10/dist-packages (from matplotlib) (3.1.1)\n",
      "Requirement already satisfied: python-dateutil>=2.7 in /usr/local/lib/python3.10/dist-packages (from matplotlib) (2.8.2)\n",
      "Requirement already satisfied: six>=1.5 in /usr/local/lib/python3.10/dist-packages (from python-dateutil>=2.7->matplotlib) (1.16.0)\n"
     ]
    }
   ]
  },
  {
   "cell_type": "code",
   "source": [
    "import matplotlib.pyplot as plt"
   ],
   "metadata": {
    "id": "z03VWQQodbUi",
    "executionInfo": {
     "status": "ok",
     "timestamp": 1700412124530,
     "user_tz": -60,
     "elapsed": 9,
     "user": {
      "displayName": "Davide Costantini",
      "userId": "04876007539952493084"
     }
    }
   },
   "execution_count": 93,
   "outputs": []
  },
  {
   "cell_type": "markdown",
   "source": [
    "Matplotlib consente di creare una vasta gamma di grafici, come **grafici a barre**, **grafici a linee**, **grafici a dispersione** e così via. Ad esempio, il seguente codice crea un grafico a barre che rappresenta le vendite mensili di una società:"
   ],
   "metadata": {
    "id": "TQQboRV8dixf"
   }
  },
  {
   "cell_type": "code",
   "source": [
    "months = [\"January\", \"February\", \"March\", \"April\", \"May\", \"June\"]\n",
    "sales = [10000, 12000, 8000, 15000, 9000, 11000]\n",
    "\n",
    "plt.bar(months, sales)\n",
    "plt.title(\"Monthly Sales\")\n",
    "plt.xlabel(\"Month\")\n",
    "plt.ylabel(\"Sales\")\n",
    "plt.show()"
   ],
   "metadata": {
    "colab": {
     "base_uri": "https://localhost:8080/",
     "height": 472
    },
    "id": "q004pw7xdfhz",
    "outputId": "feaf4244-f71e-4ced-c5e2-e01baa0072a2",
    "executionInfo": {
     "status": "ok",
     "timestamp": 1700412125074,
     "user_tz": -60,
     "elapsed": 550,
     "user": {
      "displayName": "Davide Costantini",
      "userId": "04876007539952493084"
     }
    }
   },
   "execution_count": 94,
   "outputs": [
    {
     "output_type": "display_data",
     "data": {
      "text/plain": [
       "<Figure size 640x480 with 1 Axes>"
      ],
      "image/png": "[encoded data removed]"
     },
     "metadata": {}
    }
   ]
  },
  {
   "cell_type": "markdown",
   "source": [
    "È possibile personalizzare il grafico in vari modi, ad esempio aggiungendo una griglia, cambiando il colore delle barre, cambiando la dimensione dei caratteri e così via. Ad esempio, il seguente codice aggiunge una griglia e cambia il colore delle barre:\n",
    "python"
   ],
   "metadata": {
    "id": "YFY_icm-dv91"
   }
  },
  {
   "cell_type": "code",
   "source": [
    "plt.bar(months, sales, color=\"green\")\n",
    "plt.title(\"Monthly Sales\")\n",
    "plt.xlabel(\"Month\")\n",
    "plt.ylabel(\"Sales\")\n",
    "plt.grid(True)\n",
    "plt.show()"
   ],
   "metadata": {
    "colab": {
     "base_uri": "https://localhost:8080/",
     "height": 472
    },
    "id": "O-8F6TeSdrEl",
    "outputId": "d5a627f2-f9a1-4302-8090-45718b2c6d15",
    "executionInfo": {
     "status": "ok",
     "timestamp": 1700412125675,
     "user_tz": -60,
     "elapsed": 725,
     "user": {
      "displayName": "Davide Costantini",
      "userId": "04876007539952493084"
     }
    }
   },
   "execution_count": 95,
   "outputs": [
    {
     "output_type": "display_data",
     "data": {
      "text/plain": [
       "<Figure size 640x480 with 1 Axes>"
      ],
      "image/png": "[encoded data removed]"
     },
     "metadata": {}
    }
   ]
  },
  {
   "cell_type": "markdown",
   "source": [
    "Matplotlib consente di salvare il grafico in diversi formati, come PNG, PDF, SVG, tra gli altri. Ad esempio, il seguente codice salva il grafico in formato PNG:"
   ],
   "metadata": {
    "id": "qe4idvP2d0Vz"
   }
  },
  {
   "cell_type": "code",
   "source": [
    "plt.bar(months, sales, color=\"green\")\n",
    "plt.title(\"Monthly Sales\")\n",
    "plt.xlabel(\"Month\")\n",
    "plt.ylabel(\"Sales\")\n",
    "plt.grid(True)\n",
    "plt.savefig(\"sales.png\")"
   ],
   "metadata": {
    "colab": {
     "base_uri": "https://localhost:8080/",
     "height": 472
    },
    "id": "60EUGWMRdvVx",
    "outputId": "3343147a-e33d-44e5-e93c-0f3b1f77259d",
    "executionInfo": {
     "status": "ok",
     "timestamp": 1700412126156,
     "user_tz": -60,
     "elapsed": 605,
     "user": {
      "displayName": "Davide Costantini",
      "userId": "04876007539952493084"
     }
    }
   },
   "execution_count": 96,
   "outputs": [
    {
     "output_type": "display_data",
     "data": {
      "text/plain": [
       "<Figure size 640x480 with 1 Axes>"
      ],
      "image/png": "[encoded data removed]"
     },
     "metadata": {}
    }
   ]
  },
  {
   "cell_type": "markdown",
   "source": [
    "Questa libreria si integra bene con Pandas e Numpy. Per ulteriori informazioni, vedere la documentazione ufficiale: https://matplotlib.org/"
   ],
   "metadata": {
    "id": "clvU6lqDeK-J"
   }
  },
  {
   "cell_type": "markdown",
   "source": [
    "## Un breve esempio con il dataset Iris\n",
    "\n",
    "1.   Voce elenco\n",
    "2.   Voce elenco\n",
    "\n"
   ],
   "metadata": {
    "id": "hXQq72GGeCKe"
   }
  },
  {
   "cell_type": "markdown",
   "source": [
    "Il dataset **Iris**, essendo un dataset molto utilizzato per fare pratica con il Machine Learning, è presente all'interno della libreria Sklearn."
   ],
   "metadata": {
    "id": "EttodfFPeJGj"
   }
  },
  {
   "cell_type": "markdown",
   "source": [
    "Con il codice seguente, vediamo che è possibile importare anche singole componenti di una libreria; in questo caso, la funzione *load_iris()*. Successivamente, creiamo un DataFrame di Pandas."
   ],
   "metadata": {
    "id": "LHP7d_loe2a0"
   }
  },
  {
   "cell_type": "code",
   "source": [
    "from sklearn.datasets import load_iris\n",
    "\n",
    "iris = load_iris()\n",
    "\n",
    "df = pd.DataFrame(data=iris.data, columns=iris.feature_names)\n",
    "df['target'] = pd.Series(iris.target)\n",
    "\n",
    "df"
   ],
   "metadata": {
    "colab": {
     "base_uri": "https://localhost:8080/",
     "height": 419
    },
    "id": "ikxycAklex7S",
    "outputId": "cbebc7f8-9405-4a53-8010-94ecac528c26",
    "executionInfo": {
     "status": "ok",
     "timestamp": 1700412126875,
     "user_tz": -60,
     "elapsed": 941,
     "user": {
      "displayName": "Davide Costantini",
      "userId": "04876007539952493084"
     }
    }
   },
   "execution_count": 97,
   "outputs": [
    {
     "output_type": "execute_result",
     "data": {
      "text/plain": [
       "     sepal length (cm)  sepal width (cm)  petal length (cm)  petal width (cm)  \\\n",
       "0                  5.1               3.5                1.4               0.2   \n",
       "1                  4.9               3.0                1.4               0.2   \n",
       "2                  4.7               3.2                1.3               0.2   \n",
       "3                  4.6               3.1                1.5               0.2   \n",
       "4                  5.0               3.6                1.4               0.2   \n",
       "..                 ...               ...                ...               ...   \n",
       "145                6.7               3.0                5.2               2.3   \n",
       "146                6.3               2.5                5.0               1.9   \n",
       "147                6.5               3.0                5.2               2.0   \n",
       "148                6.2               3.4                5.4               2.3   \n",
       "149                5.9               3.0                5.1               1.8   \n",
       "\n",
       "     target  \n",
       "0         0  \n",
       "1         0  \n",
       "2         0  \n",
       "3         0  \n",
       "4         0  \n",
       "..      ...  \n",
       "145       2  \n",
       "146       2  \n",
       "147       2  \n",
       "148       2  \n",
       "149       2  \n",
       "\n",
       "[150 rows x 5 columns]"
      ],
      "text/html": [
       "\n",
       "  <div id=\"df-eaf99ae1-ae96-43d0-955a-7c20e3d2f463\" class=\"colab-df-container\">\n",
       "    <div>\n",
       "<style scoped>\n",
       "    .dataframe tbody tr th:only-of-type {\n",
       "        vertical-align: middle;\n",
       "    }\n",
       "\n",
       "    .dataframe tbody tr th {\n",
       "        vertical-align: top;\n",
       "    }\n",
       "\n",
       "    .dataframe thead th {\n",
       "        text-align: right;\n",
       "    }\n",
       "</style>\n",
       "<table border=\"1\" class=\"dataframe\">\n",
       "  <thead>\n",
       "    <tr style=\"text-align: right;\">\n",
       "      <th></th>\n",
       "      <th>sepal length (cm)</th>\n",
       "      <th>sepal width (cm)</th>\n",
       "      <th>petal length (cm)</th>\n",
       "      <th>petal width (cm)</th>\n",
       "      <th>target</th>\n",
       "    </tr>\n",
       "  </thead>\n",
       "  <tbody>\n",
       "    <tr>\n",
       "      <th>0</th>\n",
       "      <td>5.1</td>\n",
       "      <td>3.5</td>\n",
       "      <td>1.4</td>\n",
       "      <td>0.2</td>\n",
       "      <td>0</td>\n",
       "    </tr>\n",
       "    <tr>\n",
       "      <th>1</th>\n",
       "      <td>4.9</td>\n",
       "      <td>3.0</td>\n",
       "      <td>1.4</td>\n",
       "      <td>0.2</td>\n",
       "      <td>0</td>\n",
       "    </tr>\n",
       "    <tr>\n",
       "      <th>2</th>\n",
       "      <td>4.7</td>\n",
       "      <td>3.2</td>\n",
       "      <td>1.3</td>\n",
       "      <td>0.2</td>\n",
       "      <td>0</td>\n",
       "    </tr>\n",
       "    <tr>\n",
       "      <th>3</th>\n",
       "      <td>4.6</td>\n",
       "      <td>3.1</td>\n",
       "      <td>1.5</td>\n",
       "      <td>0.2</td>\n",
       "      <td>0</td>\n",
       "    </tr>\n",
       "    <tr>\n",
       "      <th>4</th>\n",
       "      <td>5.0</td>\n",
       "      <td>3.6</td>\n",
       "      <td>1.4</td>\n",
       "      <td>0.2</td>\n",
       "      <td>0</td>\n",
       "    </tr>\n",
       "    <tr>\n",
       "      <th>...</th>\n",
       "      <td>...</td>\n",
       "      <td>...</td>\n",
       "      <td>...</td>\n",
       "      <td>...</td>\n",
       "      <td>...</td>\n",
       "    </tr>\n",
       "    <tr>\n",
       "      <th>145</th>\n",
       "      <td>6.7</td>\n",
       "      <td>3.0</td>\n",
       "      <td>5.2</td>\n",
       "      <td>2.3</td>\n",
       "      <td>2</td>\n",
       "    </tr>\n",
       "    <tr>\n",
       "      <th>146</th>\n",
       "      <td>6.3</td>\n",
       "      <td>2.5</td>\n",
       "      <td>5.0</td>\n",
       "      <td>1.9</td>\n",
       "      <td>2</td>\n",
       "    </tr>\n",
       "    <tr>\n",
       "      <th>147</th>\n",
       "      <td>6.5</td>\n",
       "      <td>3.0</td>\n",
       "      <td>5.2</td>\n",
       "      <td>2.0</td>\n",
       "      <td>2</td>\n",
       "    </tr>\n",
       "    <tr>\n",
       "      <th>148</th>\n",
       "      <td>6.2</td>\n",
       "      <td>3.4</td>\n",
       "      <td>5.4</td>\n",
       "      <td>2.3</td>\n",
       "      <td>2</td>\n",
       "    </tr>\n",
       "    <tr>\n",
       "      <th>149</th>\n",
       "      <td>5.9</td>\n",
       "      <td>3.0</td>\n",
       "      <td>5.1</td>\n",
       "      <td>1.8</td>\n",
       "      <td>2</td>\n",
       "    </tr>\n",
       "  </tbody>\n",
       "</table>\n",
       "<p>150 rows × 5 columns</p>\n",
       "</div>\n",
       "    <div class=\"colab-df-buttons\">\n",
       "\n",
       "  <div class=\"colab-df-container\">\n",
       "    <button class=\"colab-df-convert\" onclick=\"convertToInteractive('df-eaf99ae1-ae96-43d0-955a-7c20e3d2f463')\"\n",
       "            title=\"Convert this dataframe to an interactive table.\"\n",
       "            style=\"display:none;\">\n",
       "\n",
       "  <svg xmlns=\"http://www.w3.org/2000/svg\" height=\"24px\" viewBox=\"0 -960 960 960\">\n",
       "    <path d=\"M120-120v-720h720v720H120Zm60-500h600v-160H180v160Zm220 220h160v-160H400v160Zm0 220h160v-160H400v160ZM180-400h160v-160H180v160Zm440 0h160v-160H620v160ZM180-180h160v-160H180v160Zm440 0h160v-160H620v160Z\"/>\n",
       "  </svg>\n",
       "    </button>\n",
       "\n",
       "  <style>\n",
       "    .colab-df-container {\n",
       "      display:flex;\n",
       "      gap: 12px;\n",
       "    }\n",
       "\n",
       "    .colab-df-convert {\n",
       "      background-color: #E8F0FE;\n",
       "      border: none;\n",
       "      border-radius: 50%;\n",
       "      cursor: pointer;\n",
       "      display: none;\n",
       "      fill: #1967D2;\n",
       "      height: 32px;\n",
       "      padding: 0 0 0 0;\n",
       "      width: 32px;\n",
       "    }\n",
       "\n",
       "    .colab-df-convert:hover {\n",
       "      background-color: #E2EBFA;\n",
       "      box-shadow: 0px 1px 2px rgba(60, 64, 67, 0.3), 0px 1px 3px 1px rgba(60, 64, 67, 0.15);\n",
       "      fill: #174EA6;\n",
       "    }\n",
       "\n",
       "    .colab-df-buttons div {\n",
       "      margin-bottom: 4px;\n",
       "    }\n",
       "\n",
       "    [theme=dark] .colab-df-convert {\n",
       "      background-color: #3B4455;\n",
       "      fill: #D2E3FC;\n",
       "    }\n",
       "\n",
       "    [theme=dark] .colab-df-convert:hover {\n",
       "      background-color: #434B5C;\n",
       "      box-shadow: 0px 1px 3px 1px rgba(0, 0, 0, 0.15);\n",
       "      filter: drop-shadow(0px 1px 2px rgba(0, 0, 0, 0.3));\n",
       "      fill: #FFFFFF;\n",
       "    }\n",
       "  </style>\n",
       "\n",
       "    <script>\n",
       "      const buttonEl =\n",
       "        document.querySelector('#df-eaf99ae1-ae96-43d0-955a-7c20e3d2f463 button.colab-df-convert');\n",
       "      buttonEl.style.display =\n",
       "        google.colab.kernel.accessAllowed ? 'block' : 'none';\n",
       "\n",
       "      async function convertToInteractive(key) {\n",
       "        const element = document.querySelector('#df-eaf99ae1-ae96-43d0-955a-7c20e3d2f463');\n",
       "        const dataTable =\n",
       "          await google.colab.kernel.invokeFunction('convertToInteractive',\n",
       "                                                    [key], {});\n",
       "        if (!dataTable) return;\n",
       "\n",
       "        const docLinkHtml = 'Like what you see? Visit the ' +\n",
       "          '<a target=\"_blank\" href=https://colab.research.google.com/notebooks/data_table.ipynb>data table notebook</a>'\n",
       "          + ' to learn more about interactive tables.';\n",
       "        element.innerHTML = '';\n",
       "        dataTable['output_type'] = 'display_data';\n",
       "        await google.colab.output.renderOutput(dataTable, element);\n",
       "        const docLink = document.createElement('div');\n",
       "        docLink.innerHTML = docLinkHtml;\n",
       "        element.appendChild(docLink);\n",
       "      }\n",
       "    </script>\n",
       "  </div>\n",
       "\n",
       "\n",
       "<div id=\"df-7cc81384-a1d1-4c76-bc9f-fcc617570c91\">\n",
       "  <button class=\"colab-df-quickchart\" onclick=\"quickchart('df-7cc81384-a1d1-4c76-bc9f-fcc617570c91')\"\n",
       "            title=\"Suggest charts\"\n",
       "            style=\"display:none;\">\n",
       "\n",
       "<svg xmlns=\"http://www.w3.org/2000/svg\" height=\"24px\"viewBox=\"0 0 24 24\"\n",
       "     width=\"24px\">\n",
       "    <g>\n",
       "        <path d=\"M19 3H5c-1.1 0-2 .9-2 2v14c0 1.1.9 2 2 2h14c1.1 0 2-.9 2-2V5c0-1.1-.9-2-2-2zM9 17H7v-7h2v7zm4 0h-2V7h2v10zm4 0h-2v-4h2v4z\"/>\n",
       "    </g>\n",
       "</svg>\n",
       "  </button>\n",
       "\n",
       "<style>\n",
       "  .colab-df-quickchart {\n",
       "      --bg-color: #E8F0FE;\n",
       "      --fill-color: #1967D2;\n",
       "      --hover-bg-color: #E2EBFA;\n",
       "      --hover-fill-color: #174EA6;\n",
       "      --disabled-fill-color: #AAA;\n",
       "      --disabled-bg-color: #DDD;\n",
       "  }\n",
       "\n",
       "  [theme=dark] .colab-df-quickchart {\n",
       "      --bg-color: #3B4455;\n",
       "      --fill-color: #D2E3FC;\n",
       "      --hover-bg-color: #434B5C;\n",
       "      --hover-fill-color: #FFFFFF;\n",
       "      --disabled-bg-color: #3B4455;\n",
       "      --disabled-fill-color: #666;\n",
       "  }\n",
       "\n",
       "  .colab-df-quickchart {\n",
       "    background-color: var(--bg-color);\n",
       "    border: none;\n",
       "    border-radius: 50%;\n",
       "    cursor: pointer;\n",
       "    display: none;\n",
       "    fill: var(--fill-color);\n",
       "    height: 32px;\n",
       "    padding: 0;\n",
       "    width: 32px;\n",
       "  }\n",
       "\n",
       "  .colab-df-quickchart:hover {\n",
       "    background-color: var(--hover-bg-color);\n",
       "    box-shadow: 0 1px 2px rgba(60, 64, 67, 0.3), 0 1px 3px 1px rgba(60, 64, 67, 0.15);\n",
       "    fill: var(--button-hover-fill-color);\n",
       "  }\n",
       "\n",
       "  .colab-df-quickchart-complete:disabled,\n",
       "  .colab-df-quickchart-complete:disabled:hover {\n",
       "    background-color: var(--disabled-bg-color);\n",
       "    fill: var(--disabled-fill-color);\n",
       "    box-shadow: none;\n",
       "  }\n",
       "\n",
       "  .colab-df-spinner {\n",
       "    border: 2px solid var(--fill-color);\n",
       "    border-color: transparent;\n",
       "    border-bottom-color: var(--fill-color);\n",
       "    animation:\n",
       "      spin 1s steps(1) infinite;\n",
       "  }\n",
       "\n",
       "  @keyframes spin {\n",
       "    0% {\n",
       "      border-color: transparent;\n",
       "      border-bottom-color: var(--fill-color);\n",
       "      border-left-color: var(--fill-color);\n",
       "    }\n",
       "    20% {\n",
       "      border-color: transparent;\n",
       "      border-left-color: var(--fill-color);\n",
       "      border-top-color: var(--fill-color);\n",
       "    }\n",
       "    30% {\n",
       "      border-color: transparent;\n",
       "      border-left-color: var(--fill-color);\n",
       "      border-top-color: var(--fill-color);\n",
       "      border-right-color: var(--fill-color);\n",
       "    }\n",
       "    40% {\n",
       "      border-color: transparent;\n",
       "      border-right-color: var(--fill-color);\n",
       "      border-top-color: var(--fill-color);\n",
       "    }\n",
       "    60% {\n",
       "      border-color: transparent;\n",
       "      border-right-color: var(--fill-color);\n",
       "    }\n",
       "    80% {\n",
       "      border-color: transparent;\n",
       "      border-right-color: var(--fill-color);\n",
       "      border-bottom-color: var(--fill-color);\n",
       "    }\n",
       "    90% {\n",
       "      border-color: transparent;\n",
       "      border-bottom-color: var(--fill-color);\n",
       "    }\n",
       "  }\n",
       "</style>\n",
       "\n",
       "  <script>\n",
       "    async function quickchart(key) {\n",
       "      const quickchartButtonEl =\n",
       "        document.querySelector('#' + key + ' button');\n",
       "      quickchartButtonEl.disabled = true;  // To prevent multiple clicks.\n",
       "      quickchartButtonEl.classList.add('colab-df-spinner');\n",
       "      try {\n",
       "        const charts = await google.colab.kernel.invokeFunction(\n",
       "            'suggestCharts', [key], {});\n",
       "      } catch (error) {\n",
       "        console.error('Error during call to suggestCharts:', error);\n",
       "      }\n",
       "      quickchartButtonEl.classList.remove('colab-df-spinner');\n",
       "      quickchartButtonEl.classList.add('colab-df-quickchart-complete');\n",
       "    }\n",
       "    (() => {\n",
       "      let quickchartButtonEl =\n",
       "        document.querySelector('#df-7cc81384-a1d1-4c76-bc9f-fcc617570c91 button');\n",
       "      quickchartButtonEl.style.display =\n",
       "        google.colab.kernel.accessAllowed ? 'block' : 'none';\n",
       "    })();\n",
       "  </script>\n",
       "</div>\n",
       "    </div>\n",
       "  </div>\n"
      ]
     },
     "metadata": {},
     "execution_count": 97
    }
   ]
  },
  {
   "cell_type": "markdown",
   "source": [
    "Contiamo quante righe e colonne ci sono nel dataset."
   ],
   "metadata": {
    "id": "XNq8sF7WiFVn"
   }
  },
  {
   "cell_type": "code",
   "source": [
    "df.shape"
   ],
   "metadata": {
    "colab": {
     "base_uri": "https://localhost:8080/"
    },
    "id": "lE9T4DBfiH7d",
    "outputId": "08ae495c-537e-4fea-d52f-68f45b1fa5d1",
    "executionInfo": {
     "status": "ok",
     "timestamp": 1700412126875,
     "user_tz": -60,
     "elapsed": 543,
     "user": {
      "displayName": "Davide Costantini",
      "userId": "04876007539952493084"
     }
    }
   },
   "execution_count": 98,
   "outputs": [
    {
     "output_type": "execute_result",
     "data": {
      "text/plain": [
       "(150, 5)"
      ]
     },
     "metadata": {},
     "execution_count": 98
    }
   ]
  },
  {
   "cell_type": "markdown",
   "source": [
    "Vediamo alcune informazioni per ciascuna colonna, come ad esempio il tipo di dato."
   ],
   "metadata": {
    "id": "qRLDPcmDj_86"
   }
  },
  {
   "cell_type": "code",
   "source": [
    "df.dtypes"
   ],
   "metadata": {
    "colab": {
     "base_uri": "https://localhost:8080/"
    },
    "id": "OhyHBXg-kEna",
    "outputId": "d1622580-f35f-4d04-9cf2-cefdcf2179d2",
    "executionInfo": {
     "status": "ok",
     "timestamp": 1700412126875,
     "user_tz": -60,
     "elapsed": 542,
     "user": {
      "displayName": "Davide Costantini",
      "userId": "04876007539952493084"
     }
    }
   },
   "execution_count": 99,
   "outputs": [
    {
     "output_type": "execute_result",
     "data": {
      "text/plain": [
       "sepal length (cm)    float64\n",
       "sepal width (cm)     float64\n",
       "petal length (cm)    float64\n",
       "petal width (cm)     float64\n",
       "target                 int64\n",
       "dtype: object"
      ]
     },
     "metadata": {},
     "execution_count": 99
    }
   ]
  },
  {
   "cell_type": "markdown",
   "source": [
    "Notiamo che la colonna *target* è di tipo *int*, ma noi la vorremmo categorica. Per poter effettuare il casting, scriviamo il seguente codice."
   ],
   "metadata": {
    "id": "j3lMtBvEkHBO"
   }
  },
  {
   "cell_type": "code",
   "source": [
    "df[\"target\"] = df[\"target\"].astype(\"category\")"
   ],
   "metadata": {
    "id": "VqZmMMCOkQ2e",
    "executionInfo": {
     "status": "ok",
     "timestamp": 1700412126876,
     "user_tz": -60,
     "elapsed": 540,
     "user": {
      "displayName": "Davide Costantini",
      "userId": "04876007539952493084"
     }
    }
   },
   "execution_count": 100,
   "outputs": []
  },
  {
   "cell_type": "code",
   "source": [
    "df.dtypes"
   ],
   "metadata": {
    "colab": {
     "base_uri": "https://localhost:8080/"
    },
    "id": "U9pBFbxYkWL5",
    "outputId": "eca3e099-6ed0-4a31-90f9-b5a7250a8bf3",
    "executionInfo": {
     "status": "ok",
     "timestamp": 1700412126876,
     "user_tz": -60,
     "elapsed": 540,
     "user": {
      "displayName": "Davide Costantini",
      "userId": "04876007539952493084"
     }
    }
   },
   "execution_count": 101,
   "outputs": [
    {
     "output_type": "execute_result",
     "data": {
      "text/plain": [
       "sepal length (cm)     float64\n",
       "sepal width (cm)      float64\n",
       "petal length (cm)     float64\n",
       "petal width (cm)      float64\n",
       "target               category\n",
       "dtype: object"
      ]
     },
     "metadata": {},
     "execution_count": 101
    }
   ]
  },
  {
   "cell_type": "markdown",
   "source": [
    "Mostriamo solamente le prime 5 righe."
   ],
   "metadata": {
    "id": "8De0MyXciL1V"
   }
  },
  {
   "cell_type": "code",
   "source": [
    "df.head()"
   ],
   "metadata": {
    "colab": {
     "base_uri": "https://localhost:8080/",
     "height": 204
    },
    "id": "BlflEya4iOM9",
    "outputId": "2846ca54-ab10-46e1-c004-b3ad00e549cc",
    "executionInfo": {
     "status": "ok",
     "timestamp": 1700412126876,
     "user_tz": -60,
     "elapsed": 536,
     "user": {
      "displayName": "Davide Costantini",
      "userId": "04876007539952493084"
     }
    }
   },
   "execution_count": 102,
   "outputs": [
    {
     "output_type": "execute_result",
     "data": {
      "text/plain": [
       "   sepal length (cm)  sepal width (cm)  petal length (cm)  petal width (cm)  \\\n",
       "0                5.1               3.5                1.4               0.2   \n",
       "1                4.9               3.0                1.4               0.2   \n",
       "2                4.7               3.2                1.3               0.2   \n",
       "3                4.6               3.1                1.5               0.2   \n",
       "4                5.0               3.6                1.4               0.2   \n",
       "\n",
       "  target  \n",
       "0      0  \n",
       "1      0  \n",
       "2      0  \n",
       "3      0  \n",
       "4      0  "
      ],
      "text/html": [
       "\n",
       "  <div id=\"df-ddefca4f-3376-4e88-9e98-3162f25e5b38\" class=\"colab-df-container\">\n",
       "    <div>\n",
       "<style scoped>\n",
       "    .dataframe tbody tr th:only-of-type {\n",
       "        vertical-align: middle;\n",
       "    }\n",
       "\n",
       "    .dataframe tbody tr th {\n",
       "        vertical-align: top;\n",
       "    }\n",
       "\n",
       "    .dataframe thead th {\n",
       "        text-align: right;\n",
       "    }\n",
       "</style>\n",
       "<table border=\"1\" class=\"dataframe\">\n",
       "  <thead>\n",
       "    <tr style=\"text-align: right;\">\n",
       "      <th></th>\n",
       "      <th>sepal length (cm)</th>\n",
       "      <th>sepal width (cm)</th>\n",
       "      <th>petal length (cm)</th>\n",
       "      <th>petal width (cm)</th>\n",
       "      <th>target</th>\n",
       "    </tr>\n",
       "  </thead>\n",
       "  <tbody>\n",
       "    <tr>\n",
       "      <th>0</th>\n",
       "      <td>5.1</td>\n",
       "      <td>3.5</td>\n",
       "      <td>1.4</td>\n",
       "      <td>0.2</td>\n",
       "      <td>0</td>\n",
       "    </tr>\n",
       "    <tr>\n",
       "      <th>1</th>\n",
       "      <td>4.9</td>\n",
       "      <td>3.0</td>\n",
       "      <td>1.4</td>\n",
       "      <td>0.2</td>\n",
       "      <td>0</td>\n",
       "    </tr>\n",
       "    <tr>\n",
       "      <th>2</th>\n",
       "      <td>4.7</td>\n",
       "      <td>3.2</td>\n",
       "      <td>1.3</td>\n",
       "      <td>0.2</td>\n",
       "      <td>0</td>\n",
       "    </tr>\n",
       "    <tr>\n",
       "      <th>3</th>\n",
       "      <td>4.6</td>\n",
       "      <td>3.1</td>\n",
       "      <td>1.5</td>\n",
       "      <td>0.2</td>\n",
       "      <td>0</td>\n",
       "    </tr>\n",
       "    <tr>\n",
       "      <th>4</th>\n",
       "      <td>5.0</td>\n",
       "      <td>3.6</td>\n",
       "      <td>1.4</td>\n",
       "      <td>0.2</td>\n",
       "      <td>0</td>\n",
       "    </tr>\n",
       "  </tbody>\n",
       "</table>\n",
       "</div>\n",
       "    <div class=\"colab-df-buttons\">\n",
       "\n",
       "  <div class=\"colab-df-container\">\n",
       "    <button class=\"colab-df-convert\" onclick=\"convertToInteractive('df-ddefca4f-3376-4e88-9e98-3162f25e5b38')\"\n",
       "            title=\"Convert this dataframe to an interactive table.\"\n",
       "            style=\"display:none;\">\n",
       "\n",
       "  <svg xmlns=\"http://www.w3.org/2000/svg\" height=\"24px\" viewBox=\"0 -960 960 960\">\n",
       "    <path d=\"M120-120v-720h720v720H120Zm60-500h600v-160H180v160Zm220 220h160v-160H400v160Zm0 220h160v-160H400v160ZM180-400h160v-160H180v160Zm440 0h160v-160H620v160ZM180-180h160v-160H180v160Zm440 0h160v-160H620v160Z\"/>\n",
       "  </svg>\n",
       "    </button>\n",
       "\n",
       "  <style>\n",
       "    .colab-df-container {\n",
       "      display:flex;\n",
       "      gap: 12px;\n",
       "    }\n",
       "\n",
       "    .colab-df-convert {\n",
       "      background-color: #E8F0FE;\n",
       "      border: none;\n",
       "      border-radius: 50%;\n",
       "      cursor: pointer;\n",
       "      display: none;\n",
       "      fill: #1967D2;\n",
       "      height: 32px;\n",
       "      padding: 0 0 0 0;\n",
       "      width: 32px;\n",
       "    }\n",
       "\n",
       "    .colab-df-convert:hover {\n",
       "      background-color: #E2EBFA;\n",
       "      box-shadow: 0px 1px 2px rgba(60, 64, 67, 0.3), 0px 1px 3px 1px rgba(60, 64, 67, 0.15);\n",
       "      fill: #174EA6;\n",
       "    }\n",
       "\n",
       "    .colab-df-buttons div {\n",
       "      margin-bottom: 4px;\n",
       "    }\n",
       "\n",
       "    [theme=dark] .colab-df-convert {\n",
       "      background-color: #3B4455;\n",
       "      fill: #D2E3FC;\n",
       "    }\n",
       "\n",
       "    [theme=dark] .colab-df-convert:hover {\n",
       "      background-color: #434B5C;\n",
       "      box-shadow: 0px 1px 3px 1px rgba(0, 0, 0, 0.15);\n",
       "      filter: drop-shadow(0px 1px 2px rgba(0, 0, 0, 0.3));\n",
       "      fill: #FFFFFF;\n",
       "    }\n",
       "  </style>\n",
       "\n",
       "    <script>\n",
       "      const buttonEl =\n",
       "        document.querySelector('#df-ddefca4f-3376-4e88-9e98-3162f25e5b38 button.colab-df-convert');\n",
       "      buttonEl.style.display =\n",
       "        google.colab.kernel.accessAllowed ? 'block' : 'none';\n",
       "\n",
       "      async function convertToInteractive(key) {\n",
       "        const element = document.querySelector('#df-ddefca4f-3376-4e88-9e98-3162f25e5b38');\n",
       "        const dataTable =\n",
       "          await google.colab.kernel.invokeFunction('convertToInteractive',\n",
       "                                                    [key], {});\n",
       "        if (!dataTable) return;\n",
       "\n",
       "        const docLinkHtml = 'Like what you see? Visit the ' +\n",
       "          '<a target=\"_blank\" href=https://colab.research.google.com/notebooks/data_table.ipynb>data table notebook</a>'\n",
       "          + ' to learn more about interactive tables.';\n",
       "        element.innerHTML = '';\n",
       "        dataTable['output_type'] = 'display_data';\n",
       "        await google.colab.output.renderOutput(dataTable, element);\n",
       "        const docLink = document.createElement('div');\n",
       "        docLink.innerHTML = docLinkHtml;\n",
       "        element.appendChild(docLink);\n",
       "      }\n",
       "    </script>\n",
       "  </div>\n",
       "\n",
       "\n",
       "<div id=\"df-9dbbb73d-6682-4975-8488-04923cb6e513\">\n",
       "  <button class=\"colab-df-quickchart\" onclick=\"quickchart('df-9dbbb73d-6682-4975-8488-04923cb6e513')\"\n",
       "            title=\"Suggest charts\"\n",
       "            style=\"display:none;\">\n",
       "\n",
       "<svg xmlns=\"http://www.w3.org/2000/svg\" height=\"24px\"viewBox=\"0 0 24 24\"\n",
       "     width=\"24px\">\n",
       "    <g>\n",
       "        <path d=\"M19 3H5c-1.1 0-2 .9-2 2v14c0 1.1.9 2 2 2h14c1.1 0 2-.9 2-2V5c0-1.1-.9-2-2-2zM9 17H7v-7h2v7zm4 0h-2V7h2v10zm4 0h-2v-4h2v4z\"/>\n",
       "    </g>\n",
       "</svg>\n",
       "  </button>\n",
       "\n",
       "<style>\n",
       "  .colab-df-quickchart {\n",
       "      --bg-color: #E8F0FE;\n",
       "      --fill-color: #1967D2;\n",
       "      --hover-bg-color: #E2EBFA;\n",
       "      --hover-fill-color: #174EA6;\n",
       "      --disabled-fill-color: #AAA;\n",
       "      --disabled-bg-color: #DDD;\n",
       "  }\n",
       "\n",
       "  [theme=dark] .colab-df-quickchart {\n",
       "      --bg-color: #3B4455;\n",
       "      --fill-color: #D2E3FC;\n",
       "      --hover-bg-color: #434B5C;\n",
       "      --hover-fill-color: #FFFFFF;\n",
       "      --disabled-bg-color: #3B4455;\n",
       "      --disabled-fill-color: #666;\n",
       "  }\n",
       "\n",
       "  .colab-df-quickchart {\n",
       "    background-color: var(--bg-color);\n",
       "    border: none;\n",
       "    border-radius: 50%;\n",
       "    cursor: pointer;\n",
       "    display: none;\n",
       "    fill: var(--fill-color);\n",
       "    height: 32px;\n",
       "    padding: 0;\n",
       "    width: 32px;\n",
       "  }\n",
       "\n",
       "  .colab-df-quickchart:hover {\n",
       "    background-color: var(--hover-bg-color);\n",
       "    box-shadow: 0 1px 2px rgba(60, 64, 67, 0.3), 0 1px 3px 1px rgba(60, 64, 67, 0.15);\n",
       "    fill: var(--button-hover-fill-color);\n",
       "  }\n",
       "\n",
       "  .colab-df-quickchart-complete:disabled,\n",
       "  .colab-df-quickchart-complete:disabled:hover {\n",
       "    background-color: var(--disabled-bg-color);\n",
       "    fill: var(--disabled-fill-color);\n",
       "    box-shadow: none;\n",
       "  }\n",
       "\n",
       "  .colab-df-spinner {\n",
       "    border: 2px solid var(--fill-color);\n",
       "    border-color: transparent;\n",
       "    border-bottom-color: var(--fill-color);\n",
       "    animation:\n",
       "      spin 1s steps(1) infinite;\n",
       "  }\n",
       "\n",
       "  @keyframes spin {\n",
       "    0% {\n",
       "      border-color: transparent;\n",
       "      border-bottom-color: var(--fill-color);\n",
       "      border-left-color: var(--fill-color);\n",
       "    }\n",
       "    20% {\n",
       "      border-color: transparent;\n",
       "      border-left-color: var(--fill-color);\n",
       "      border-top-color: var(--fill-color);\n",
       "    }\n",
       "    30% {\n",
       "      border-color: transparent;\n",
       "      border-left-color: var(--fill-color);\n",
       "      border-top-color: var(--fill-color);\n",
       "      border-right-color: var(--fill-color);\n",
       "    }\n",
       "    40% {\n",
       "      border-color: transparent;\n",
       "      border-right-color: var(--fill-color);\n",
       "      border-top-color: var(--fill-color);\n",
       "    }\n",
       "    60% {\n",
       "      border-color: transparent;\n",
       "      border-right-color: var(--fill-color);\n",
       "    }\n",
       "    80% {\n",
       "      border-color: transparent;\n",
       "      border-right-color: var(--fill-color);\n",
       "      border-bottom-color: var(--fill-color);\n",
       "    }\n",
       "    90% {\n",
       "      border-color: transparent;\n",
       "      border-bottom-color: var(--fill-color);\n",
       "    }\n",
       "  }\n",
       "</style>\n",
       "\n",
       "  <script>\n",
       "    async function quickchart(key) {\n",
       "      const quickchartButtonEl =\n",
       "        document.querySelector('#' + key + ' button');\n",
       "      quickchartButtonEl.disabled = true;  // To prevent multiple clicks.\n",
       "      quickchartButtonEl.classList.add('colab-df-spinner');\n",
       "      try {\n",
       "        const charts = await google.colab.kernel.invokeFunction(\n",
       "            'suggestCharts', [key], {});\n",
       "      } catch (error) {\n",
       "        console.error('Error during call to suggestCharts:', error);\n",
       "      }\n",
       "      quickchartButtonEl.classList.remove('colab-df-spinner');\n",
       "      quickchartButtonEl.classList.add('colab-df-quickchart-complete');\n",
       "    }\n",
       "    (() => {\n",
       "      let quickchartButtonEl =\n",
       "        document.querySelector('#df-9dbbb73d-6682-4975-8488-04923cb6e513 button');\n",
       "      quickchartButtonEl.style.display =\n",
       "        google.colab.kernel.accessAllowed ? 'block' : 'none';\n",
       "    })();\n",
       "  </script>\n",
       "</div>\n",
       "    </div>\n",
       "  </div>\n"
      ]
     },
     "metadata": {},
     "execution_count": 102
    }
   ]
  },
  {
   "cell_type": "markdown",
   "source": [
    "E' possibile selezionare una colonna nel seguente modo:"
   ],
   "metadata": {
    "id": "R83AiXsaf9kv"
   }
  },
  {
   "cell_type": "code",
   "source": [
    "df['petal length (cm)']"
   ],
   "metadata": {
    "colab": {
     "base_uri": "https://localhost:8080/"
    },
    "id": "iSNCOX-DgHyF",
    "outputId": "f34b71c8-5b62-4f20-b87f-ddf02d84aaca",
    "executionInfo": {
     "status": "ok",
     "timestamp": 1700412126876,
     "user_tz": -60,
     "elapsed": 535,
     "user": {
      "displayName": "Davide Costantini",
      "userId": "04876007539952493084"
     }
    }
   },
   "execution_count": 103,
   "outputs": [
    {
     "output_type": "execute_result",
     "data": {
      "text/plain": [
       "0      1.4\n",
       "1      1.4\n",
       "2      1.3\n",
       "3      1.5\n",
       "4      1.4\n",
       "      ... \n",
       "145    5.2\n",
       "146    5.0\n",
       "147    5.2\n",
       "148    5.4\n",
       "149    5.1\n",
       "Name: petal length (cm), Length: 150, dtype: float64"
      ]
     },
     "metadata": {},
     "execution_count": 103
    }
   ]
  },
  {
   "cell_type": "markdown",
   "source": [
    "Una serie di colonne con il seguente codice:"
   ],
   "metadata": {
    "id": "7mnTYlbigxQq"
   }
  },
  {
   "cell_type": "code",
   "source": [
    "df[['petal length (cm)', 'petal width (cm)']]"
   ],
   "metadata": {
    "colab": {
     "base_uri": "https://localhost:8080/",
     "height": 419
    },
    "id": "_6c9Rh0og0MD",
    "outputId": "257bd7c6-22ed-4d3e-febe-a301931c6098",
    "executionInfo": {
     "status": "ok",
     "timestamp": 1700412126876,
     "user_tz": -60,
     "elapsed": 531,
     "user": {
      "displayName": "Davide Costantini",
      "userId": "04876007539952493084"
     }
    }
   },
   "execution_count": 104,
   "outputs": [
    {
     "output_type": "execute_result",
     "data": {
      "text/plain": [
       "     petal length (cm)  petal width (cm)\n",
       "0                  1.4               0.2\n",
       "1                  1.4               0.2\n",
       "2                  1.3               0.2\n",
       "3                  1.5               0.2\n",
       "4                  1.4               0.2\n",
       "..                 ...               ...\n",
       "145                5.2               2.3\n",
       "146                5.0               1.9\n",
       "147                5.2               2.0\n",
       "148                5.4               2.3\n",
       "149                5.1               1.8\n",
       "\n",
       "[150 rows x 2 columns]"
      ],
      "text/html": [
       "\n",
       "  <div id=\"df-9e1d9bfb-f3d0-4a58-af92-7432b0f52f59\" class=\"colab-df-container\">\n",
       "    <div>\n",
       "<style scoped>\n",
       "    .dataframe tbody tr th:only-of-type {\n",
       "        vertical-align: middle;\n",
       "    }\n",
       "\n",
       "    .dataframe tbody tr th {\n",
       "        vertical-align: top;\n",
       "    }\n",
       "\n",
       "    .dataframe thead th {\n",
       "        text-align: right;\n",
       "    }\n",
       "</style>\n",
       "<table border=\"1\" class=\"dataframe\">\n",
       "  <thead>\n",
       "    <tr style=\"text-align: right;\">\n",
       "      <th></th>\n",
       "      <th>petal length (cm)</th>\n",
       "      <th>petal width (cm)</th>\n",
       "    </tr>\n",
       "  </thead>\n",
       "  <tbody>\n",
       "    <tr>\n",
       "      <th>0</th>\n",
       "      <td>1.4</td>\n",
       "      <td>0.2</td>\n",
       "    </tr>\n",
       "    <tr>\n",
       "      <th>1</th>\n",
       "      <td>1.4</td>\n",
       "      <td>0.2</td>\n",
       "    </tr>\n",
       "    <tr>\n",
       "      <th>2</th>\n",
       "      <td>1.3</td>\n",
       "      <td>0.2</td>\n",
       "    </tr>\n",
       "    <tr>\n",
       "      <th>3</th>\n",
       "      <td>1.5</td>\n",
       "      <td>0.2</td>\n",
       "    </tr>\n",
       "    <tr>\n",
       "      <th>4</th>\n",
       "      <td>1.4</td>\n",
       "      <td>0.2</td>\n",
       "    </tr>\n",
       "    <tr>\n",
       "      <th>...</th>\n",
       "      <td>...</td>\n",
       "      <td>...</td>\n",
       "    </tr>\n",
       "    <tr>\n",
       "      <th>145</th>\n",
       "      <td>5.2</td>\n",
       "      <td>2.3</td>\n",
       "    </tr>\n",
       "    <tr>\n",
       "      <th>146</th>\n",
       "      <td>5.0</td>\n",
       "      <td>1.9</td>\n",
       "    </tr>\n",
       "    <tr>\n",
       "      <th>147</th>\n",
       "      <td>5.2</td>\n",
       "      <td>2.0</td>\n",
       "    </tr>\n",
       "    <tr>\n",
       "      <th>148</th>\n",
       "      <td>5.4</td>\n",
       "      <td>2.3</td>\n",
       "    </tr>\n",
       "    <tr>\n",
       "      <th>149</th>\n",
       "      <td>5.1</td>\n",
       "      <td>1.8</td>\n",
       "    </tr>\n",
       "  </tbody>\n",
       "</table>\n",
       "<p>150 rows × 2 columns</p>\n",
       "</div>\n",
       "    <div class=\"colab-df-buttons\">\n",
       "\n",
       "  <div class=\"colab-df-container\">\n",
       "    <button class=\"colab-df-convert\" onclick=\"convertToInteractive('df-9e1d9bfb-f3d0-4a58-af92-7432b0f52f59')\"\n",
       "            title=\"Convert this dataframe to an interactive table.\"\n",
       "            style=\"display:none;\">\n",
       "\n",
       "  <svg xmlns=\"http://www.w3.org/2000/svg\" height=\"24px\" viewBox=\"0 -960 960 960\">\n",
       "    <path d=\"M120-120v-720h720v720H120Zm60-500h600v-160H180v160Zm220 220h160v-160H400v160Zm0 220h160v-160H400v160ZM180-400h160v-160H180v160Zm440 0h160v-160H620v160ZM180-180h160v-160H180v160Zm440 0h160v-160H620v160Z\"/>\n",
       "  </svg>\n",
       "    </button>\n",
       "\n",
       "  <style>\n",
       "    .colab-df-container {\n",
       "      display:flex;\n",
       "      gap: 12px;\n",
       "    }\n",
       "\n",
       "    .colab-df-convert {\n",
       "      background-color: #E8F0FE;\n",
       "      border: none;\n",
       "      border-radius: 50%;\n",
       "      cursor: pointer;\n",
       "      display: none;\n",
       "      fill: #1967D2;\n",
       "      height: 32px;\n",
       "      padding: 0 0 0 0;\n",
       "      width: 32px;\n",
       "    }\n",
       "\n",
       "    .colab-df-convert:hover {\n",
       "      background-color: #E2EBFA;\n",
       "      box-shadow: 0px 1px 2px rgba(60, 64, 67, 0.3), 0px 1px 3px 1px rgba(60, 64, 67, 0.15);\n",
       "      fill: #174EA6;\n",
       "    }\n",
       "\n",
       "    .colab-df-buttons div {\n",
       "      margin-bottom: 4px;\n",
       "    }\n",
       "\n",
       "    [theme=dark] .colab-df-convert {\n",
       "      background-color: #3B4455;\n",
       "      fill: #D2E3FC;\n",
       "    }\n",
       "\n",
       "    [theme=dark] .colab-df-convert:hover {\n",
       "      background-color: #434B5C;\n",
       "      box-shadow: 0px 1px 3px 1px rgba(0, 0, 0, 0.15);\n",
       "      filter: drop-shadow(0px 1px 2px rgba(0, 0, 0, 0.3));\n",
       "      fill: #FFFFFF;\n",
       "    }\n",
       "  </style>\n",
       "\n",
       "    <script>\n",
       "      const buttonEl =\n",
       "        document.querySelector('#df-9e1d9bfb-f3d0-4a58-af92-7432b0f52f59 button.colab-df-convert');\n",
       "      buttonEl.style.display =\n",
       "        google.colab.kernel.accessAllowed ? 'block' : 'none';\n",
       "\n",
       "      async function convertToInteractive(key) {\n",
       "        const element = document.querySelector('#df-9e1d9bfb-f3d0-4a58-af92-7432b0f52f59');\n",
       "        const dataTable =\n",
       "          await google.colab.kernel.invokeFunction('convertToInteractive',\n",
       "                                                    [key], {});\n",
       "        if (!dataTable) return;\n",
       "\n",
       "        const docLinkHtml = 'Like what you see? Visit the ' +\n",
       "          '<a target=\"_blank\" href=https://colab.research.google.com/notebooks/data_table.ipynb>data table notebook</a>'\n",
       "          + ' to learn more about interactive tables.';\n",
       "        element.innerHTML = '';\n",
       "        dataTable['output_type'] = 'display_data';\n",
       "        await google.colab.output.renderOutput(dataTable, element);\n",
       "        const docLink = document.createElement('div');\n",
       "        docLink.innerHTML = docLinkHtml;\n",
       "        element.appendChild(docLink);\n",
       "      }\n",
       "    </script>\n",
       "  </div>\n",
       "\n",
       "\n",
       "<div id=\"df-a1a5313d-f431-4ebc-8d39-19d7fbcf2d66\">\n",
       "  <button class=\"colab-df-quickchart\" onclick=\"quickchart('df-a1a5313d-f431-4ebc-8d39-19d7fbcf2d66')\"\n",
       "            title=\"Suggest charts\"\n",
       "            style=\"display:none;\">\n",
       "\n",
       "<svg xmlns=\"http://www.w3.org/2000/svg\" height=\"24px\"viewBox=\"0 0 24 24\"\n",
       "     width=\"24px\">\n",
       "    <g>\n",
       "        <path d=\"M19 3H5c-1.1 0-2 .9-2 2v14c0 1.1.9 2 2 2h14c1.1 0 2-.9 2-2V5c0-1.1-.9-2-2-2zM9 17H7v-7h2v7zm4 0h-2V7h2v10zm4 0h-2v-4h2v4z\"/>\n",
       "    </g>\n",
       "</svg>\n",
       "  </button>\n",
       "\n",
       "<style>\n",
       "  .colab-df-quickchart {\n",
       "      --bg-color: #E8F0FE;\n",
       "      --fill-color: #1967D2;\n",
       "      --hover-bg-color: #E2EBFA;\n",
       "      --hover-fill-color: #174EA6;\n",
       "      --disabled-fill-color: #AAA;\n",
       "      --disabled-bg-color: #DDD;\n",
       "  }\n",
       "\n",
       "  [theme=dark] .colab-df-quickchart {\n",
       "      --bg-color: #3B4455;\n",
       "      --fill-color: #D2E3FC;\n",
       "      --hover-bg-color: #434B5C;\n",
       "      --hover-fill-color: #FFFFFF;\n",
       "      --disabled-bg-color: #3B4455;\n",
       "      --disabled-fill-color: #666;\n",
       "  }\n",
       "\n",
       "  .colab-df-quickchart {\n",
       "    background-color: var(--bg-color);\n",
       "    border: none;\n",
       "    border-radius: 50%;\n",
       "    cursor: pointer;\n",
       "    display: none;\n",
       "    fill: var(--fill-color);\n",
       "    height: 32px;\n",
       "    padding: 0;\n",
       "    width: 32px;\n",
       "  }\n",
       "\n",
       "  .colab-df-quickchart:hover {\n",
       "    background-color: var(--hover-bg-color);\n",
       "    box-shadow: 0 1px 2px rgba(60, 64, 67, 0.3), 0 1px 3px 1px rgba(60, 64, 67, 0.15);\n",
       "    fill: var(--button-hover-fill-color);\n",
       "  }\n",
       "\n",
       "  .colab-df-quickchart-complete:disabled,\n",
       "  .colab-df-quickchart-complete:disabled:hover {\n",
       "    background-color: var(--disabled-bg-color);\n",
       "    fill: var(--disabled-fill-color);\n",
       "    box-shadow: none;\n",
       "  }\n",
       "\n",
       "  .colab-df-spinner {\n",
       "    border: 2px solid var(--fill-color);\n",
       "    border-color: transparent;\n",
       "    border-bottom-color: var(--fill-color);\n",
       "    animation:\n",
       "      spin 1s steps(1) infinite;\n",
       "  }\n",
       "\n",
       "  @keyframes spin {\n",
       "    0% {\n",
       "      border-color: transparent;\n",
       "      border-bottom-color: var(--fill-color);\n",
       "      border-left-color: var(--fill-color);\n",
       "    }\n",
       "    20% {\n",
       "      border-color: transparent;\n",
       "      border-left-color: var(--fill-color);\n",
       "      border-top-color: var(--fill-color);\n",
       "    }\n",
       "    30% {\n",
       "      border-color: transparent;\n",
       "      border-left-color: var(--fill-color);\n",
       "      border-top-color: var(--fill-color);\n",
       "      border-right-color: var(--fill-color);\n",
       "    }\n",
       "    40% {\n",
       "      border-color: transparent;\n",
       "      border-right-color: var(--fill-color);\n",
       "      border-top-color: var(--fill-color);\n",
       "    }\n",
       "    60% {\n",
       "      border-color: transparent;\n",
       "      border-right-color: var(--fill-color);\n",
       "    }\n",
       "    80% {\n",
       "      border-color: transparent;\n",
       "      border-right-color: var(--fill-color);\n",
       "      border-bottom-color: var(--fill-color);\n",
       "    }\n",
       "    90% {\n",
       "      border-color: transparent;\n",
       "      border-bottom-color: var(--fill-color);\n",
       "    }\n",
       "  }\n",
       "</style>\n",
       "\n",
       "  <script>\n",
       "    async function quickchart(key) {\n",
       "      const quickchartButtonEl =\n",
       "        document.querySelector('#' + key + ' button');\n",
       "      quickchartButtonEl.disabled = true;  // To prevent multiple clicks.\n",
       "      quickchartButtonEl.classList.add('colab-df-spinner');\n",
       "      try {\n",
       "        const charts = await google.colab.kernel.invokeFunction(\n",
       "            'suggestCharts', [key], {});\n",
       "      } catch (error) {\n",
       "        console.error('Error during call to suggestCharts:', error);\n",
       "      }\n",
       "      quickchartButtonEl.classList.remove('colab-df-spinner');\n",
       "      quickchartButtonEl.classList.add('colab-df-quickchart-complete');\n",
       "    }\n",
       "    (() => {\n",
       "      let quickchartButtonEl =\n",
       "        document.querySelector('#df-a1a5313d-f431-4ebc-8d39-19d7fbcf2d66 button');\n",
       "      quickchartButtonEl.style.display =\n",
       "        google.colab.kernel.accessAllowed ? 'block' : 'none';\n",
       "    })();\n",
       "  </script>\n",
       "</div>\n",
       "    </div>\n",
       "  </div>\n"
      ]
     },
     "metadata": {},
     "execution_count": 104
    }
   ]
  },
  {
   "cell_type": "markdown",
   "source": [
    "Un possibile modo per selezionare una riga è il seguente"
   ],
   "metadata": {
    "id": "gPM2GJW8gOcJ"
   }
  },
  {
   "cell_type": "code",
   "source": [
    "df.loc[0, :]"
   ],
   "metadata": {
    "colab": {
     "base_uri": "https://localhost:8080/"
    },
    "id": "OnJxHbgPgKUn",
    "outputId": "62d8f82a-45d8-4a1e-d394-278972bb3a28",
    "executionInfo": {
     "status": "ok",
     "timestamp": 1700412126876,
     "user_tz": -60,
     "elapsed": 530,
     "user": {
      "displayName": "Davide Costantini",
      "userId": "04876007539952493084"
     }
    }
   },
   "execution_count": 105,
   "outputs": [
    {
     "output_type": "execute_result",
     "data": {
      "text/plain": [
       "sepal length (cm)    5.1\n",
       "sepal width (cm)     3.5\n",
       "petal length (cm)    1.4\n",
       "petal width (cm)     0.2\n",
       "target               0.0\n",
       "Name: 0, dtype: float64"
      ]
     },
     "metadata": {},
     "execution_count": 105
    }
   ]
  },
  {
   "cell_type": "markdown",
   "source": [
    "Per selezionare più righe:"
   ],
   "metadata": {
    "id": "oK--FyXfg_gd"
   }
  },
  {
   "cell_type": "code",
   "source": [
    "df.loc[0:5, :]"
   ],
   "metadata": {
    "colab": {
     "base_uri": "https://localhost:8080/",
     "height": 235
    },
    "id": "QvpvJMTJhBkA",
    "outputId": "3651ae74-03b4-4e9d-b1b7-a86139abe61f",
    "executionInfo": {
     "status": "ok",
     "timestamp": 1700412126876,
     "user_tz": -60,
     "elapsed": 527,
     "user": {
      "displayName": "Davide Costantini",
      "userId": "04876007539952493084"
     }
    }
   },
   "execution_count": 106,
   "outputs": [
    {
     "output_type": "execute_result",
     "data": {
      "text/plain": [
       "   sepal length (cm)  sepal width (cm)  petal length (cm)  petal width (cm)  \\\n",
       "0                5.1               3.5                1.4               0.2   \n",
       "1                4.9               3.0                1.4               0.2   \n",
       "2                4.7               3.2                1.3               0.2   \n",
       "3                4.6               3.1                1.5               0.2   \n",
       "4                5.0               3.6                1.4               0.2   \n",
       "5                5.4               3.9                1.7               0.4   \n",
       "\n",
       "  target  \n",
       "0      0  \n",
       "1      0  \n",
       "2      0  \n",
       "3      0  \n",
       "4      0  \n",
       "5      0  "
      ],
      "text/html": [
       "\n",
       "  <div id=\"df-e28eac34-747b-4356-bd01-4b58b30dbd21\" class=\"colab-df-container\">\n",
       "    <div>\n",
       "<style scoped>\n",
       "    .dataframe tbody tr th:only-of-type {\n",
       "        vertical-align: middle;\n",
       "    }\n",
       "\n",
       "    .dataframe tbody tr th {\n",
       "        vertical-align: top;\n",
       "    }\n",
       "\n",
       "    .dataframe thead th {\n",
       "        text-align: right;\n",
       "    }\n",
       "</style>\n",
       "<table border=\"1\" class=\"dataframe\">\n",
       "  <thead>\n",
       "    <tr style=\"text-align: right;\">\n",
       "      <th></th>\n",
       "      <th>sepal length (cm)</th>\n",
       "      <th>sepal width (cm)</th>\n",
       "      <th>petal length (cm)</th>\n",
       "      <th>petal width (cm)</th>\n",
       "      <th>target</th>\n",
       "    </tr>\n",
       "  </thead>\n",
       "  <tbody>\n",
       "    <tr>\n",
       "      <th>0</th>\n",
       "      <td>5.1</td>\n",
       "      <td>3.5</td>\n",
       "      <td>1.4</td>\n",
       "      <td>0.2</td>\n",
       "      <td>0</td>\n",
       "    </tr>\n",
       "    <tr>\n",
       "      <th>1</th>\n",
       "      <td>4.9</td>\n",
       "      <td>3.0</td>\n",
       "      <td>1.4</td>\n",
       "      <td>0.2</td>\n",
       "      <td>0</td>\n",
       "    </tr>\n",
       "    <tr>\n",
       "      <th>2</th>\n",
       "      <td>4.7</td>\n",
       "      <td>3.2</td>\n",
       "      <td>1.3</td>\n",
       "      <td>0.2</td>\n",
       "      <td>0</td>\n",
       "    </tr>\n",
       "    <tr>\n",
       "      <th>3</th>\n",
       "      <td>4.6</td>\n",
       "      <td>3.1</td>\n",
       "      <td>1.5</td>\n",
       "      <td>0.2</td>\n",
       "      <td>0</td>\n",
       "    </tr>\n",
       "    <tr>\n",
       "      <th>4</th>\n",
       "      <td>5.0</td>\n",
       "      <td>3.6</td>\n",
       "      <td>1.4</td>\n",
       "      <td>0.2</td>\n",
       "      <td>0</td>\n",
       "    </tr>\n",
       "    <tr>\n",
       "      <th>5</th>\n",
       "      <td>5.4</td>\n",
       "      <td>3.9</td>\n",
       "      <td>1.7</td>\n",
       "      <td>0.4</td>\n",
       "      <td>0</td>\n",
       "    </tr>\n",
       "  </tbody>\n",
       "</table>\n",
       "</div>\n",
       "    <div class=\"colab-df-buttons\">\n",
       "\n",
       "  <div class=\"colab-df-container\">\n",
       "    <button class=\"colab-df-convert\" onclick=\"convertToInteractive('df-e28eac34-747b-4356-bd01-4b58b30dbd21')\"\n",
       "            title=\"Convert this dataframe to an interactive table.\"\n",
       "            style=\"display:none;\">\n",
       "\n",
       "  <svg xmlns=\"http://www.w3.org/2000/svg\" height=\"24px\" viewBox=\"0 -960 960 960\">\n",
       "    <path d=\"M120-120v-720h720v720H120Zm60-500h600v-160H180v160Zm220 220h160v-160H400v160Zm0 220h160v-160H400v160ZM180-400h160v-160H180v160Zm440 0h160v-160H620v160ZM180-180h160v-160H180v160Zm440 0h160v-160H620v160Z\"/>\n",
       "  </svg>\n",
       "    </button>\n",
       "\n",
       "  <style>\n",
       "    .colab-df-container {\n",
       "      display:flex;\n",
       "      gap: 12px;\n",
       "    }\n",
       "\n",
       "    .colab-df-convert {\n",
       "      background-color: #E8F0FE;\n",
       "      border: none;\n",
       "      border-radius: 50%;\n",
       "      cursor: pointer;\n",
       "      display: none;\n",
       "      fill: #1967D2;\n",
       "      height: 32px;\n",
       "      padding: 0 0 0 0;\n",
       "      width: 32px;\n",
       "    }\n",
       "\n",
       "    .colab-df-convert:hover {\n",
       "      background-color: #E2EBFA;\n",
       "      box-shadow: 0px 1px 2px rgba(60, 64, 67, 0.3), 0px 1px 3px 1px rgba(60, 64, 67, 0.15);\n",
       "      fill: #174EA6;\n",
       "    }\n",
       "\n",
       "    .colab-df-buttons div {\n",
       "      margin-bottom: 4px;\n",
       "    }\n",
       "\n",
       "    [theme=dark] .colab-df-convert {\n",
       "      background-color: #3B4455;\n",
       "      fill: #D2E3FC;\n",
       "    }\n",
       "\n",
       "    [theme=dark] .colab-df-convert:hover {\n",
       "      background-color: #434B5C;\n",
       "      box-shadow: 0px 1px 3px 1px rgba(0, 0, 0, 0.15);\n",
       "      filter: drop-shadow(0px 1px 2px rgba(0, 0, 0, 0.3));\n",
       "      fill: #FFFFFF;\n",
       "    }\n",
       "  </style>\n",
       "\n",
       "    <script>\n",
       "      const buttonEl =\n",
       "        document.querySelector('#df-e28eac34-747b-4356-bd01-4b58b30dbd21 button.colab-df-convert');\n",
       "      buttonEl.style.display =\n",
       "        google.colab.kernel.accessAllowed ? 'block' : 'none';\n",
       "\n",
       "      async function convertToInteractive(key) {\n",
       "        const element = document.querySelector('#df-e28eac34-747b-4356-bd01-4b58b30dbd21');\n",
       "        const dataTable =\n",
       "          await google.colab.kernel.invokeFunction('convertToInteractive',\n",
       "                                                    [key], {});\n",
       "        if (!dataTable) return;\n",
       "\n",
       "        const docLinkHtml = 'Like what you see? Visit the ' +\n",
       "          '<a target=\"_blank\" href=https://colab.research.google.com/notebooks/data_table.ipynb>data table notebook</a>'\n",
       "          + ' to learn more about interactive tables.';\n",
       "        element.innerHTML = '';\n",
       "        dataTable['output_type'] = 'display_data';\n",
       "        await google.colab.output.renderOutput(dataTable, element);\n",
       "        const docLink = document.createElement('div');\n",
       "        docLink.innerHTML = docLinkHtml;\n",
       "        element.appendChild(docLink);\n",
       "      }\n",
       "    </script>\n",
       "  </div>\n",
       "\n",
       "\n",
       "<div id=\"df-87fb539d-3c4b-4ccf-aa74-65dc7eb89cd9\">\n",
       "  <button class=\"colab-df-quickchart\" onclick=\"quickchart('df-87fb539d-3c4b-4ccf-aa74-65dc7eb89cd9')\"\n",
       "            title=\"Suggest charts\"\n",
       "            style=\"display:none;\">\n",
       "\n",
       "<svg xmlns=\"http://www.w3.org/2000/svg\" height=\"24px\"viewBox=\"0 0 24 24\"\n",
       "     width=\"24px\">\n",
       "    <g>\n",
       "        <path d=\"M19 3H5c-1.1 0-2 .9-2 2v14c0 1.1.9 2 2 2h14c1.1 0 2-.9 2-2V5c0-1.1-.9-2-2-2zM9 17H7v-7h2v7zm4 0h-2V7h2v10zm4 0h-2v-4h2v4z\"/>\n",
       "    </g>\n",
       "</svg>\n",
       "  </button>\n",
       "\n",
       "<style>\n",
       "  .colab-df-quickchart {\n",
       "      --bg-color: #E8F0FE;\n",
       "      --fill-color: #1967D2;\n",
       "      --hover-bg-color: #E2EBFA;\n",
       "      --hover-fill-color: #174EA6;\n",
       "      --disabled-fill-color: #AAA;\n",
       "      --disabled-bg-color: #DDD;\n",
       "  }\n",
       "\n",
       "  [theme=dark] .colab-df-quickchart {\n",
       "      --bg-color: #3B4455;\n",
       "      --fill-color: #D2E3FC;\n",
       "      --hover-bg-color: #434B5C;\n",
       "      --hover-fill-color: #FFFFFF;\n",
       "      --disabled-bg-color: #3B4455;\n",
       "      --disabled-fill-color: #666;\n",
       "  }\n",
       "\n",
       "  .colab-df-quickchart {\n",
       "    background-color: var(--bg-color);\n",
       "    border: none;\n",
       "    border-radius: 50%;\n",
       "    cursor: pointer;\n",
       "    display: none;\n",
       "    fill: var(--fill-color);\n",
       "    height: 32px;\n",
       "    padding: 0;\n",
       "    width: 32px;\n",
       "  }\n",
       "\n",
       "  .colab-df-quickchart:hover {\n",
       "    background-color: var(--hover-bg-color);\n",
       "    box-shadow: 0 1px 2px rgba(60, 64, 67, 0.3), 0 1px 3px 1px rgba(60, 64, 67, 0.15);\n",
       "    fill: var(--button-hover-fill-color);\n",
       "  }\n",
       "\n",
       "  .colab-df-quickchart-complete:disabled,\n",
       "  .colab-df-quickchart-complete:disabled:hover {\n",
       "    background-color: var(--disabled-bg-color);\n",
       "    fill: var(--disabled-fill-color);\n",
       "    box-shadow: none;\n",
       "  }\n",
       "\n",
       "  .colab-df-spinner {\n",
       "    border: 2px solid var(--fill-color);\n",
       "    border-color: transparent;\n",
       "    border-bottom-color: var(--fill-color);\n",
       "    animation:\n",
       "      spin 1s steps(1) infinite;\n",
       "  }\n",
       "\n",
       "  @keyframes spin {\n",
       "    0% {\n",
       "      border-color: transparent;\n",
       "      border-bottom-color: var(--fill-color);\n",
       "      border-left-color: var(--fill-color);\n",
       "    }\n",
       "    20% {\n",
       "      border-color: transparent;\n",
       "      border-left-color: var(--fill-color);\n",
       "      border-top-color: var(--fill-color);\n",
       "    }\n",
       "    30% {\n",
       "      border-color: transparent;\n",
       "      border-left-color: var(--fill-color);\n",
       "      border-top-color: var(--fill-color);\n",
       "      border-right-color: var(--fill-color);\n",
       "    }\n",
       "    40% {\n",
       "      border-color: transparent;\n",
       "      border-right-color: var(--fill-color);\n",
       "      border-top-color: var(--fill-color);\n",
       "    }\n",
       "    60% {\n",
       "      border-color: transparent;\n",
       "      border-right-color: var(--fill-color);\n",
       "    }\n",
       "    80% {\n",
       "      border-color: transparent;\n",
       "      border-right-color: var(--fill-color);\n",
       "      border-bottom-color: var(--fill-color);\n",
       "    }\n",
       "    90% {\n",
       "      border-color: transparent;\n",
       "      border-bottom-color: var(--fill-color);\n",
       "    }\n",
       "  }\n",
       "</style>\n",
       "\n",
       "  <script>\n",
       "    async function quickchart(key) {\n",
       "      const quickchartButtonEl =\n",
       "        document.querySelector('#' + key + ' button');\n",
       "      quickchartButtonEl.disabled = true;  // To prevent multiple clicks.\n",
       "      quickchartButtonEl.classList.add('colab-df-spinner');\n",
       "      try {\n",
       "        const charts = await google.colab.kernel.invokeFunction(\n",
       "            'suggestCharts', [key], {});\n",
       "      } catch (error) {\n",
       "        console.error('Error during call to suggestCharts:', error);\n",
       "      }\n",
       "      quickchartButtonEl.classList.remove('colab-df-spinner');\n",
       "      quickchartButtonEl.classList.add('colab-df-quickchart-complete');\n",
       "    }\n",
       "    (() => {\n",
       "      let quickchartButtonEl =\n",
       "        document.querySelector('#df-87fb539d-3c4b-4ccf-aa74-65dc7eb89cd9 button');\n",
       "      quickchartButtonEl.style.display =\n",
       "        google.colab.kernel.accessAllowed ? 'block' : 'none';\n",
       "    })();\n",
       "  </script>\n",
       "</div>\n",
       "    </div>\n",
       "  </div>\n"
      ]
     },
     "metadata": {},
     "execution_count": 106
    }
   ]
  },
  {
   "cell_type": "markdown",
   "source": [
    "Per selezionare il valore di una cella nel DataFrame:"
   ],
   "metadata": {
    "id": "EItSSxTtgkAt"
   }
  },
  {
   "cell_type": "code",
   "source": [
    "df.loc[0, \"petal length (cm)\"]"
   ],
   "metadata": {
    "colab": {
     "base_uri": "https://localhost:8080/"
    },
    "id": "p3C2sZB3gXrA",
    "outputId": "5372f7cc-68a5-44fe-900d-ac61ae549a40",
    "executionInfo": {
     "status": "ok",
     "timestamp": 1700412126876,
     "user_tz": -60,
     "elapsed": 526,
     "user": {
      "displayName": "Davide Costantini",
      "userId": "04876007539952493084"
     }
    }
   },
   "execution_count": 107,
   "outputs": [
    {
     "output_type": "execute_result",
     "data": {
      "text/plain": [
       "1.4"
      ]
     },
     "metadata": {},
     "execution_count": 107
    }
   ]
  },
  {
   "cell_type": "markdown",
   "source": [
    "Selezioniamo gli indici delle righe che hanno il valore della colonna *target* pari a 2."
   ],
   "metadata": {
    "id": "6wTp0FXMhK8-"
   }
  },
  {
   "cell_type": "code",
   "source": [
    "df[df[\"target\"] == 2].index"
   ],
   "metadata": {
    "colab": {
     "base_uri": "https://localhost:8080/"
    },
    "id": "0q95VgbwgrBo",
    "outputId": "c0aea763-701c-4cae-9683-d02e6da91919",
    "executionInfo": {
     "status": "ok",
     "timestamp": 1700412126876,
     "user_tz": -60,
     "elapsed": 523,
     "user": {
      "displayName": "Davide Costantini",
      "userId": "04876007539952493084"
     }
    }
   },
   "execution_count": 108,
   "outputs": [
    {
     "output_type": "execute_result",
     "data": {
      "text/plain": [
       "Int64Index([100, 101, 102, 103, 104, 105, 106, 107, 108, 109, 110, 111, 112,\n",
       "            113, 114, 115, 116, 117, 118, 119, 120, 121, 122, 123, 124, 125,\n",
       "            126, 127, 128, 129, 130, 131, 132, 133, 134, 135, 136, 137, 138,\n",
       "            139, 140, 141, 142, 143, 144, 145, 146, 147, 148, 149],\n",
       "           dtype='int64')"
      ]
     },
     "metadata": {},
     "execution_count": 108
    }
   ]
  },
  {
   "cell_type": "markdown",
   "source": [
    "Ora selezioniamo tutte le righe per cui la lunghezza del petalo è minore o uguale ad 1.4, mentre la sua larghezza è maggiore di 0.2."
   ],
   "metadata": {
    "id": "go5NnOj6hiof"
   }
  },
  {
   "cell_type": "code",
   "source": [
    "df[(df[\"petal length (cm)\"] <= 1.4) & (df[\"petal width (cm)\"] >= 0.2)]"
   ],
   "metadata": {
    "colab": {
     "base_uri": "https://localhost:8080/",
     "height": 700
    },
    "id": "sTXxGtOghakX",
    "outputId": "1caa4a62-19a5-41c8-ba1d-89187000c91c",
    "executionInfo": {
     "status": "ok",
     "timestamp": 1700412126876,
     "user_tz": -60,
     "elapsed": 520,
     "user": {
      "displayName": "Davide Costantini",
      "userId": "04876007539952493084"
     }
    }
   },
   "execution_count": 109,
   "outputs": [
    {
     "output_type": "execute_result",
     "data": {
      "text/plain": [
       "    sepal length (cm)  sepal width (cm)  petal length (cm)  petal width (cm)  \\\n",
       "0                 5.1               3.5                1.4               0.2   \n",
       "1                 4.9               3.0                1.4               0.2   \n",
       "2                 4.7               3.2                1.3               0.2   \n",
       "4                 5.0               3.6                1.4               0.2   \n",
       "6                 4.6               3.4                1.4               0.3   \n",
       "8                 4.4               2.9                1.4               0.2   \n",
       "14                5.8               4.0                1.2               0.2   \n",
       "16                5.4               3.9                1.3               0.4   \n",
       "17                5.1               3.5                1.4               0.3   \n",
       "22                4.6               3.6                1.0               0.2   \n",
       "28                5.2               3.4                1.4               0.2   \n",
       "33                5.5               4.2                1.4               0.2   \n",
       "35                5.0               3.2                1.2               0.2   \n",
       "36                5.5               3.5                1.3               0.2   \n",
       "38                4.4               3.0                1.3               0.2   \n",
       "40                5.0               3.5                1.3               0.3   \n",
       "41                4.5               2.3                1.3               0.3   \n",
       "42                4.4               3.2                1.3               0.2   \n",
       "45                4.8               3.0                1.4               0.3   \n",
       "47                4.6               3.2                1.4               0.2   \n",
       "49                5.0               3.3                1.4               0.2   \n",
       "\n",
       "   target  \n",
       "0       0  \n",
       "1       0  \n",
       "2       0  \n",
       "4       0  \n",
       "6       0  \n",
       "8       0  \n",
       "14      0  \n",
       "16      0  \n",
       "17      0  \n",
       "22      0  \n",
       "28      0  \n",
       "33      0  \n",
       "35      0  \n",
       "36      0  \n",
       "38      0  \n",
       "40      0  \n",
       "41      0  \n",
       "42      0  \n",
       "45      0  \n",
       "47      0  \n",
       "49      0  "
      ],
      "text/html": [
       "\n",
       "  <div id=\"df-b7c459a0-9f6d-4f8b-b304-3c296bb70c2f\" class=\"colab-df-container\">\n",
       "    <div>\n",
       "<style scoped>\n",
       "    .dataframe tbody tr th:only-of-type {\n",
       "        vertical-align: middle;\n",
       "    }\n",
       "\n",
       "    .dataframe tbody tr th {\n",
       "        vertical-align: top;\n",
       "    }\n",
       "\n",
       "    .dataframe thead th {\n",
       "        text-align: right;\n",
       "    }\n",
       "</style>\n",
       "<table border=\"1\" class=\"dataframe\">\n",
       "  <thead>\n",
       "    <tr style=\"text-align: right;\">\n",
       "      <th></th>\n",
       "      <th>sepal length (cm)</th>\n",
       "      <th>sepal width (cm)</th>\n",
       "      <th>petal length (cm)</th>\n",
       "      <th>petal width (cm)</th>\n",
       "      <th>target</th>\n",
       "    </tr>\n",
       "  </thead>\n",
       "  <tbody>\n",
       "    <tr>\n",
       "      <th>0</th>\n",
       "      <td>5.1</td>\n",
       "      <td>3.5</td>\n",
       "      <td>1.4</td>\n",
       "      <td>0.2</td>\n",
       "      <td>0</td>\n",
       "    </tr>\n",
       "    <tr>\n",
       "      <th>1</th>\n",
       "      <td>4.9</td>\n",
       "      <td>3.0</td>\n",
       "      <td>1.4</td>\n",
       "      <td>0.2</td>\n",
       "      <td>0</td>\n",
       "    </tr>\n",
       "    <tr>\n",
       "      <th>2</th>\n",
       "      <td>4.7</td>\n",
       "      <td>3.2</td>\n",
       "      <td>1.3</td>\n",
       "      <td>0.2</td>\n",
       "      <td>0</td>\n",
       "    </tr>\n",
       "    <tr>\n",
       "      <th>4</th>\n",
       "      <td>5.0</td>\n",
       "      <td>3.6</td>\n",
       "      <td>1.4</td>\n",
       "      <td>0.2</td>\n",
       "      <td>0</td>\n",
       "    </tr>\n",
       "    <tr>\n",
       "      <th>6</th>\n",
       "      <td>4.6</td>\n",
       "      <td>3.4</td>\n",
       "      <td>1.4</td>\n",
       "      <td>0.3</td>\n",
       "      <td>0</td>\n",
       "    </tr>\n",
       "    <tr>\n",
       "      <th>8</th>\n",
       "      <td>4.4</td>\n",
       "      <td>2.9</td>\n",
       "      <td>1.4</td>\n",
       "      <td>0.2</td>\n",
       "      <td>0</td>\n",
       "    </tr>\n",
       "    <tr>\n",
       "      <th>14</th>\n",
       "      <td>5.8</td>\n",
       "      <td>4.0</td>\n",
       "      <td>1.2</td>\n",
       "      <td>0.2</td>\n",
       "      <td>0</td>\n",
       "    </tr>\n",
       "    <tr>\n",
       "      <th>16</th>\n",
       "      <td>5.4</td>\n",
       "      <td>3.9</td>\n",
       "      <td>1.3</td>\n",
       "      <td>0.4</td>\n",
       "      <td>0</td>\n",
       "    </tr>\n",
       "    <tr>\n",
       "      <th>17</th>\n",
       "      <td>5.1</td>\n",
       "      <td>3.5</td>\n",
       "      <td>1.4</td>\n",
       "      <td>0.3</td>\n",
       "      <td>0</td>\n",
       "    </tr>\n",
       "    <tr>\n",
       "      <th>22</th>\n",
       "      <td>4.6</td>\n",
       "      <td>3.6</td>\n",
       "      <td>1.0</td>\n",
       "      <td>0.2</td>\n",
       "      <td>0</td>\n",
       "    </tr>\n",
       "    <tr>\n",
       "      <th>28</th>\n",
       "      <td>5.2</td>\n",
       "      <td>3.4</td>\n",
       "      <td>1.4</td>\n",
       "      <td>0.2</td>\n",
       "      <td>0</td>\n",
       "    </tr>\n",
       "    <tr>\n",
       "      <th>33</th>\n",
       "      <td>5.5</td>\n",
       "      <td>4.2</td>\n",
       "      <td>1.4</td>\n",
       "      <td>0.2</td>\n",
       "      <td>0</td>\n",
       "    </tr>\n",
       "    <tr>\n",
       "      <th>35</th>\n",
       "      <td>5.0</td>\n",
       "      <td>3.2</td>\n",
       "      <td>1.2</td>\n",
       "      <td>0.2</td>\n",
       "      <td>0</td>\n",
       "    </tr>\n",
       "    <tr>\n",
       "      <th>36</th>\n",
       "      <td>5.5</td>\n",
       "      <td>3.5</td>\n",
       "      <td>1.3</td>\n",
       "      <td>0.2</td>\n",
       "      <td>0</td>\n",
       "    </tr>\n",
       "    <tr>\n",
       "      <th>38</th>\n",
       "      <td>4.4</td>\n",
       "      <td>3.0</td>\n",
       "      <td>1.3</td>\n",
       "      <td>0.2</td>\n",
       "      <td>0</td>\n",
       "    </tr>\n",
       "    <tr>\n",
       "      <th>40</th>\n",
       "      <td>5.0</td>\n",
       "      <td>3.5</td>\n",
       "      <td>1.3</td>\n",
       "      <td>0.3</td>\n",
       "      <td>0</td>\n",
       "    </tr>\n",
       "    <tr>\n",
       "      <th>41</th>\n",
       "      <td>4.5</td>\n",
       "      <td>2.3</td>\n",
       "      <td>1.3</td>\n",
       "      <td>0.3</td>\n",
       "      <td>0</td>\n",
       "    </tr>\n",
       "    <tr>\n",
       "      <th>42</th>\n",
       "      <td>4.4</td>\n",
       "      <td>3.2</td>\n",
       "      <td>1.3</td>\n",
       "      <td>0.2</td>\n",
       "      <td>0</td>\n",
       "    </tr>\n",
       "    <tr>\n",
       "      <th>45</th>\n",
       "      <td>4.8</td>\n",
       "      <td>3.0</td>\n",
       "      <td>1.4</td>\n",
       "      <td>0.3</td>\n",
       "      <td>0</td>\n",
       "    </tr>\n",
       "    <tr>\n",
       "      <th>47</th>\n",
       "      <td>4.6</td>\n",
       "      <td>3.2</td>\n",
       "      <td>1.4</td>\n",
       "      <td>0.2</td>\n",
       "      <td>0</td>\n",
       "    </tr>\n",
       "    <tr>\n",
       "      <th>49</th>\n",
       "      <td>5.0</td>\n",
       "      <td>3.3</td>\n",
       "      <td>1.4</td>\n",
       "      <td>0.2</td>\n",
       "      <td>0</td>\n",
       "    </tr>\n",
       "  </tbody>\n",
       "</table>\n",
       "</div>\n",
       "    <div class=\"colab-df-buttons\">\n",
       "\n",
       "  <div class=\"colab-df-container\">\n",
       "    <button class=\"colab-df-convert\" onclick=\"convertToInteractive('df-b7c459a0-9f6d-4f8b-b304-3c296bb70c2f')\"\n",
       "            title=\"Convert this dataframe to an interactive table.\"\n",
       "            style=\"display:none;\">\n",
       "\n",
       "  <svg xmlns=\"http://www.w3.org/2000/svg\" height=\"24px\" viewBox=\"0 -960 960 960\">\n",
       "    <path d=\"M120-120v-720h720v720H120Zm60-500h600v-160H180v160Zm220 220h160v-160H400v160Zm0 220h160v-160H400v160ZM180-400h160v-160H180v160Zm440 0h160v-160H620v160ZM180-180h160v-160H180v160Zm440 0h160v-160H620v160Z\"/>\n",
       "  </svg>\n",
       "    </button>\n",
       "\n",
       "  <style>\n",
       "    .colab-df-container {\n",
       "      display:flex;\n",
       "      gap: 12px;\n",
       "    }\n",
       "\n",
       "    .colab-df-convert {\n",
       "      background-color: #E8F0FE;\n",
       "      border: none;\n",
       "      border-radius: 50%;\n",
       "      cursor: pointer;\n",
       "      display: none;\n",
       "      fill: #1967D2;\n",
       "      height: 32px;\n",
       "      padding: 0 0 0 0;\n",
       "      width: 32px;\n",
       "    }\n",
       "\n",
       "    .colab-df-convert:hover {\n",
       "      background-color: #E2EBFA;\n",
       "      box-shadow: 0px 1px 2px rgba(60, 64, 67, 0.3), 0px 1px 3px 1px rgba(60, 64, 67, 0.15);\n",
       "      fill: #174EA6;\n",
       "    }\n",
       "\n",
       "    .colab-df-buttons div {\n",
       "      margin-bottom: 4px;\n",
       "    }\n",
       "\n",
       "    [theme=dark] .colab-df-convert {\n",
       "      background-color: #3B4455;\n",
       "      fill: #D2E3FC;\n",
       "    }\n",
       "\n",
       "    [theme=dark] .colab-df-convert:hover {\n",
       "      background-color: #434B5C;\n",
       "      box-shadow: 0px 1px 3px 1px rgba(0, 0, 0, 0.15);\n",
       "      filter: drop-shadow(0px 1px 2px rgba(0, 0, 0, 0.3));\n",
       "      fill: #FFFFFF;\n",
       "    }\n",
       "  </style>\n",
       "\n",
       "    <script>\n",
       "      const buttonEl =\n",
       "        document.querySelector('#df-b7c459a0-9f6d-4f8b-b304-3c296bb70c2f button.colab-df-convert');\n",
       "      buttonEl.style.display =\n",
       "        google.colab.kernel.accessAllowed ? 'block' : 'none';\n",
       "\n",
       "      async function convertToInteractive(key) {\n",
       "        const element = document.querySelector('#df-b7c459a0-9f6d-4f8b-b304-3c296bb70c2f');\n",
       "        const dataTable =\n",
       "          await google.colab.kernel.invokeFunction('convertToInteractive',\n",
       "                                                    [key], {});\n",
       "        if (!dataTable) return;\n",
       "\n",
       "        const docLinkHtml = 'Like what you see? Visit the ' +\n",
       "          '<a target=\"_blank\" href=https://colab.research.google.com/notebooks/data_table.ipynb>data table notebook</a>'\n",
       "          + ' to learn more about interactive tables.';\n",
       "        element.innerHTML = '';\n",
       "        dataTable['output_type'] = 'display_data';\n",
       "        await google.colab.output.renderOutput(dataTable, element);\n",
       "        const docLink = document.createElement('div');\n",
       "        docLink.innerHTML = docLinkHtml;\n",
       "        element.appendChild(docLink);\n",
       "      }\n",
       "    </script>\n",
       "  </div>\n",
       "\n",
       "\n",
       "<div id=\"df-27a13faf-6327-4608-a045-a070dc0af538\">\n",
       "  <button class=\"colab-df-quickchart\" onclick=\"quickchart('df-27a13faf-6327-4608-a045-a070dc0af538')\"\n",
       "            title=\"Suggest charts\"\n",
       "            style=\"display:none;\">\n",
       "\n",
       "<svg xmlns=\"http://www.w3.org/2000/svg\" height=\"24px\"viewBox=\"0 0 24 24\"\n",
       "     width=\"24px\">\n",
       "    <g>\n",
       "        <path d=\"M19 3H5c-1.1 0-2 .9-2 2v14c0 1.1.9 2 2 2h14c1.1 0 2-.9 2-2V5c0-1.1-.9-2-2-2zM9 17H7v-7h2v7zm4 0h-2V7h2v10zm4 0h-2v-4h2v4z\"/>\n",
       "    </g>\n",
       "</svg>\n",
       "  </button>\n",
       "\n",
       "<style>\n",
       "  .colab-df-quickchart {\n",
       "      --bg-color: #E8F0FE;\n",
       "      --fill-color: #1967D2;\n",
       "      --hover-bg-color: #E2EBFA;\n",
       "      --hover-fill-color: #174EA6;\n",
       "      --disabled-fill-color: #AAA;\n",
       "      --disabled-bg-color: #DDD;\n",
       "  }\n",
       "\n",
       "  [theme=dark] .colab-df-quickchart {\n",
       "      --bg-color: #3B4455;\n",
       "      --fill-color: #D2E3FC;\n",
       "      --hover-bg-color: #434B5C;\n",
       "      --hover-fill-color: #FFFFFF;\n",
       "      --disabled-bg-color: #3B4455;\n",
       "      --disabled-fill-color: #666;\n",
       "  }\n",
       "\n",
       "  .colab-df-quickchart {\n",
       "    background-color: var(--bg-color);\n",
       "    border: none;\n",
       "    border-radius: 50%;\n",
       "    cursor: pointer;\n",
       "    display: none;\n",
       "    fill: var(--fill-color);\n",
       "    height: 32px;\n",
       "    padding: 0;\n",
       "    width: 32px;\n",
       "  }\n",
       "\n",
       "  .colab-df-quickchart:hover {\n",
       "    background-color: var(--hover-bg-color);\n",
       "    box-shadow: 0 1px 2px rgba(60, 64, 67, 0.3), 0 1px 3px 1px rgba(60, 64, 67, 0.15);\n",
       "    fill: var(--button-hover-fill-color);\n",
       "  }\n",
       "\n",
       "  .colab-df-quickchart-complete:disabled,\n",
       "  .colab-df-quickchart-complete:disabled:hover {\n",
       "    background-color: var(--disabled-bg-color);\n",
       "    fill: var(--disabled-fill-color);\n",
       "    box-shadow: none;\n",
       "  }\n",
       "\n",
       "  .colab-df-spinner {\n",
       "    border: 2px solid var(--fill-color);\n",
       "    border-color: transparent;\n",
       "    border-bottom-color: var(--fill-color);\n",
       "    animation:\n",
       "      spin 1s steps(1) infinite;\n",
       "  }\n",
       "\n",
       "  @keyframes spin {\n",
       "    0% {\n",
       "      border-color: transparent;\n",
       "      border-bottom-color: var(--fill-color);\n",
       "      border-left-color: var(--fill-color);\n",
       "    }\n",
       "    20% {\n",
       "      border-color: transparent;\n",
       "      border-left-color: var(--fill-color);\n",
       "      border-top-color: var(--fill-color);\n",
       "    }\n",
       "    30% {\n",
       "      border-color: transparent;\n",
       "      border-left-color: var(--fill-color);\n",
       "      border-top-color: var(--fill-color);\n",
       "      border-right-color: var(--fill-color);\n",
       "    }\n",
       "    40% {\n",
       "      border-color: transparent;\n",
       "      border-right-color: var(--fill-color);\n",
       "      border-top-color: var(--fill-color);\n",
       "    }\n",
       "    60% {\n",
       "      border-color: transparent;\n",
       "      border-right-color: var(--fill-color);\n",
       "    }\n",
       "    80% {\n",
       "      border-color: transparent;\n",
       "      border-right-color: var(--fill-color);\n",
       "      border-bottom-color: var(--fill-color);\n",
       "    }\n",
       "    90% {\n",
       "      border-color: transparent;\n",
       "      border-bottom-color: var(--fill-color);\n",
       "    }\n",
       "  }\n",
       "</style>\n",
       "\n",
       "  <script>\n",
       "    async function quickchart(key) {\n",
       "      const quickchartButtonEl =\n",
       "        document.querySelector('#' + key + ' button');\n",
       "      quickchartButtonEl.disabled = true;  // To prevent multiple clicks.\n",
       "      quickchartButtonEl.classList.add('colab-df-spinner');\n",
       "      try {\n",
       "        const charts = await google.colab.kernel.invokeFunction(\n",
       "            'suggestCharts', [key], {});\n",
       "      } catch (error) {\n",
       "        console.error('Error during call to suggestCharts:', error);\n",
       "      }\n",
       "      quickchartButtonEl.classList.remove('colab-df-spinner');\n",
       "      quickchartButtonEl.classList.add('colab-df-quickchart-complete');\n",
       "    }\n",
       "    (() => {\n",
       "      let quickchartButtonEl =\n",
       "        document.querySelector('#df-27a13faf-6327-4608-a045-a070dc0af538 button');\n",
       "      quickchartButtonEl.style.display =\n",
       "        google.colab.kernel.accessAllowed ? 'block' : 'none';\n",
       "    })();\n",
       "  </script>\n",
       "</div>\n",
       "    </div>\n",
       "  </div>\n"
      ]
     },
     "metadata": {},
     "execution_count": 109
    }
   ]
  },
  {
   "cell_type": "markdown",
   "source": [
    "E' possibile effettuare una prima esplorazione del dataset utilizzando il metodo *describe*, che mostra, per ciascuna colonna, le statistiche principali."
   ],
   "metadata": {
    "id": "CKZpD0i8i5qF"
   }
  },
  {
   "cell_type": "code",
   "source": [
    "df.describe()"
   ],
   "metadata": {
    "colab": {
     "base_uri": "https://localhost:8080/",
     "height": 297
    },
    "id": "KUX0wIPQh_Yd",
    "outputId": "1d4152fe-8d55-4090-8351-89b99eac7863",
    "executionInfo": {
     "status": "ok",
     "timestamp": 1700412126876,
     "user_tz": -60,
     "elapsed": 520,
     "user": {
      "displayName": "Davide Costantini",
      "userId": "04876007539952493084"
     }
    }
   },
   "execution_count": 110,
   "outputs": [
    {
     "output_type": "execute_result",
     "data": {
      "text/plain": [
       "       sepal length (cm)  sepal width (cm)  petal length (cm)  \\\n",
       "count         150.000000        150.000000         150.000000   \n",
       "mean            5.843333          3.057333           3.758000   \n",
       "std             0.828066          0.435866           1.765298   \n",
       "min             4.300000          2.000000           1.000000   \n",
       "25%             5.100000          2.800000           1.600000   \n",
       "50%             5.800000          3.000000           4.350000   \n",
       "75%             6.400000          3.300000           5.100000   \n",
       "max             7.900000          4.400000           6.900000   \n",
       "\n",
       "       petal width (cm)  \n",
       "count        150.000000  \n",
       "mean           1.199333  \n",
       "std            0.762238  \n",
       "min            0.100000  \n",
       "25%            0.300000  \n",
       "50%            1.300000  \n",
       "75%            1.800000  \n",
       "max            2.500000  "
      ],
      "text/html": [
       "\n",
       "  <div id=\"df-82bcb9da-a747-4a47-9714-3e5126265a2f\" class=\"colab-df-container\">\n",
       "    <div>\n",
       "<style scoped>\n",
       "    .dataframe tbody tr th:only-of-type {\n",
       "        vertical-align: middle;\n",
       "    }\n",
       "\n",
       "    .dataframe tbody tr th {\n",
       "        vertical-align: top;\n",
       "    }\n",
       "\n",
       "    .dataframe thead th {\n",
       "        text-align: right;\n",
       "    }\n",
       "</style>\n",
       "<table border=\"1\" class=\"dataframe\">\n",
       "  <thead>\n",
       "    <tr style=\"text-align: right;\">\n",
       "      <th></th>\n",
       "      <th>sepal length (cm)</th>\n",
       "      <th>sepal width (cm)</th>\n",
       "      <th>petal length (cm)</th>\n",
       "      <th>petal width (cm)</th>\n",
       "    </tr>\n",
       "  </thead>\n",
       "  <tbody>\n",
       "    <tr>\n",
       "      <th>count</th>\n",
       "      <td>150.000000</td>\n",
       "      <td>150.000000</td>\n",
       "      <td>150.000000</td>\n",
       "      <td>150.000000</td>\n",
       "    </tr>\n",
       "    <tr>\n",
       "      <th>mean</th>\n",
       "      <td>5.843333</td>\n",
       "      <td>3.057333</td>\n",
       "      <td>3.758000</td>\n",
       "      <td>1.199333</td>\n",
       "    </tr>\n",
       "    <tr>\n",
       "      <th>std</th>\n",
       "      <td>0.828066</td>\n",
       "      <td>0.435866</td>\n",
       "      <td>1.765298</td>\n",
       "      <td>0.762238</td>\n",
       "    </tr>\n",
       "    <tr>\n",
       "      <th>min</th>\n",
       "      <td>4.300000</td>\n",
       "      <td>2.000000</td>\n",
       "      <td>1.000000</td>\n",
       "      <td>0.100000</td>\n",
       "    </tr>\n",
       "    <tr>\n",
       "      <th>25%</th>\n",
       "      <td>5.100000</td>\n",
       "      <td>2.800000</td>\n",
       "      <td>1.600000</td>\n",
       "      <td>0.300000</td>\n",
       "    </tr>\n",
       "    <tr>\n",
       "      <th>50%</th>\n",
       "      <td>5.800000</td>\n",
       "      <td>3.000000</td>\n",
       "      <td>4.350000</td>\n",
       "      <td>1.300000</td>\n",
       "    </tr>\n",
       "    <tr>\n",
       "      <th>75%</th>\n",
       "      <td>6.400000</td>\n",
       "      <td>3.300000</td>\n",
       "      <td>5.100000</td>\n",
       "      <td>1.800000</td>\n",
       "    </tr>\n",
       "    <tr>\n",
       "      <th>max</th>\n",
       "      <td>7.900000</td>\n",
       "      <td>4.400000</td>\n",
       "      <td>6.900000</td>\n",
       "      <td>2.500000</td>\n",
       "    </tr>\n",
       "  </tbody>\n",
       "</table>\n",
       "</div>\n",
       "    <div class=\"colab-df-buttons\">\n",
       "\n",
       "  <div class=\"colab-df-container\">\n",
       "    <button class=\"colab-df-convert\" onclick=\"convertToInteractive('df-82bcb9da-a747-4a47-9714-3e5126265a2f')\"\n",
       "            title=\"Convert this dataframe to an interactive table.\"\n",
       "            style=\"display:none;\">\n",
       "\n",
       "  <svg xmlns=\"http://www.w3.org/2000/svg\" height=\"24px\" viewBox=\"0 -960 960 960\">\n",
       "    <path d=\"M120-120v-720h720v720H120Zm60-500h600v-160H180v160Zm220 220h160v-160H400v160Zm0 220h160v-160H400v160ZM180-400h160v-160H180v160Zm440 0h160v-160H620v160ZM180-180h160v-160H180v160Zm440 0h160v-160H620v160Z\"/>\n",
       "  </svg>\n",
       "    </button>\n",
       "\n",
       "  <style>\n",
       "    .colab-df-container {\n",
       "      display:flex;\n",
       "      gap: 12px;\n",
       "    }\n",
       "\n",
       "    .colab-df-convert {\n",
       "      background-color: #E8F0FE;\n",
       "      border: none;\n",
       "      border-radius: 50%;\n",
       "      cursor: pointer;\n",
       "      display: none;\n",
       "      fill: #1967D2;\n",
       "      height: 32px;\n",
       "      padding: 0 0 0 0;\n",
       "      width: 32px;\n",
       "    }\n",
       "\n",
       "    .colab-df-convert:hover {\n",
       "      background-color: #E2EBFA;\n",
       "      box-shadow: 0px 1px 2px rgba(60, 64, 67, 0.3), 0px 1px 3px 1px rgba(60, 64, 67, 0.15);\n",
       "      fill: #174EA6;\n",
       "    }\n",
       "\n",
       "    .colab-df-buttons div {\n",
       "      margin-bottom: 4px;\n",
       "    }\n",
       "\n",
       "    [theme=dark] .colab-df-convert {\n",
       "      background-color: #3B4455;\n",
       "      fill: #D2E3FC;\n",
       "    }\n",
       "\n",
       "    [theme=dark] .colab-df-convert:hover {\n",
       "      background-color: #434B5C;\n",
       "      box-shadow: 0px 1px 3px 1px rgba(0, 0, 0, 0.15);\n",
       "      filter: drop-shadow(0px 1px 2px rgba(0, 0, 0, 0.3));\n",
       "      fill: #FFFFFF;\n",
       "    }\n",
       "  </style>\n",
       "\n",
       "    <script>\n",
       "      const buttonEl =\n",
       "        document.querySelector('#df-82bcb9da-a747-4a47-9714-3e5126265a2f button.colab-df-convert');\n",
       "      buttonEl.style.display =\n",
       "        google.colab.kernel.accessAllowed ? 'block' : 'none';\n",
       "\n",
       "      async function convertToInteractive(key) {\n",
       "        const element = document.querySelector('#df-82bcb9da-a747-4a47-9714-3e5126265a2f');\n",
       "        const dataTable =\n",
       "          await google.colab.kernel.invokeFunction('convertToInteractive',\n",
       "                                                    [key], {});\n",
       "        if (!dataTable) return;\n",
       "\n",
       "        const docLinkHtml = 'Like what you see? Visit the ' +\n",
       "          '<a target=\"_blank\" href=https://colab.research.google.com/notebooks/data_table.ipynb>data table notebook</a>'\n",
       "          + ' to learn more about interactive tables.';\n",
       "        element.innerHTML = '';\n",
       "        dataTable['output_type'] = 'display_data';\n",
       "        await google.colab.output.renderOutput(dataTable, element);\n",
       "        const docLink = document.createElement('div');\n",
       "        docLink.innerHTML = docLinkHtml;\n",
       "        element.appendChild(docLink);\n",
       "      }\n",
       "    </script>\n",
       "  </div>\n",
       "\n",
       "\n",
       "<div id=\"df-29d7c350-e262-4a39-b7ec-e825b0119a94\">\n",
       "  <button class=\"colab-df-quickchart\" onclick=\"quickchart('df-29d7c350-e262-4a39-b7ec-e825b0119a94')\"\n",
       "            title=\"Suggest charts\"\n",
       "            style=\"display:none;\">\n",
       "\n",
       "<svg xmlns=\"http://www.w3.org/2000/svg\" height=\"24px\"viewBox=\"0 0 24 24\"\n",
       "     width=\"24px\">\n",
       "    <g>\n",
       "        <path d=\"M19 3H5c-1.1 0-2 .9-2 2v14c0 1.1.9 2 2 2h14c1.1 0 2-.9 2-2V5c0-1.1-.9-2-2-2zM9 17H7v-7h2v7zm4 0h-2V7h2v10zm4 0h-2v-4h2v4z\"/>\n",
       "    </g>\n",
       "</svg>\n",
       "  </button>\n",
       "\n",
       "<style>\n",
       "  .colab-df-quickchart {\n",
       "      --bg-color: #E8F0FE;\n",
       "      --fill-color: #1967D2;\n",
       "      --hover-bg-color: #E2EBFA;\n",
       "      --hover-fill-color: #174EA6;\n",
       "      --disabled-fill-color: #AAA;\n",
       "      --disabled-bg-color: #DDD;\n",
       "  }\n",
       "\n",
       "  [theme=dark] .colab-df-quickchart {\n",
       "      --bg-color: #3B4455;\n",
       "      --fill-color: #D2E3FC;\n",
       "      --hover-bg-color: #434B5C;\n",
       "      --hover-fill-color: #FFFFFF;\n",
       "      --disabled-bg-color: #3B4455;\n",
       "      --disabled-fill-color: #666;\n",
       "  }\n",
       "\n",
       "  .colab-df-quickchart {\n",
       "    background-color: var(--bg-color);\n",
       "    border: none;\n",
       "    border-radius: 50%;\n",
       "    cursor: pointer;\n",
       "    display: none;\n",
       "    fill: var(--fill-color);\n",
       "    height: 32px;\n",
       "    padding: 0;\n",
       "    width: 32px;\n",
       "  }\n",
       "\n",
       "  .colab-df-quickchart:hover {\n",
       "    background-color: var(--hover-bg-color);\n",
       "    box-shadow: 0 1px 2px rgba(60, 64, 67, 0.3), 0 1px 3px 1px rgba(60, 64, 67, 0.15);\n",
       "    fill: var(--button-hover-fill-color);\n",
       "  }\n",
       "\n",
       "  .colab-df-quickchart-complete:disabled,\n",
       "  .colab-df-quickchart-complete:disabled:hover {\n",
       "    background-color: var(--disabled-bg-color);\n",
       "    fill: var(--disabled-fill-color);\n",
       "    box-shadow: none;\n",
       "  }\n",
       "\n",
       "  .colab-df-spinner {\n",
       "    border: 2px solid var(--fill-color);\n",
       "    border-color: transparent;\n",
       "    border-bottom-color: var(--fill-color);\n",
       "    animation:\n",
       "      spin 1s steps(1) infinite;\n",
       "  }\n",
       "\n",
       "  @keyframes spin {\n",
       "    0% {\n",
       "      border-color: transparent;\n",
       "      border-bottom-color: var(--fill-color);\n",
       "      border-left-color: var(--fill-color);\n",
       "    }\n",
       "    20% {\n",
       "      border-color: transparent;\n",
       "      border-left-color: var(--fill-color);\n",
       "      border-top-color: var(--fill-color);\n",
       "    }\n",
       "    30% {\n",
       "      border-color: transparent;\n",
       "      border-left-color: var(--fill-color);\n",
       "      border-top-color: var(--fill-color);\n",
       "      border-right-color: var(--fill-color);\n",
       "    }\n",
       "    40% {\n",
       "      border-color: transparent;\n",
       "      border-right-color: var(--fill-color);\n",
       "      border-top-color: var(--fill-color);\n",
       "    }\n",
       "    60% {\n",
       "      border-color: transparent;\n",
       "      border-right-color: var(--fill-color);\n",
       "    }\n",
       "    80% {\n",
       "      border-color: transparent;\n",
       "      border-right-color: var(--fill-color);\n",
       "      border-bottom-color: var(--fill-color);\n",
       "    }\n",
       "    90% {\n",
       "      border-color: transparent;\n",
       "      border-bottom-color: var(--fill-color);\n",
       "    }\n",
       "  }\n",
       "</style>\n",
       "\n",
       "  <script>\n",
       "    async function quickchart(key) {\n",
       "      const quickchartButtonEl =\n",
       "        document.querySelector('#' + key + ' button');\n",
       "      quickchartButtonEl.disabled = true;  // To prevent multiple clicks.\n",
       "      quickchartButtonEl.classList.add('colab-df-spinner');\n",
       "      try {\n",
       "        const charts = await google.colab.kernel.invokeFunction(\n",
       "            'suggestCharts', [key], {});\n",
       "      } catch (error) {\n",
       "        console.error('Error during call to suggestCharts:', error);\n",
       "      }\n",
       "      quickchartButtonEl.classList.remove('colab-df-spinner');\n",
       "      quickchartButtonEl.classList.add('colab-df-quickchart-complete');\n",
       "    }\n",
       "    (() => {\n",
       "      let quickchartButtonEl =\n",
       "        document.querySelector('#df-29d7c350-e262-4a39-b7ec-e825b0119a94 button');\n",
       "      quickchartButtonEl.style.display =\n",
       "        google.colab.kernel.accessAllowed ? 'block' : 'none';\n",
       "    })();\n",
       "  </script>\n",
       "</div>\n",
       "    </div>\n",
       "  </div>\n"
      ]
     },
     "metadata": {},
     "execution_count": 110
    }
   ]
  },
  {
   "cell_type": "markdown",
   "source": [
    "Notiamo che la colonna *target* non è nell'elenco di colonne descritte con le diverse statistiche. Questo perchè la dunzione *describe* dà la precedenza alle variabili numeriche. Quindi, per visualizzare le statistiche associate alle colonne categoriche, bisogna eseguire la funzione solo su di esse. Con il codice seguente, selezioniamo solo la colonna categorica *target* e invochiamo il metodo."
   ],
   "metadata": {
    "id": "oKeHEoQukn2K"
   }
  },
  {
   "cell_type": "code",
   "source": [
    "df[\"target\"].describe()"
   ],
   "metadata": {
    "colab": {
     "base_uri": "https://localhost:8080/"
    },
    "id": "mSawCWKDkzvx",
    "outputId": "c2f3df05-5cf5-4b4f-efb2-58c1a48819c1",
    "executionInfo": {
     "status": "ok",
     "timestamp": 1700412127016,
     "user_tz": -60,
     "elapsed": 659,
     "user": {
      "displayName": "Davide Costantini",
      "userId": "04876007539952493084"
     }
    }
   },
   "execution_count": 111,
   "outputs": [
    {
     "output_type": "execute_result",
     "data": {
      "text/plain": [
       "count     150\n",
       "unique      3\n",
       "top         0\n",
       "freq       50\n",
       "Name: target, dtype: int64"
      ]
     },
     "metadata": {},
     "execution_count": 111
    }
   ]
  },
  {
   "cell_type": "markdown",
   "source": [
    "E' possibile anche contare quanti valori ci sono per ciascuna modalità della variabile categorica:"
   ],
   "metadata": {
    "id": "wLfI3Nstlzu9"
   }
  },
  {
   "cell_type": "code",
   "source": [
    "df[\"target\"].value_counts()"
   ],
   "metadata": {
    "colab": {
     "base_uri": "https://localhost:8080/"
    },
    "id": "I5jpvatWl6cP",
    "outputId": "a933a918-1ad7-472b-ad26-4c0fde623704",
    "executionInfo": {
     "status": "ok",
     "timestamp": 1700412127016,
     "user_tz": -60,
     "elapsed": 117,
     "user": {
      "displayName": "Davide Costantini",
      "userId": "04876007539952493084"
     }
    }
   },
   "execution_count": 112,
   "outputs": [
    {
     "output_type": "execute_result",
     "data": {
      "text/plain": [
       "0    50\n",
       "1    50\n",
       "2    50\n",
       "Name: target, dtype: int64"
      ]
     },
     "metadata": {},
     "execution_count": 112
    }
   ]
  },
  {
   "cell_type": "markdown",
   "source": [
    "E' possibile calcolare anche solamente una statistica nel seguente modo. Vediamo la media."
   ],
   "metadata": {
    "id": "xZHu31hujNJG"
   }
  },
  {
   "cell_type": "code",
   "source": [
    "df.mean()"
   ],
   "metadata": {
    "colab": {
     "base_uri": "https://localhost:8080/"
    },
    "id": "LVTygn8EjF3O",
    "outputId": "6732226d-88a2-4300-d4b9-017e113e5b47",
    "executionInfo": {
     "status": "ok",
     "timestamp": 1700412127016,
     "user_tz": -60,
     "elapsed": 112,
     "user": {
      "displayName": "Davide Costantini",
      "userId": "04876007539952493084"
     }
    }
   },
   "execution_count": 113,
   "outputs": [
    {
     "output_type": "stream",
     "name": "stderr",
     "text": [
      "<ipython-input-113-c61f0c8f89b5>:1: FutureWarning: The default value of numeric_only in DataFrame.mean is deprecated. In a future version, it will default to False. In addition, specifying 'numeric_only=None' is deprecated. Select only valid columns or specify the value of numeric_only to silence this warning.\n",
      "  df.mean()\n"
     ]
    },
    {
     "output_type": "execute_result",
     "data": {
      "text/plain": [
       "sepal length (cm)    5.843333\n",
       "sepal width (cm)     3.057333\n",
       "petal length (cm)    3.758000\n",
       "petal width (cm)     1.199333\n",
       "dtype: float64"
      ]
     },
     "metadata": {},
     "execution_count": 113
    }
   ]
  },
  {
   "cell_type": "markdown",
   "source": [
    "Vediamo ora la distribuzione della classe nel dataset tramite un grafico a torta"
   ],
   "metadata": {
    "id": "PXaYeGdsjb-b"
   }
  },
  {
   "cell_type": "code",
   "source": [
    "plt.pie(df[\"target\"].value_counts(), labels=[\"0\", \"1\", \"2\"], autopct='%1.1f%%')\n",
    "plt.legend()\n",
    "plt.title(\"Distribuzione della variabile \\\"target\\\"\")\n",
    "plt.show()"
   ],
   "metadata": {
    "colab": {
     "base_uri": "https://localhost:8080/",
     "height": 428
    },
    "id": "Q2bkETUEjSDV",
    "outputId": "d79a7399-16a4-4b85-b58f-6f5a270ae51f",
    "executionInfo": {
     "status": "ok",
     "timestamp": 1700412127016,
     "user_tz": -60,
     "elapsed": 108,
     "user": {
      "displayName": "Davide Costantini",
      "userId": "04876007539952493084"
     }
    }
   },
   "execution_count": 114,
   "outputs": [
    {
     "output_type": "display_data",
     "data": {
      "text/plain": [
       "<Figure size 640x480 with 1 Axes>"
      ],
      "image/png": "[encoded data removed]"
     },
     "metadata": {}
    }
   ]
  },
  {
   "cell_type": "markdown",
   "source": [
    "Vediamo la distribuzione della variabile *sepal length (cm)*."
   ],
   "metadata": {
    "id": "-9tQsHHLmPXn"
   }
  },
  {
   "cell_type": "code",
   "source": [
    "plt.hist(df[\"sepal length (cm)\"])\n",
    "plt.xlabel(\"sepal length (cm)\")\n",
    "plt.ylabel(\"Frequenza assoluta\")\n",
    "plt.title(\"Distribuzione della variabile \\\"sepal length (cm)\\\"\")\n",
    "plt.show()"
   ],
   "metadata": {
    "colab": {
     "base_uri": "https://localhost:8080/",
     "height": 472
    },
    "id": "TvdheW8bjpnK",
    "outputId": "00292bf6-f451-4580-bd85-cae6e159b079",
    "executionInfo": {
     "status": "ok",
     "timestamp": 1700412127648,
     "user_tz": -60,
     "elapsed": 739,
     "user": {
      "displayName": "Davide Costantini",
      "userId": "04876007539952493084"
     }
    }
   },
   "execution_count": 115,
   "outputs": [
    {
     "output_type": "display_data",
     "data": {
      "text/plain": [
       "<Figure size 640x480 with 1 Axes>"
      ],
      "image/png": "[encoded data removed]"
     },
     "metadata": {}
    }
   ]
  },
  {
   "cell_type": "markdown",
   "source": [
    "Vediamo la distribuzione di *sepal width (cm)* in funzione di *target*."
   ],
   "metadata": {
    "id": "MJZJgNtlmuQp"
   }
  },
  {
   "cell_type": "code",
   "source": [
    "data_to_plot = {\n",
    "    '0': df[df['target'] == 0]['sepal width (cm)'],\n",
    "    '1': df[df['target'] == 1]['sepal width (cm)'],\n",
    "    '2': df[df['target'] == 2]['sepal width (cm)']\n",
    "}\n",
    "\n",
    "# Crea il grafico a boxplot\n",
    "fig, ax = plt.subplots()\n",
    "ax.boxplot(data_to_plot.values())\n",
    "ax.set_xticklabels(data_to_plot.keys())\n",
    "ax.set_ylabel('sepal width (cm)')\n",
    "ax.set_xlabel('target')\n",
    "plt.title(\"Distribuzione di \\\"sepal width (cm)\\\" in funzione di \\\"target\\\"\")\n",
    "plt.show()"
   ],
   "metadata": {
    "colab": {
     "base_uri": "https://localhost:8080/",
     "height": 472
    },
    "id": "AWkt3uyAmtnk",
    "outputId": "9dd66934-24dc-42ac-e442-bff20162d7d0",
    "executionInfo": {
     "status": "ok",
     "timestamp": 1700412127649,
     "user_tz": -60,
     "elapsed": 206,
     "user": {
      "displayName": "Davide Costantini",
      "userId": "04876007539952493084"
     }
    }
   },
   "execution_count": 116,
   "outputs": [
    {
     "output_type": "display_data",
     "data": {
      "text/plain": [
       "<Figure size 640x480 with 1 Axes>"
      ],
      "image/png": "[encoded data removed]"
     },
     "metadata": {}
    }
   ]
  },
  {
   "cell_type": "markdown",
   "source": [
    "Facciamo uno scatter plot per capire la relazione tra *petal length (cm)* e *petal width (cm)*."
   ],
   "metadata": {
    "id": "DRKmZIL1nsDW"
   }
  },
  {
   "cell_type": "code",
   "source": [
    "df"
   ],
   "metadata": {
    "colab": {
     "base_uri": "https://localhost:8080/",
     "height": 419
    },
    "id": "MLr3QNR4Li5f",
    "outputId": "d0edcd66-d7f3-46cb-9c40-2da0e1f84146",
    "executionInfo": {
     "status": "ok",
     "timestamp": 1700412127999,
     "user_tz": -60,
     "elapsed": 556,
     "user": {
      "displayName": "Davide Costantini",
      "userId": "04876007539952493084"
     }
    }
   },
   "execution_count": 117,
   "outputs": [
    {
     "output_type": "execute_result",
     "data": {
      "text/plain": [
       "     sepal length (cm)  sepal width (cm)  petal length (cm)  petal width (cm)  \\\n",
       "0                  5.1               3.5                1.4               0.2   \n",
       "1                  4.9               3.0                1.4               0.2   \n",
       "2                  4.7               3.2                1.3               0.2   \n",
       "3                  4.6               3.1                1.5               0.2   \n",
       "4                  5.0               3.6                1.4               0.2   \n",
       "..                 ...               ...                ...               ...   \n",
       "145                6.7               3.0                5.2               2.3   \n",
       "146                6.3               2.5                5.0               1.9   \n",
       "147                6.5               3.0                5.2               2.0   \n",
       "148                6.2               3.4                5.4               2.3   \n",
       "149                5.9               3.0                5.1               1.8   \n",
       "\n",
       "    target  \n",
       "0        0  \n",
       "1        0  \n",
       "2        0  \n",
       "3        0  \n",
       "4        0  \n",
       "..     ...  \n",
       "145      2  \n",
       "146      2  \n",
       "147      2  \n",
       "148      2  \n",
       "149      2  \n",
       "\n",
       "[150 rows x 5 columns]"
      ],
      "text/html": [
       "\n",
       "  <div id=\"df-ec0c7bd4-fef1-4a72-87ae-d2a79bf00a71\" class=\"colab-df-container\">\n",
       "    <div>\n",
       "<style scoped>\n",
       "    .dataframe tbody tr th:only-of-type {\n",
       "        vertical-align: middle;\n",
       "    }\n",
       "\n",
       "    .dataframe tbody tr th {\n",
       "        vertical-align: top;\n",
       "    }\n",
       "\n",
       "    .dataframe thead th {\n",
       "        text-align: right;\n",
       "    }\n",
       "</style>\n",
       "<table border=\"1\" class=\"dataframe\">\n",
       "  <thead>\n",
       "    <tr style=\"text-align: right;\">\n",
       "      <th></th>\n",
       "      <th>sepal length (cm)</th>\n",
       "      <th>sepal width (cm)</th>\n",
       "      <th>petal length (cm)</th>\n",
       "      <th>petal width (cm)</th>\n",
       "      <th>target</th>\n",
       "    </tr>\n",
       "  </thead>\n",
       "  <tbody>\n",
       "    <tr>\n",
       "      <th>0</th>\n",
       "      <td>5.1</td>\n",
       "      <td>3.5</td>\n",
       "      <td>1.4</td>\n",
       "      <td>0.2</td>\n",
       "      <td>0</td>\n",
       "    </tr>\n",
       "    <tr>\n",
       "      <th>1</th>\n",
       "      <td>4.9</td>\n",
       "      <td>3.0</td>\n",
       "      <td>1.4</td>\n",
       "      <td>0.2</td>\n",
       "      <td>0</td>\n",
       "    </tr>\n",
       "    <tr>\n",
       "      <th>2</th>\n",
       "      <td>4.7</td>\n",
       "      <td>3.2</td>\n",
       "      <td>1.3</td>\n",
       "      <td>0.2</td>\n",
       "      <td>0</td>\n",
       "    </tr>\n",
       "    <tr>\n",
       "      <th>3</th>\n",
       "      <td>4.6</td>\n",
       "      <td>3.1</td>\n",
       "      <td>1.5</td>\n",
       "      <td>0.2</td>\n",
       "      <td>0</td>\n",
       "    </tr>\n",
       "    <tr>\n",
       "      <th>4</th>\n",
       "      <td>5.0</td>\n",
       "      <td>3.6</td>\n",
       "      <td>1.4</td>\n",
       "      <td>0.2</td>\n",
       "      <td>0</td>\n",
       "    </tr>\n",
       "    <tr>\n",
       "      <th>...</th>\n",
       "      <td>...</td>\n",
       "      <td>...</td>\n",
       "      <td>...</td>\n",
       "      <td>...</td>\n",
       "      <td>...</td>\n",
       "    </tr>\n",
       "    <tr>\n",
       "      <th>145</th>\n",
       "      <td>6.7</td>\n",
       "      <td>3.0</td>\n",
       "      <td>5.2</td>\n",
       "      <td>2.3</td>\n",
       "      <td>2</td>\n",
       "    </tr>\n",
       "    <tr>\n",
       "      <th>146</th>\n",
       "      <td>6.3</td>\n",
       "      <td>2.5</td>\n",
       "      <td>5.0</td>\n",
       "      <td>1.9</td>\n",
       "      <td>2</td>\n",
       "    </tr>\n",
       "    <tr>\n",
       "      <th>147</th>\n",
       "      <td>6.5</td>\n",
       "      <td>3.0</td>\n",
       "      <td>5.2</td>\n",
       "      <td>2.0</td>\n",
       "      <td>2</td>\n",
       "    </tr>\n",
       "    <tr>\n",
       "      <th>148</th>\n",
       "      <td>6.2</td>\n",
       "      <td>3.4</td>\n",
       "      <td>5.4</td>\n",
       "      <td>2.3</td>\n",
       "      <td>2</td>\n",
       "    </tr>\n",
       "    <tr>\n",
       "      <th>149</th>\n",
       "      <td>5.9</td>\n",
       "      <td>3.0</td>\n",
       "      <td>5.1</td>\n",
       "      <td>1.8</td>\n",
       "      <td>2</td>\n",
       "    </tr>\n",
       "  </tbody>\n",
       "</table>\n",
       "<p>150 rows × 5 columns</p>\n",
       "</div>\n",
       "    <div class=\"colab-df-buttons\">\n",
       "\n",
       "  <div class=\"colab-df-container\">\n",
       "    <button class=\"colab-df-convert\" onclick=\"convertToInteractive('df-ec0c7bd4-fef1-4a72-87ae-d2a79bf00a71')\"\n",
       "            title=\"Convert this dataframe to an interactive table.\"\n",
       "            style=\"display:none;\">\n",
       "\n",
       "  <svg xmlns=\"http://www.w3.org/2000/svg\" height=\"24px\" viewBox=\"0 -960 960 960\">\n",
       "    <path d=\"M120-120v-720h720v720H120Zm60-500h600v-160H180v160Zm220 220h160v-160H400v160Zm0 220h160v-160H400v160ZM180-400h160v-160H180v160Zm440 0h160v-160H620v160ZM180-180h160v-160H180v160Zm440 0h160v-160H620v160Z\"/>\n",
       "  </svg>\n",
       "    </button>\n",
       "\n",
       "  <style>\n",
       "    .colab-df-container {\n",
       "      display:flex;\n",
       "      gap: 12px;\n",
       "    }\n",
       "\n",
       "    .colab-df-convert {\n",
       "      background-color: #E8F0FE;\n",
       "      border: none;\n",
       "      border-radius: 50%;\n",
       "      cursor: pointer;\n",
       "      display: none;\n",
       "      fill: #1967D2;\n",
       "      height: 32px;\n",
       "      padding: 0 0 0 0;\n",
       "      width: 32px;\n",
       "    }\n",
       "\n",
       "    .colab-df-convert:hover {\n",
       "      background-color: #E2EBFA;\n",
       "      box-shadow: 0px 1px 2px rgba(60, 64, 67, 0.3), 0px 1px 3px 1px rgba(60, 64, 67, 0.15);\n",
       "      fill: #174EA6;\n",
       "    }\n",
       "\n",
       "    .colab-df-buttons div {\n",
       "      margin-bottom: 4px;\n",
       "    }\n",
       "\n",
       "    [theme=dark] .colab-df-convert {\n",
       "      background-color: #3B4455;\n",
       "      fill: #D2E3FC;\n",
       "    }\n",
       "\n",
       "    [theme=dark] .colab-df-convert:hover {\n",
       "      background-color: #434B5C;\n",
       "      box-shadow: 0px 1px 3px 1px rgba(0, 0, 0, 0.15);\n",
       "      filter: drop-shadow(0px 1px 2px rgba(0, 0, 0, 0.3));\n",
       "      fill: #FFFFFF;\n",
       "    }\n",
       "  </style>\n",
       "\n",
       "    <script>\n",
       "      const buttonEl =\n",
       "        document.querySelector('#df-ec0c7bd4-fef1-4a72-87ae-d2a79bf00a71 button.colab-df-convert');\n",
       "      buttonEl.style.display =\n",
       "        google.colab.kernel.accessAllowed ? 'block' : 'none';\n",
       "\n",
       "      async function convertToInteractive(key) {\n",
       "        const element = document.querySelector('#df-ec0c7bd4-fef1-4a72-87ae-d2a79bf00a71');\n",
       "        const dataTable =\n",
       "          await google.colab.kernel.invokeFunction('convertToInteractive',\n",
       "                                                    [key], {});\n",
       "        if (!dataTable) return;\n",
       "\n",
       "        const docLinkHtml = 'Like what you see? Visit the ' +\n",
       "          '<a target=\"_blank\" href=https://colab.research.google.com/notebooks/data_table.ipynb>data table notebook</a>'\n",
       "          + ' to learn more about interactive tables.';\n",
       "        element.innerHTML = '';\n",
       "        dataTable['output_type'] = 'display_data';\n",
       "        await google.colab.output.renderOutput(dataTable, element);\n",
       "        const docLink = document.createElement('div');\n",
       "        docLink.innerHTML = docLinkHtml;\n",
       "        element.appendChild(docLink);\n",
       "      }\n",
       "    </script>\n",
       "  </div>\n",
       "\n",
       "\n",
       "<div id=\"df-b64773b2-a878-4abc-8b62-d1f723093021\">\n",
       "  <button class=\"colab-df-quickchart\" onclick=\"quickchart('df-b64773b2-a878-4abc-8b62-d1f723093021')\"\n",
       "            title=\"Suggest charts\"\n",
       "            style=\"display:none;\">\n",
       "\n",
       "<svg xmlns=\"http://www.w3.org/2000/svg\" height=\"24px\"viewBox=\"0 0 24 24\"\n",
       "     width=\"24px\">\n",
       "    <g>\n",
       "        <path d=\"M19 3H5c-1.1 0-2 .9-2 2v14c0 1.1.9 2 2 2h14c1.1 0 2-.9 2-2V5c0-1.1-.9-2-2-2zM9 17H7v-7h2v7zm4 0h-2V7h2v10zm4 0h-2v-4h2v4z\"/>\n",
       "    </g>\n",
       "</svg>\n",
       "  </button>\n",
       "\n",
       "<style>\n",
       "  .colab-df-quickchart {\n",
       "      --bg-color: #E8F0FE;\n",
       "      --fill-color: #1967D2;\n",
       "      --hover-bg-color: #E2EBFA;\n",
       "      --hover-fill-color: #174EA6;\n",
       "      --disabled-fill-color: #AAA;\n",
       "      --disabled-bg-color: #DDD;\n",
       "  }\n",
       "\n",
       "  [theme=dark] .colab-df-quickchart {\n",
       "      --bg-color: #3B4455;\n",
       "      --fill-color: #D2E3FC;\n",
       "      --hover-bg-color: #434B5C;\n",
       "      --hover-fill-color: #FFFFFF;\n",
       "      --disabled-bg-color: #3B4455;\n",
       "      --disabled-fill-color: #666;\n",
       "  }\n",
       "\n",
       "  .colab-df-quickchart {\n",
       "    background-color: var(--bg-color);\n",
       "    border: none;\n",
       "    border-radius: 50%;\n",
       "    cursor: pointer;\n",
       "    display: none;\n",
       "    fill: var(--fill-color);\n",
       "    height: 32px;\n",
       "    padding: 0;\n",
       "    width: 32px;\n",
       "  }\n",
       "\n",
       "  .colab-df-quickchart:hover {\n",
       "    background-color: var(--hover-bg-color);\n",
       "    box-shadow: 0 1px 2px rgba(60, 64, 67, 0.3), 0 1px 3px 1px rgba(60, 64, 67, 0.15);\n",
       "    fill: var(--button-hover-fill-color);\n",
       "  }\n",
       "\n",
       "  .colab-df-quickchart-complete:disabled,\n",
       "  .colab-df-quickchart-complete:disabled:hover {\n",
       "    background-color: var(--disabled-bg-color);\n",
       "    fill: var(--disabled-fill-color);\n",
       "    box-shadow: none;\n",
       "  }\n",
       "\n",
       "  .colab-df-spinner {\n",
       "    border: 2px solid var(--fill-color);\n",
       "    border-color: transparent;\n",
       "    border-bottom-color: var(--fill-color);\n",
       "    animation:\n",
       "      spin 1s steps(1) infinite;\n",
       "  }\n",
       "\n",
       "  @keyframes spin {\n",
       "    0% {\n",
       "      border-color: transparent;\n",
       "      border-bottom-color: var(--fill-color);\n",
       "      border-left-color: var(--fill-color);\n",
       "    }\n",
       "    20% {\n",
       "      border-color: transparent;\n",
       "      border-left-color: var(--fill-color);\n",
       "      border-top-color: var(--fill-color);\n",
       "    }\n",
       "    30% {\n",
       "      border-color: transparent;\n",
       "      border-left-color: var(--fill-color);\n",
       "      border-top-color: var(--fill-color);\n",
       "      border-right-color: var(--fill-color);\n",
       "    }\n",
       "    40% {\n",
       "      border-color: transparent;\n",
       "      border-right-color: var(--fill-color);\n",
       "      border-top-color: var(--fill-color);\n",
       "    }\n",
       "    60% {\n",
       "      border-color: transparent;\n",
       "      border-right-color: var(--fill-color);\n",
       "    }\n",
       "    80% {\n",
       "      border-color: transparent;\n",
       "      border-right-color: var(--fill-color);\n",
       "      border-bottom-color: var(--fill-color);\n",
       "    }\n",
       "    90% {\n",
       "      border-color: transparent;\n",
       "      border-bottom-color: var(--fill-color);\n",
       "    }\n",
       "  }\n",
       "</style>\n",
       "\n",
       "  <script>\n",
       "    async function quickchart(key) {\n",
       "      const quickchartButtonEl =\n",
       "        document.querySelector('#' + key + ' button');\n",
       "      quickchartButtonEl.disabled = true;  // To prevent multiple clicks.\n",
       "      quickchartButtonEl.classList.add('colab-df-spinner');\n",
       "      try {\n",
       "        const charts = await google.colab.kernel.invokeFunction(\n",
       "            'suggestCharts', [key], {});\n",
       "      } catch (error) {\n",
       "        console.error('Error during call to suggestCharts:', error);\n",
       "      }\n",
       "      quickchartButtonEl.classList.remove('colab-df-spinner');\n",
       "      quickchartButtonEl.classList.add('colab-df-quickchart-complete');\n",
       "    }\n",
       "    (() => {\n",
       "      let quickchartButtonEl =\n",
       "        document.querySelector('#df-b64773b2-a878-4abc-8b62-d1f723093021 button');\n",
       "      quickchartButtonEl.style.display =\n",
       "        google.colab.kernel.accessAllowed ? 'block' : 'none';\n",
       "    })();\n",
       "  </script>\n",
       "</div>\n",
       "    </div>\n",
       "  </div>\n"
      ]
     },
     "metadata": {},
     "execution_count": 117
    }
   ]
  },
  {
   "cell_type": "code",
   "source": [
    "import seaborn as sns\n",
    "ax = sns.scatterplot(x=df[\"petal length (cm)\"], y=df[\"petal width (cm)\"], hue = df[\"target\"])"
   ],
   "metadata": {
    "colab": {
     "base_uri": "https://localhost:8080/",
     "height": 449
    },
    "id": "kkW1f4vjMq4g",
    "outputId": "f572f481-38e0-44d8-b225-ac88be7dab21",
    "executionInfo": {
     "status": "ok",
     "timestamp": 1700412128605,
     "user_tz": -60,
     "elapsed": 714,
     "user": {
      "displayName": "Davide Costantini",
      "userId": "04876007539952493084"
     }
    }
   },
   "execution_count": 118,
   "outputs": [
    {
     "output_type": "display_data",
     "data": {
      "text/plain": [
       "<Figure size 640x480 with 1 Axes>"
      ],
      "image/png": "[encoded data removed]"
     },
     "metadata": {}
    }
   ]
  },
  {
   "cell_type": "markdown",
   "source": [
    "## Assignment\n",
    "\n",
    "Effettuare un'analisi multivariata: creare un multi-plot a coppie di covariate per individuare potenziali aspetti favorevoli o criticità del dataset in oggetto.\n"
   ],
   "metadata": {
    "id": "KfGd1f5sJOnd"
   }
  }
 ]
}
