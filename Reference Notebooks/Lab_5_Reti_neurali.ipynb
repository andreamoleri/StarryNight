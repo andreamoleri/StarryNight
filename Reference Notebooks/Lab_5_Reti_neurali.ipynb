{
 "nbformat": 4,
 "nbformat_minor": 0,
 "metadata": {
  "colab": {
   "provenance": []
  },
  "kernelspec": {
   "name": "python3",
   "language": "python",
   "display_name": "Python 3 (ipykernel)"
  },
  "language_info": {
   "name": "python"
  }
 },
 "cells": [
  {
   "cell_type": "markdown",
   "source": [
    "# Reti Neurali\n",
    "\n",
    "In questo laboratorio vedremo come applicare le reti neurali al dataset **Iris**.\n",
    "Iniziamo con l'import del dataset."
   ],
   "metadata": {
    "id": "UJl8Iw_9o76K"
   }
  },
  {
   "cell_type": "code",
   "execution_count": 2,
   "metadata": {
    "colab": {
     "base_uri": "https://localhost:8080/",
     "height": 206
    },
    "id": "kx6j6dO2o3Vt",
    "outputId": "52040851-1ca0-4f7c-8b5a-8e19bf332201",
    "executionInfo": {
     "status": "ok",
     "timestamp": 1700667931525,
     "user_tz": -60,
     "elapsed": 1680,
     "user": {
      "displayName": "Davide Costantini",
      "userId": "04876007539952493084"
     }
    },
    "ExecuteTime": {
     "end_time": "2024-01-02T11:18:56.668168Z",
     "start_time": "2024-01-02T11:18:56.444943Z"
    }
   },
   "outputs": [
    {
     "data": {
      "text/plain": "   sepal length (cm)  sepal width (cm)  petal length (cm)  petal width (cm)  \\\n0                5.1               3.5                1.4               0.2   \n1                4.9               3.0                1.4               0.2   \n2                4.7               3.2                1.3               0.2   \n3                4.6               3.1                1.5               0.2   \n4                5.0               3.6                1.4               0.2   \n\n   target  \n0       0  \n1       0  \n2       0  \n3       0  \n4       0  ",
      "text/html": "<div>\n<style scoped>\n    .dataframe tbody tr th:only-of-type {\n        vertical-align: middle;\n    }\n\n    .dataframe tbody tr th {\n        vertical-align: top;\n    }\n\n    .dataframe thead th {\n        text-align: right;\n    }\n</style>\n<table border=\"1\" class=\"dataframe\">\n  <thead>\n    <tr style=\"text-align: right;\">\n      <th></th>\n      <th>sepal length (cm)</th>\n      <th>sepal width (cm)</th>\n      <th>petal length (cm)</th>\n      <th>petal width (cm)</th>\n      <th>target</th>\n    </tr>\n  </thead>\n  <tbody>\n    <tr>\n      <th>0</th>\n      <td>5.1</td>\n      <td>3.5</td>\n      <td>1.4</td>\n      <td>0.2</td>\n      <td>0</td>\n    </tr>\n    <tr>\n      <th>1</th>\n      <td>4.9</td>\n      <td>3.0</td>\n      <td>1.4</td>\n      <td>0.2</td>\n      <td>0</td>\n    </tr>\n    <tr>\n      <th>2</th>\n      <td>4.7</td>\n      <td>3.2</td>\n      <td>1.3</td>\n      <td>0.2</td>\n      <td>0</td>\n    </tr>\n    <tr>\n      <th>3</th>\n      <td>4.6</td>\n      <td>3.1</td>\n      <td>1.5</td>\n      <td>0.2</td>\n      <td>0</td>\n    </tr>\n    <tr>\n      <th>4</th>\n      <td>5.0</td>\n      <td>3.6</td>\n      <td>1.4</td>\n      <td>0.2</td>\n      <td>0</td>\n    </tr>\n  </tbody>\n</table>\n</div>"
     },
     "execution_count": 2,
     "metadata": {},
     "output_type": "execute_result"
    }
   ],
   "source": [
    "import pandas as pd\n",
    "from sklearn.datasets import load_iris\n",
    "\n",
    "iris = load_iris()\n",
    "\n",
    "df = pd.DataFrame(data=iris.data, columns=iris.feature_names)\n",
    "df['target'] = iris.target\n",
    "\n",
    "df.head()"
   ]
  },
  {
   "cell_type": "markdown",
   "source": [
    "Dividiamo il dataset di iris in train e test"
   ],
   "metadata": {
    "id": "oJncwa-nqLJ2"
   }
  },
  {
   "cell_type": "code",
   "source": [
    "from sklearn.model_selection import train_test_split\n",
    "\n",
    "X_train, X_test, y_train, y_test = train_test_split(df[iris.feature_names], df[\"target\"], test_size=0.3, random_state=42)"
   ],
   "metadata": {
    "id": "xjvhaiCMqNUh",
    "ExecuteTime": {
     "end_time": "2024-01-02T11:18:58.593183Z",
     "start_time": "2024-01-02T11:18:58.504469Z"
    }
   },
   "execution_count": 3,
   "outputs": []
  },
  {
   "cell_type": "markdown",
   "source": [
    "Per migliorare il training della rete neurale, standardizziamo tutte le features"
   ],
   "metadata": {
    "id": "Qh2a3haQpvpL"
   }
  },
  {
   "cell_type": "code",
   "source": [
    "from sklearn.preprocessing import StandardScaler\n",
    "\n",
    "scaler = StandardScaler()\n",
    "X_train[iris.feature_names] = scaler.fit_transform(X_train[iris.feature_names])\n",
    "X_test[iris.feature_names] = scaler.transform(X_test[iris.feature_names])\n",
    "\n",
    "X_train.describe()"
   ],
   "metadata": {
    "colab": {
     "base_uri": "https://localhost:8080/",
     "height": 300
    },
    "id": "gOM09e9ppheq",
    "outputId": "9e3d7d6e-ec17-4d1c-e47a-00b18944629f",
    "executionInfo": {
     "status": "ok",
     "timestamp": 1700667931529,
     "user_tz": -60,
     "elapsed": 39,
     "user": {
      "displayName": "Davide Costantini",
      "userId": "04876007539952493084"
     }
    },
    "ExecuteTime": {
     "end_time": "2024-01-02T11:19:03.071791Z",
     "start_time": "2024-01-02T11:19:03.025832Z"
    }
   },
   "execution_count": 4,
   "outputs": [
    {
     "data": {
      "text/plain": "       sepal length (cm)  sepal width (cm)  petal length (cm)  \\\ncount       1.050000e+02      1.050000e+02       1.050000e+02   \nmean        2.541882e-15     -9.755094e-16      -2.706829e-16   \nstd         1.004796e+00      1.004796e+00       1.004796e+00   \nmin        -1.860374e+00     -2.421442e+00      -1.617194e+00   \n25%        -8.957355e-01     -5.025635e-01      -1.266959e+00   \n50%        -5.167705e-02     -2.284379e-02       2.507234e-01   \n75%         6.718016e-01      6.967357e-01       7.177026e-01   \nmax         2.239339e+00      2.855474e+00       1.651661e+00   \n\n       petal width (cm)  \ncount      1.050000e+02  \nmean       1.353415e-16  \nstd        1.004796e+00  \nmin       -1.540971e+00  \n25%       -1.135113e+00  \n50%        8.245999e-02  \n75%        7.588896e-01  \nmax        1.705891e+00  ",
      "text/html": "<div>\n<style scoped>\n    .dataframe tbody tr th:only-of-type {\n        vertical-align: middle;\n    }\n\n    .dataframe tbody tr th {\n        vertical-align: top;\n    }\n\n    .dataframe thead th {\n        text-align: right;\n    }\n</style>\n<table border=\"1\" class=\"dataframe\">\n  <thead>\n    <tr style=\"text-align: right;\">\n      <th></th>\n      <th>sepal length (cm)</th>\n      <th>sepal width (cm)</th>\n      <th>petal length (cm)</th>\n      <th>petal width (cm)</th>\n    </tr>\n  </thead>\n  <tbody>\n    <tr>\n      <th>count</th>\n      <td>1.050000e+02</td>\n      <td>1.050000e+02</td>\n      <td>1.050000e+02</td>\n      <td>1.050000e+02</td>\n    </tr>\n    <tr>\n      <th>mean</th>\n      <td>2.541882e-15</td>\n      <td>-9.755094e-16</td>\n      <td>-2.706829e-16</td>\n      <td>1.353415e-16</td>\n    </tr>\n    <tr>\n      <th>std</th>\n      <td>1.004796e+00</td>\n      <td>1.004796e+00</td>\n      <td>1.004796e+00</td>\n      <td>1.004796e+00</td>\n    </tr>\n    <tr>\n      <th>min</th>\n      <td>-1.860374e+00</td>\n      <td>-2.421442e+00</td>\n      <td>-1.617194e+00</td>\n      <td>-1.540971e+00</td>\n    </tr>\n    <tr>\n      <th>25%</th>\n      <td>-8.957355e-01</td>\n      <td>-5.025635e-01</td>\n      <td>-1.266959e+00</td>\n      <td>-1.135113e+00</td>\n    </tr>\n    <tr>\n      <th>50%</th>\n      <td>-5.167705e-02</td>\n      <td>-2.284379e-02</td>\n      <td>2.507234e-01</td>\n      <td>8.245999e-02</td>\n    </tr>\n    <tr>\n      <th>75%</th>\n      <td>6.718016e-01</td>\n      <td>6.967357e-01</td>\n      <td>7.177026e-01</td>\n      <td>7.588896e-01</td>\n    </tr>\n    <tr>\n      <th>max</th>\n      <td>2.239339e+00</td>\n      <td>2.855474e+00</td>\n      <td>1.651661e+00</td>\n      <td>1.705891e+00</td>\n    </tr>\n  </tbody>\n</table>\n</div>"
     },
     "execution_count": 4,
     "metadata": {},
     "output_type": "execute_result"
    }
   ]
  },
  {
   "cell_type": "markdown",
   "source": [
    "Convertiamo la label a categorica. In questo lab useremo la libreria **Keras**, poichè consente di implementare facilmente le reti neurali. Invece, la libreria Scikit-learn viene usata per modelli di machine learning base.\n",
    "\n",
    "Ogni etichetta di classe sarà mappata ad un vettore one-hot:\n",
    "* etichetta 1 --> [1, 0, 0]\n",
    "* etichetta 2 --> [0, 1, 0]\n",
    "* etichetta 3 --> [0, 0, 1]"
   ],
   "metadata": {
    "id": "iypwdVWVrHyX"
   }
  },
  {
   "cell_type": "code",
   "source": [
    "import keras\n",
    "from keras.models import Sequential\n",
    "from keras.layers import Dense\n",
    "\n",
    "y_train = keras.utils.to_categorical(y_train)\n",
    "y_test = keras.utils.to_categorical(y_test)"
   ],
   "metadata": {
    "id": "guPez2CQrLGv",
    "ExecuteTime": {
     "end_time": "2024-01-02T11:19:05.258924Z",
     "start_time": "2024-01-02T11:19:05.252897Z"
    }
   },
   "execution_count": 5,
   "outputs": []
  },
  {
   "cell_type": "markdown",
   "source": [
    "A questo punto, utilizziamo la libreria **Keras** che permette di implementare facilmente una rete neurale"
   ],
   "metadata": {
    "id": "FUYCXS0Vq1f2"
   }
  },
  {
   "cell_type": "code",
   "source": [
    "from keras.models import Sequential\n",
    "from keras.layers import Dense\n",
    "\n",
    "# Definiamo l'archietettura della rete neurale:\n",
    "# un primo layer di input con 4 neuroni (perchè ci sono 4 features in input)\n",
    "# un scondo layer con 3 neuroni\n",
    "# un ultimo layer con 3 neuroni, poiché la label è un vettore di 3 componenti (es [0, 1, 0])\n",
    "model = Sequential()\n",
    "model.add(Dense(3, input_shape=(4,), activation='relu'))\n",
    "model.add(Dense(3, activation='softmax'))\n",
    "\n",
    "# Compile the model\n",
    "model.compile(loss='categorical_crossentropy', optimizer='adam', metrics=['accuracy'])\n",
    "\n",
    "keras.utils.plot_model(model, show_shapes=True)"
   ],
   "metadata": {
    "colab": {
     "base_uri": "https://localhost:8080/",
     "height": 312
    },
    "id": "WDImlWiDqzge",
    "outputId": "4195fa79-4e43-4fc5-e698-d2c605ba9400",
    "executionInfo": {
     "status": "ok",
     "timestamp": 1700667952631,
     "user_tz": -60,
     "elapsed": 0,
     "user": {
      "displayName": "Davide Costantini",
      "userId": "04876007539952493084"
     }
    },
    "ExecuteTime": {
     "end_time": "2024-01-02T11:19:08.649489Z",
     "start_time": "2024-01-02T11:19:07.648224Z"
    }
   },
   "execution_count": 6,
   "outputs": [
    {
     "data": {
      "image/png": "[encoded data removed]",
      "text/plain": "<IPython.core.display.Image object>"
     },
     "execution_count": 6,
     "metadata": {},
     "output_type": "execute_result"
    }
   ]
  },
  {
   "cell_type": "markdown",
   "source": [
    "Facciamo il training della rete e valutiamo le performance"
   ],
   "metadata": {
    "id": "mrohuiGvtbYu"
   }
  },
  {
   "cell_type": "code",
   "source": [
    "# Train the model\n",
    "model.fit(X_train, y_train, epochs=10, batch_size=5, verbose=1, validation_data=(X_test, y_test))\n",
    "\n",
    "# Evaluate the model on the test set\n",
    "score = model.evaluate(X_test, y_test, verbose=0)\n",
    "print('Test loss:', score[0])\n",
    "print('Test accuracy:', score[1])"
   ],
   "metadata": {
    "colab": {
     "base_uri": "https://localhost:8080/"
    },
    "id": "4Dt691NXslUE",
    "outputId": "d73df657-2a61-4948-efa0-c5cac6ac04a0",
    "executionInfo": {
     "status": "ok",
     "timestamp": 1700667952464,
     "user_tz": -60,
     "elapsed": 1,
     "user": {
      "displayName": "Davide Costantini",
      "userId": "04876007539952493084"
     }
    },
    "ExecuteTime": {
     "end_time": "2024-01-02T11:19:11.414572Z",
     "start_time": "2024-01-02T11:19:09.648573Z"
    }
   },
   "execution_count": 7,
   "outputs": [
    {
     "name": "stdout",
     "output_type": "stream",
     "text": [
      "Epoch 1/10\n",
      "21/21 [==============================] - 1s 12ms/step - loss: 1.8054 - accuracy: 0.2762 - val_loss: 2.1821 - val_accuracy: 0.1778\n",
      "Epoch 2/10\n",
      "21/21 [==============================] - 0s 3ms/step - loss: 1.7288 - accuracy: 0.2762 - val_loss: 2.0818 - val_accuracy: 0.1778\n",
      "Epoch 3/10\n",
      "21/21 [==============================] - 0s 3ms/step - loss: 1.6583 - accuracy: 0.2952 - val_loss: 1.9802 - val_accuracy: 0.1778\n",
      "Epoch 4/10\n",
      "21/21 [==============================] - 0s 3ms/step - loss: 1.5886 - accuracy: 0.3048 - val_loss: 1.8883 - val_accuracy: 0.2222\n",
      "Epoch 5/10\n",
      "21/21 [==============================] - 0s 3ms/step - loss: 1.5221 - accuracy: 0.3714 - val_loss: 1.8060 - val_accuracy: 0.2889\n",
      "Epoch 6/10\n",
      "21/21 [==============================] - 0s 3ms/step - loss: 1.4621 - accuracy: 0.3905 - val_loss: 1.7194 - val_accuracy: 0.3111\n",
      "Epoch 7/10\n",
      "21/21 [==============================] - 0s 3ms/step - loss: 1.4015 - accuracy: 0.4095 - val_loss: 1.6442 - val_accuracy: 0.3333\n",
      "Epoch 8/10\n",
      "21/21 [==============================] - 0s 3ms/step - loss: 1.3468 - accuracy: 0.4286 - val_loss: 1.5702 - val_accuracy: 0.3333\n",
      "Epoch 9/10\n",
      "21/21 [==============================] - 0s 3ms/step - loss: 1.2940 - accuracy: 0.4571 - val_loss: 1.5027 - val_accuracy: 0.3333\n",
      "Epoch 10/10\n",
      "21/21 [==============================] - 0s 3ms/step - loss: 1.2438 - accuracy: 0.4857 - val_loss: 1.4389 - val_accuracy: 0.3333\n",
      "Test loss: 1.4389017820358276\n",
      "Test accuracy: 0.3333333432674408\n"
     ]
    }
   ]
  },
  {
   "cell_type": "code",
   "source": [
    "from google.colab import drive\n",
    "\n",
    "drive.mount('/content/drive/')"
   ],
   "metadata": {
    "id": "cHpxZhUQ1eCT"
   },
   "execution_count": null,
   "outputs": []
  },
  {
   "cell_type": "code",
   "source": [
    "# serialize weights to HDF5\n",
    "model.save_weights(\"drive/MyDrive/Machine Learning 2023-2024/model.h5\")\n",
    "print(\"Saved model to disk\")\n",
    "model_json = model.to_json()\n",
    "with open(\"drive/MyDrive/Machine Learning 2023-2024/model.json\", \"w\") as json_file:\n",
    "    json_file.write(model_json)"
   ],
   "metadata": {
    "colab": {
     "base_uri": "https://localhost:8080/"
    },
    "id": "MIA50FnbT7Wn",
    "outputId": "489e8857-0d07-40d9-eb66-0dcbc89a0a1f",
    "executionInfo": {
     "status": "ok",
     "timestamp": 1700670089715,
     "user_tz": -60,
     "elapsed": 274,
     "user": {
      "displayName": "Davide Costantini",
      "userId": "04876007539952493084"
     }
    }
   },
   "execution_count": 10,
   "outputs": [
    {
     "output_type": "stream",
     "name": "stdout",
     "text": [
      "Saved model to disk\n"
     ]
    }
   ]
  },
  {
   "cell_type": "code",
   "source": [
    "\n"
   ],
   "metadata": {
    "id": "SIPjQUVsTv7G"
   },
   "execution_count": null,
   "outputs": []
  },
  {
   "cell_type": "markdown",
   "source": [
    "## Assignment\n",
    "\n",
    "1. Provare ad usare diverse funzioni di attivazione, come \"tanh\".\n",
    "2. Quante epoche sono necessarie per raggiungere la convergenza?\n",
    "3. Cosa succede cambiando l'architettura della rete?\n",
    "4. Cosa succede cambiando la loss function?"
   ],
   "metadata": {
    "id": "yl4HNBnFt5N2"
   }
  }
 ]
}
